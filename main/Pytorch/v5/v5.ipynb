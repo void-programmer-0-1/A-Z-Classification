{
  "nbformat": 4,
  "nbformat_minor": 0,
  "metadata": {
    "colab": {
      "name": "v5.ipynb",
      "provenance": []
    },
    "kernelspec": {
      "name": "python3",
      "display_name": "Python 3"
    },
    "language_info": {
      "name": "python"
    }
  },
  "cells": [
    {
      "cell_type": "code",
      "metadata": {
        "id": "SG8hqGQmrsJi"
      },
      "source": [
        "from zipfile import ZipFile\n",
        "import pandas as pd\n",
        "import numpy as np\n",
        "from torch.utils.data import Dataset,DataLoader\n",
        "import torchvision.transforms as transforms\n",
        "from PIL import Image\n",
        "import torch\n",
        "import torch.nn as nn\n",
        "\n",
        "from sklearn.model_selection import train_test_split"
      ],
      "execution_count": 22,
      "outputs": []
    },
    {
      "cell_type": "code",
      "metadata": {
        "colab": {
          "base_uri": "https://localhost:8080/"
        },
        "id": "np9jn0zorehM",
        "outputId": "11054d04-bdc6-40fb-f38f-af578ae62c24"
      },
      "source": [
        "from google.colab import drive\n",
        "drive.mount('/content/drive')"
      ],
      "execution_count": 2,
      "outputs": [
        {
          "output_type": "stream",
          "name": "stdout",
          "text": [
            "Mounted at /content/drive\n"
          ]
        }
      ]
    },
    {
      "cell_type": "code",
      "metadata": {
        "id": "Phynl0_Urhtb"
      },
      "source": [
        "zip_path = \"/content/drive/MyDrive/A-Z Dataset/A_Z Handwritten Data.csv.zip\""
      ],
      "execution_count": 3,
      "outputs": []
    },
    {
      "cell_type": "code",
      "metadata": {
        "id": "8ZO_AJTyrrkP"
      },
      "source": [
        "with ZipFile(zip_path) as zipfile:\n",
        "    zipfile.extractall()"
      ],
      "execution_count": 4,
      "outputs": []
    },
    {
      "cell_type": "code",
      "metadata": {
        "id": "o9BlKLnbr8WQ"
      },
      "source": [
        "csv_path = \"/content/A_Z Handwritten Data.csv\""
      ],
      "execution_count": 5,
      "outputs": []
    },
    {
      "cell_type": "code",
      "metadata": {
        "id": "0J6ES4PCr1O2"
      },
      "source": [
        "df = pd.read_csv(csv_path)"
      ],
      "execution_count": 6,
      "outputs": []
    },
    {
      "cell_type": "code",
      "metadata": {
        "id": "jRKeyGQfr6St"
      },
      "source": [
        "X = df.drop('0',axis = 1).to_numpy() # axis=1 is to say to drop along the columns\n",
        "y = df['0'].to_numpy()"
      ],
      "execution_count": 7,
      "outputs": []
    },
    {
      "cell_type": "code",
      "metadata": {
        "id": "WkppbGjmsDuM"
      },
      "source": [
        "X_train,X_test,y_train,y_test = train_test_split(X,y,test_size=0.2)"
      ],
      "execution_count": 8,
      "outputs": []
    },
    {
      "cell_type": "code",
      "metadata": {
        "id": "0_I4sL2VsLc0"
      },
      "source": [
        "del df"
      ],
      "execution_count": 9,
      "outputs": []
    },
    {
      "cell_type": "code",
      "metadata": {
        "id": "T4bSVK-asW-C"
      },
      "source": [
        "X_train, X_val, y_train, y_val = train_test_split(X_train,y_train,test_size=0.2)"
      ],
      "execution_count": 10,
      "outputs": []
    },
    {
      "cell_type": "code",
      "metadata": {
        "id": "SQ71wIjrshLx"
      },
      "source": [
        "class Alphabets(Dataset):\n",
        "\n",
        "  def __init__(self,X,y,transform=None):\n",
        "    self.X = X\n",
        "    self.y = y\n",
        "    self.transform = transform\n",
        "  \n",
        "  def __len__(self):\n",
        "    return len(self.X)\n",
        "  \n",
        "  def __getitem__(self,index):\n",
        "\n",
        "    image = Image.fromarray(((self.X[index]).astype(np.uint8)).reshape(28,28))\n",
        "    label = self.y[index]\n",
        "\n",
        "    if self.transform != None:\n",
        "      image = self.transform(image)\n",
        "    \n",
        "    return image,label\n"
      ],
      "execution_count": 11,
      "outputs": []
    },
    {
      "cell_type": "code",
      "metadata": {
        "id": "wHLzRK9Usu3S"
      },
      "source": [
        "transform = transforms.Compose([\n",
        "         transforms.ToTensor(),\n",
        "         transforms.RandomAffine(degrees=(-50,50),\n",
        "                                 translate=(0.2, 0.2),\n",
        "                                 scale=(0.5, 0.75),\n",
        "                                 shear=(-30, 30, -30, 30))                      \n",
        "])"
      ],
      "execution_count": 27,
      "outputs": []
    },
    {
      "cell_type": "code",
      "metadata": {
        "id": "eX8pWO6LtV49"
      },
      "source": [
        "train_dataset = Alphabets(X_train,y_train,transform)\n",
        "test_dataset = Alphabets(X_test,y_test,transform)\n",
        "val_dataset = Alphabets(X_val,y_val,transform)"
      ],
      "execution_count": 28,
      "outputs": []
    },
    {
      "cell_type": "code",
      "metadata": {
        "id": "U3QpJ0vgta-N"
      },
      "source": [
        "train_dataset_loader = DataLoader(train_dataset,batch_size=100,shuffle=True)\n",
        "test_dataset_loader = DataLoader(test_dataset,batch_size=100,shuffle=True)\n",
        "val_dataset_loader = DataLoader(val_dataset,batch_size=100,shuffle=True)"
      ],
      "execution_count": 29,
      "outputs": []
    },
    {
      "cell_type": "code",
      "metadata": {
        "id": "uLIv218wtdWN"
      },
      "source": [
        "import torchvision\n",
        "\n",
        "inputs_batch, labels_batch = next(iter(train_dataset_loader))\n",
        "grid = torchvision.utils.make_grid(inputs_batch, nrow=40, pad_value=1)\n",
        "torchvision.utils.save_image(grid, 'inputs_batch_preview.png')"
      ],
      "execution_count": 30,
      "outputs": []
    },
    {
      "cell_type": "code",
      "metadata": {
        "id": "h8vItNvEthDV"
      },
      "source": [
        "class NeuralNetwork(nn.Module):\n",
        "\n",
        "  def __init__(self):\n",
        "    super(NeuralNetwork,self).__init__()\n",
        "\n",
        "    self.layer1 = nn.Sequential(\n",
        "      nn.Conv2d(1,16,3,1,1),\n",
        "      nn.BatchNorm2d(16),\n",
        "      nn.ReLU(),\n",
        "      nn.MaxPool2d(2,2)\n",
        "    )\n",
        "\n",
        "    self.layer2 = nn.Sequential(\n",
        "      nn.Conv2d(16,32,3,1,1),\n",
        "      nn.BatchNorm2d(32),\n",
        "      nn.ReLU(),\n",
        "      nn.MaxPool2d(2,2)\n",
        "    )\n",
        "\n",
        "    self.layer3 = nn.Sequential(\n",
        "      nn.Conv2d(32,64,3,1,1),\n",
        "      nn.BatchNorm2d(64),\n",
        "      nn.ReLU(),\n",
        "      nn.MaxPool2d(2,2)\n",
        "    )\n",
        "\n",
        "    self.layer4 = nn.Sequential(\n",
        "      nn.Conv2d(64,128,3,1,1),\n",
        "      nn.BatchNorm2d(128),\n",
        "      nn.ReLU(),\n",
        "      nn.MaxPool2d(2,2)\n",
        "    )\n",
        "\n",
        "    self.FC = nn.Sequential(\n",
        "      nn.Linear(128,26)\n",
        "    )\n",
        "\n",
        "\n",
        "  def forward(self,x):\n",
        "    x = self.layer1(x)\n",
        "    x = self.layer2(x)\n",
        "    x = self.layer3(x)\n",
        "    x = self.layer4(x)\n",
        "    x = torch.flatten(x,1)\n",
        "    x = self.FC(x)\n",
        "\n",
        "    return x\n",
        "\n"
      ],
      "execution_count": 31,
      "outputs": []
    },
    {
      "cell_type": "code",
      "metadata": {
        "colab": {
          "base_uri": "https://localhost:8080/"
        },
        "id": "qs64JHnHeJvq",
        "outputId": "0b63aaec-2a3c-4441-acf0-fe07b84ea2bf"
      },
      "source": [
        "net = NeuralNetwork()\n",
        "net.train()"
      ],
      "execution_count": 32,
      "outputs": [
        {
          "output_type": "execute_result",
          "data": {
            "text/plain": [
              "NeuralNetwork(\n",
              "  (layer1): Sequential(\n",
              "    (0): Conv2d(1, 16, kernel_size=(3, 3), stride=(1, 1), padding=(1, 1))\n",
              "    (1): BatchNorm2d(16, eps=1e-05, momentum=0.1, affine=True, track_running_stats=True)\n",
              "    (2): ReLU()\n",
              "    (3): MaxPool2d(kernel_size=2, stride=2, padding=0, dilation=1, ceil_mode=False)\n",
              "  )\n",
              "  (layer2): Sequential(\n",
              "    (0): Conv2d(16, 32, kernel_size=(3, 3), stride=(1, 1), padding=(1, 1))\n",
              "    (1): BatchNorm2d(32, eps=1e-05, momentum=0.1, affine=True, track_running_stats=True)\n",
              "    (2): ReLU()\n",
              "    (3): MaxPool2d(kernel_size=2, stride=2, padding=0, dilation=1, ceil_mode=False)\n",
              "  )\n",
              "  (layer3): Sequential(\n",
              "    (0): Conv2d(32, 64, kernel_size=(3, 3), stride=(1, 1), padding=(1, 1))\n",
              "    (1): BatchNorm2d(64, eps=1e-05, momentum=0.1, affine=True, track_running_stats=True)\n",
              "    (2): ReLU()\n",
              "    (3): MaxPool2d(kernel_size=2, stride=2, padding=0, dilation=1, ceil_mode=False)\n",
              "  )\n",
              "  (layer4): Sequential(\n",
              "    (0): Conv2d(64, 128, kernel_size=(3, 3), stride=(1, 1), padding=(1, 1))\n",
              "    (1): BatchNorm2d(128, eps=1e-05, momentum=0.1, affine=True, track_running_stats=True)\n",
              "    (2): ReLU()\n",
              "    (3): MaxPool2d(kernel_size=2, stride=2, padding=0, dilation=1, ceil_mode=False)\n",
              "  )\n",
              "  (FC): Sequential(\n",
              "    (0): Linear(in_features=128, out_features=26, bias=True)\n",
              "  )\n",
              ")"
            ]
          },
          "metadata": {},
          "execution_count": 32
        }
      ]
    },
    {
      "cell_type": "code",
      "metadata": {
        "colab": {
          "base_uri": "https://localhost:8080/"
        },
        "id": "kYTZxFkheSmJ",
        "outputId": "56e6dff1-d6b2-41ec-aaad-1ccbf9a71fb2"
      },
      "source": [
        "net.load_state_dict(torch.load(\"/content/englishv2.pt\"))"
      ],
      "execution_count": 33,
      "outputs": [
        {
          "output_type": "execute_result",
          "data": {
            "text/plain": [
              "<All keys matched successfully>"
            ]
          },
          "metadata": {},
          "execution_count": 33
        }
      ]
    },
    {
      "cell_type": "code",
      "metadata": {
        "id": "fVGerqdoe3OZ"
      },
      "source": [
        "lr = 0.01\n",
        "loss_fn = nn.CrossEntropyLoss()\n",
        "optim = torch.optim.Adam(net.parameters(),lr)"
      ],
      "execution_count": 35,
      "outputs": []
    },
    {
      "cell_type": "code",
      "metadata": {
        "colab": {
          "base_uri": "https://localhost:8080/"
        },
        "id": "2OiJABVyefKb",
        "outputId": "fd8175fa-c1ba-42fe-e90c-d87a97c0d653"
      },
      "source": [
        "epochs = 15\n",
        "\n",
        "train_len = len(train_dataset_loader)\n",
        "val_len = len(val_dataset_loader)\n",
        "\n",
        "training_accuracy = []\n",
        "training_loss = []\n",
        "\n",
        "validation_accuracy = []\n",
        "validation_loss = []\n",
        "\n",
        "for epoch in range(epochs):\n",
        "\n",
        "  epoch_acc = 0\n",
        "  epoch_loss = 0\n",
        "\n",
        "  for batch_id,(image,label) in enumerate(train_dataset_loader):\n",
        "\n",
        "    output = net(image)\n",
        "\n",
        "    loss = loss_fn(output,label)\n",
        "\n",
        "    optim.zero_grad()\n",
        "    loss.backward()\n",
        "    optim.step()\n",
        "\n",
        "    acc = (output.argmax(dim=1) == label).float().mean()\n",
        "    epoch_acc += (acc.item() / len(train_dataset_loader)) \n",
        "    epoch_loss += (loss.item() / len(train_dataset_loader)) \n",
        "  \n",
        "  print(f\"Epoch :: [{epoch+1}/{epochs}] Train Accuracy :: {epoch_acc:.4f} Train Loss :: {epoch_loss:.4f}\") \n",
        "  \n",
        "  training_accuracy.append(epoch_acc)\n",
        "  training_loss.append(epoch_loss)\n",
        "\n",
        "  with torch.no_grad():\n",
        "\n",
        "    epoch_val_accuracy = 0\n",
        "    epoch_val_loss = 0\n",
        "    \n",
        "    for batch_id,(image, label) in enumerate(val_dataset_loader):\n",
        "  \n",
        "      val_output = net(image)\n",
        "      val_loss = loss_fn(val_output,label)\n",
        "      \n",
        "      val_acc = ((val_output.argmax(dim=1) == label).float().mean())\n",
        "      epoch_val_accuracy += (val_acc.item() / len(val_dataset_loader))  \n",
        "      epoch_val_loss += (val_loss.item() / len(val_dataset_loader))\n",
        "\n",
        "    print(f\"Epoch :: [{epoch+1}/{epochs}] Val Accuracy :: {epoch_val_accuracy:.4f} Val Loss :: {epoch_val_loss:.4f}\")\n",
        "\n",
        "    validation_accuracy.append(epoch_val_accuracy)\n",
        "    validation_loss.append(epoch_val_loss)\n",
        "    "
      ],
      "execution_count": 36,
      "outputs": [
        {
          "output_type": "stream",
          "name": "stdout",
          "text": [
            "Epoch :: [1/15] Train Accuracy :: 0.8861 Train Loss :: 0.3760\n",
            "Epoch :: [1/15] Val Accuracy :: 0.9034 Val Loss :: 0.3156\n",
            "Epoch :: [2/15] Train Accuracy :: 0.9073 Train Loss :: 0.3016\n",
            "Epoch :: [2/15] Val Accuracy :: 0.9129 Val Loss :: 0.2865\n",
            "Epoch :: [3/15] Train Accuracy :: 0.9139 Train Loss :: 0.2795\n",
            "Epoch :: [3/15] Val Accuracy :: 0.9158 Val Loss :: 0.2769\n",
            "Epoch :: [4/15] Train Accuracy :: 0.9181 Train Loss :: 0.2678\n",
            "Epoch :: [4/15] Val Accuracy :: 0.9184 Val Loss :: 0.2650\n",
            "Epoch :: [5/15] Train Accuracy :: 0.9196 Train Loss :: 0.2612\n",
            "Epoch :: [5/15] Val Accuracy :: 0.9204 Val Loss :: 0.2578\n",
            "Epoch :: [6/15] Train Accuracy :: 0.9208 Train Loss :: 0.2565\n",
            "Epoch :: [6/15] Val Accuracy :: 0.9208 Val Loss :: 0.2605\n",
            "Epoch :: [7/15] Train Accuracy :: 0.9234 Train Loss :: 0.2491\n",
            "Epoch :: [7/15] Val Accuracy :: 0.9215 Val Loss :: 0.2566\n",
            "Epoch :: [8/15] Train Accuracy :: 0.9239 Train Loss :: 0.2471\n",
            "Epoch :: [8/15] Val Accuracy :: 0.9242 Val Loss :: 0.2501\n",
            "Epoch :: [9/15] Train Accuracy :: 0.9262 Train Loss :: 0.2426\n",
            "Epoch :: [9/15] Val Accuracy :: 0.9268 Val Loss :: 0.2409\n",
            "Epoch :: [10/15] Train Accuracy :: 0.9274 Train Loss :: 0.2370\n",
            "Epoch :: [10/15] Val Accuracy :: 0.9236 Val Loss :: 0.2444\n",
            "Epoch :: [11/15] Train Accuracy :: 0.9273 Train Loss :: 0.2361\n",
            "Epoch :: [11/15] Val Accuracy :: 0.9265 Val Loss :: 0.2374\n",
            "Epoch :: [12/15] Train Accuracy :: 0.9289 Train Loss :: 0.2317\n",
            "Epoch :: [12/15] Val Accuracy :: 0.9271 Val Loss :: 0.2437\n",
            "Epoch :: [13/15] Train Accuracy :: 0.9288 Train Loss :: 0.2316\n",
            "Epoch :: [13/15] Val Accuracy :: 0.9250 Val Loss :: 0.2444\n",
            "Epoch :: [14/15] Train Accuracy :: 0.9292 Train Loss :: 0.2301\n",
            "Epoch :: [14/15] Val Accuracy :: 0.9304 Val Loss :: 0.2305\n",
            "Epoch :: [15/15] Train Accuracy :: 0.9301 Train Loss :: 0.2275\n",
            "Epoch :: [15/15] Val Accuracy :: 0.9254 Val Loss :: 0.2425\n"
          ]
        }
      ]
    },
    {
      "cell_type": "code",
      "metadata": {
        "id": "rERKcType11w"
      },
      "source": [
        "torch.save(net.state_dict,\"englishv5.pt\")"
      ],
      "execution_count": 49,
      "outputs": []
    },
    {
      "cell_type": "code",
      "metadata": {
        "colab": {
          "base_uri": "https://localhost:8080/",
          "height": 283
        },
        "id": "dKPvYmHQfZl-",
        "outputId": "77247722-28e7-4e9c-f8af-1cf348c3c6df"
      },
      "source": [
        "import matplotlib.pyplot as plt \n",
        "\n",
        "epochs_ = list(range(1,16))\n",
        "\n",
        "plt.plot(epochs_,training_accuracy)\n",
        "plt.plot(epochs_,validation_accuracy)"
      ],
      "execution_count": 47,
      "outputs": [
        {
          "output_type": "execute_result",
          "data": {
            "text/plain": [
              "[<matplotlib.lines.Line2D at 0x7f9cfa71eb90>]"
            ]
          },
          "metadata": {},
          "execution_count": 47
        },
        {
          "output_type": "display_data",
          "data": {
            "image/png": "[encoded data removed]",
            "text/plain": [
              "<Figure size 432x288 with 1 Axes>"
            ]
          },
          "metadata": {
            "needs_background": "light"
          }
        }
      ]
    },
    {
      "cell_type": "code",
      "metadata": {
        "colab": {
          "base_uri": "https://localhost:8080/",
          "height": 283
        },
        "id": "5tl_lgONg4zE",
        "outputId": "c4ba4139-a171-4d84-84fd-bc7fc957b24a"
      },
      "source": [
        "epochs_ = list(range(1,16))\n",
        "\n",
        "plt.plot(epochs_,training_loss)\n",
        "plt.plot(epochs_,validation_loss)"
      ],
      "execution_count": 48,
      "outputs": [
        {
          "output_type": "execute_result",
          "data": {
            "text/plain": [
              "[<matplotlib.lines.Line2D at 0x7f9cf8936950>]"
            ]
          },
          "metadata": {},
          "execution_count": 48
        },
        {
          "output_type": "display_data",
          "data": {
            "image/png": "[encoded data removed]",
            "text/plain": [
              "<Figure size 432x288 with 1 Axes>"
            ]
          },
          "metadata": {
            "needs_background": "light"
          }
        }
      ]
    },
    {
      "cell_type": "code",
      "metadata": {
        "id": "y3sXBbMw0RXB"
      },
      "source": [
        ""
      ],
      "execution_count": null,
      "outputs": []
    }
  ]
}