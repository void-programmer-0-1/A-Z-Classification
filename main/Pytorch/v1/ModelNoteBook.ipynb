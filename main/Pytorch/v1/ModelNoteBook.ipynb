{
  "nbformat": 4,
  "nbformat_minor": 0,
  "metadata": {
    "colab": {
      "name": "v6.ipynb",
      "provenance": [],
      "collapsed_sections": []
    },
    "kernelspec": {
      "name": "python3",
      "display_name": "Python 3"
    },
    "language_info": {
      "name": "python"
    }
  },
  "cells": [
    {
      "cell_type": "code",
      "metadata": {
        "id": "KSHZSKPramcf"
      },
      "source": [
        "import matplotlib.pyplot as plt\n",
        "import numpy as np\n",
        "import pandas as pd\n",
        "from zipfile import ZipFile\n",
        "from sklearn.model_selection import train_test_split\n",
        "\n",
        "import torch\n",
        "import torch.nn as nn\n",
        "import torchvision.transforms as transforms\n",
        "from PIL import Image\n",
        "from torch.utils.data import Dataset,DataLoader"
      ],
      "execution_count": null,
      "outputs": []
    },
    {
      "cell_type": "code",
      "metadata": {
        "colab": {
          "base_uri": "https://localhost:8080/"
        },
        "id": "opa2HgmLap7e",
        "outputId": "cc325d60-180b-4056-aa6c-084bdd4f12fd"
      },
      "source": [
        "from google.colab import drive\n",
        "drive.mount('/content/drive')"
      ],
      "execution_count": null,
      "outputs": [
        {
          "output_type": "stream",
          "name": "stdout",
          "text": [
            "Mounted at /content/drive\n"
          ]
        }
      ]
    },
    {
      "cell_type": "code",
      "metadata": {
        "id": "51awci_YaqSn"
      },
      "source": [
        "zip_path = \"/content/drive/MyDrive/A-Z Dataset/A_Z Handwritten Data.csv.zip\""
      ],
      "execution_count": null,
      "outputs": []
    },
    {
      "cell_type": "code",
      "metadata": {
        "id": "WkYTvUPXbDra"
      },
      "source": [
        "with ZipFile(zip_path) as zipfile:\n",
        "    zipfile.extractall()"
      ],
      "execution_count": null,
      "outputs": []
    },
    {
      "cell_type": "code",
      "metadata": {
        "id": "aEnBCCm4bSLU"
      },
      "source": [
        "csv_path = \"/content/A_Z Handwritten Data.csv\""
      ],
      "execution_count": null,
      "outputs": []
    },
    {
      "cell_type": "code",
      "metadata": {
        "id": "RL0cd0Ypb-no"
      },
      "source": [
        "df = pd.read_csv(csv_path)"
      ],
      "execution_count": null,
      "outputs": []
    },
    {
      "cell_type": "code",
      "metadata": {
        "colab": {
          "base_uri": "https://localhost:8080/"
        },
        "id": "RwA50Ml7cP-N",
        "outputId": "8d5db9c0-b50c-48a6-a712-ab6acd0bd366"
      },
      "source": [
        "df.shape"
      ],
      "execution_count": null,
      "outputs": [
        {
          "output_type": "execute_result",
          "data": {
            "text/plain": [
              "(372450, 785)"
            ]
          },
          "metadata": {},
          "execution_count": 9
        }
      ]
    },
    {
      "cell_type": "code",
      "metadata": {
        "colab": {
          "base_uri": "https://localhost:8080/"
        },
        "id": "j_8Yh78ucVV3",
        "outputId": "ced7af6b-0c05-4bc7-faac-e3f4b8ccafc8"
      },
      "source": [
        "df.columns"
      ],
      "execution_count": null,
      "outputs": [
        {
          "output_type": "execute_result",
          "data": {
            "text/plain": [
              "Index(['0', '0.1', '0.2', '0.3', '0.4', '0.5', '0.6', '0.7', '0.8', '0.9',\n",
              "       ...\n",
              "       '0.639', '0.640', '0.641', '0.642', '0.643', '0.644', '0.645', '0.646',\n",
              "       '0.647', '0.648'],\n",
              "      dtype='object', length=785)"
            ]
          },
          "metadata": {},
          "execution_count": 10
        }
      ]
    },
    {
      "cell_type": "code",
      "metadata": {
        "colab": {
          "base_uri": "https://localhost:8080/"
        },
        "id": "kxp8JyYNcaf4",
        "outputId": "37edc724-e87b-4bb7-acc1-b45605b4de2c"
      },
      "source": [
        "df.info()"
      ],
      "execution_count": null,
      "outputs": [
        {
          "output_type": "stream",
          "name": "stdout",
          "text": [
            "<class 'pandas.core.frame.DataFrame'>\n",
            "RangeIndex: 372450 entries, 0 to 372449\n",
            "Columns: 785 entries, 0 to 0.648\n",
            "dtypes: int64(785)\n",
            "memory usage: 2.2 GB\n"
          ]
        }
      ]
    },
    {
      "cell_type": "code",
      "metadata": {
        "id": "PKoWlVatuVsQ"
      },
      "source": [
        "X = df.drop('0',axis = 1).to_numpy() # axis=1 is to say to drop along the columns\n",
        "y = df['0'].to_numpy()"
      ],
      "execution_count": null,
      "outputs": []
    },
    {
      "cell_type": "code",
      "metadata": {
        "colab": {
          "base_uri": "https://localhost:8080/"
        },
        "id": "TNgZtsAjucoN",
        "outputId": "cf2ebf51-9b16-4322-f0ff-e469c1c10db8"
      },
      "source": [
        "X.shape"
      ],
      "execution_count": null,
      "outputs": [
        {
          "output_type": "execute_result",
          "data": {
            "text/plain": [
              "(372450, 784)"
            ]
          },
          "metadata": {},
          "execution_count": 31
        }
      ]
    },
    {
      "cell_type": "code",
      "metadata": {
        "colab": {
          "base_uri": "https://localhost:8080/"
        },
        "id": "vCSoN6wlug_N",
        "outputId": "c68b95ce-8013-434f-a6bc-d98548d13b77"
      },
      "source": [
        "y.shape"
      ],
      "execution_count": null,
      "outputs": [
        {
          "output_type": "execute_result",
          "data": {
            "text/plain": [
              "(372450,)"
            ]
          },
          "metadata": {},
          "execution_count": 32
        }
      ]
    },
    {
      "cell_type": "code",
      "metadata": {
        "colab": {
          "base_uri": "https://localhost:8080/",
          "height": 283
        },
        "id": "22qkDIZ-ulQf",
        "outputId": "4f000e2f-a2a8-4ca8-aa44-e130fa4f4f98"
      },
      "source": [
        "index = np.random.randint(0,372450)\n",
        "plt.imshow(X[index].reshape(28,28),cmap=\"gray\")"
      ],
      "execution_count": null,
      "outputs": [
        {
          "output_type": "execute_result",
          "data": {
            "text/plain": [
              "<matplotlib.image.AxesImage at 0x7fe1f3a5e1d0>"
            ]
          },
          "metadata": {},
          "execution_count": 38
        },
        {
          "output_type": "display_data",
          "data": {
            "image/png": "[encoded data removed]",
            "text/plain": [
              "<Figure size 432x288 with 1 Axes>"
            ]
          },
          "metadata": {
            "needs_background": "light"
          }
        }
      ]
    },
    {
      "cell_type": "code",
      "metadata": {
        "colab": {
          "base_uri": "https://localhost:8080/"
        },
        "id": "9SdteANKvkeV",
        "outputId": "2133a828-547d-49f2-92a6-758872b58033"
      },
      "source": [
        "372450 * 0.2 # size of the testing data"
      ],
      "execution_count": null,
      "outputs": [
        {
          "output_type": "execute_result",
          "data": {
            "text/plain": [
              "74490.0"
            ]
          },
          "metadata": {},
          "execution_count": 39
        }
      ]
    },
    {
      "cell_type": "code",
      "metadata": {
        "colab": {
          "base_uri": "https://localhost:8080/"
        },
        "id": "jZ8PmSkOvrWl",
        "outputId": "d08a0e1e-e329-45c9-ac88-87323ff6c807"
      },
      "source": [
        "372450 - 74490 # size of the training data"
      ],
      "execution_count": null,
      "outputs": [
        {
          "output_type": "execute_result",
          "data": {
            "text/plain": [
              "297960"
            ]
          },
          "metadata": {},
          "execution_count": 40
        }
      ]
    },
    {
      "cell_type": "code",
      "metadata": {
        "id": "0JEwrmBuu4Yb"
      },
      "source": [
        "X_train,X_test,y_train,y_test = train_test_split(X,y,test_size=0.2)"
      ],
      "execution_count": null,
      "outputs": []
    },
    {
      "cell_type": "code",
      "metadata": {
        "id": "qNyiWdld2BhD"
      },
      "source": [
        "def df"
      ],
      "execution_count": null,
      "outputs": []
    },
    {
      "cell_type": "code",
      "metadata": {
        "colab": {
          "base_uri": "https://localhost:8080/"
        },
        "id": "boZQI_4Pvxet",
        "outputId": "c6989e78-26c5-419a-866f-98fa4603307b"
      },
      "source": [
        "X_train.shape,y_train.shape"
      ],
      "execution_count": null,
      "outputs": [
        {
          "output_type": "execute_result",
          "data": {
            "text/plain": [
              "((297960, 784), (297960,))"
            ]
          },
          "metadata": {},
          "execution_count": 43
        }
      ]
    },
    {
      "cell_type": "code",
      "metadata": {
        "colab": {
          "base_uri": "https://localhost:8080/"
        },
        "id": "E6HckwA0v-Pi",
        "outputId": "69131535-9a7d-49c7-b7cd-726cca4aca0e"
      },
      "source": [
        "X_test.shape,y_test.shape"
      ],
      "execution_count": null,
      "outputs": [
        {
          "output_type": "execute_result",
          "data": {
            "text/plain": [
              "((74490, 784), (74490,))"
            ]
          },
          "metadata": {},
          "execution_count": 44
        }
      ]
    },
    {
      "cell_type": "code",
      "metadata": {
        "colab": {
          "base_uri": "https://localhost:8080/"
        },
        "id": "wkb_RiuQwc8O",
        "outputId": "d440af99-dae6-482b-fb22-580c422f267d"
      },
      "source": [
        "297960 * 0.2 # val dataset size"
      ],
      "execution_count": null,
      "outputs": [
        {
          "output_type": "execute_result",
          "data": {
            "text/plain": [
              "59592.0"
            ]
          },
          "metadata": {},
          "execution_count": 47
        }
      ]
    },
    {
      "cell_type": "code",
      "metadata": {
        "colab": {
          "base_uri": "https://localhost:8080/"
        },
        "id": "R9EAIXgYwjEK",
        "outputId": "1454354d-2a4e-4803-dccd-1ff12934ab94"
      },
      "source": [
        "297960 - 59592 # training dataset size"
      ],
      "execution_count": null,
      "outputs": [
        {
          "output_type": "execute_result",
          "data": {
            "text/plain": [
              "238368"
            ]
          },
          "metadata": {},
          "execution_count": 48
        }
      ]
    },
    {
      "cell_type": "code",
      "metadata": {
        "id": "EvNtofMywDQr"
      },
      "source": [
        "# now take some for validation\n",
        "X_train, X_val, y_train, y_val = train_test_split(X_train,y_train,test_size=0.2)"
      ],
      "execution_count": null,
      "outputs": []
    },
    {
      "cell_type": "code",
      "metadata": {
        "colab": {
          "base_uri": "https://localhost:8080/"
        },
        "id": "wBzy27LEwbBJ",
        "outputId": "c0813232-84c7-4af4-89b1-ccd8bcb98b4f"
      },
      "source": [
        "X_train.shape,X_val.shape"
      ],
      "execution_count": null,
      "outputs": [
        {
          "output_type": "execute_result",
          "data": {
            "text/plain": [
              "((238368, 784), (59592, 784))"
            ]
          },
          "metadata": {},
          "execution_count": 49
        }
      ]
    },
    {
      "cell_type": "code",
      "metadata": {
        "colab": {
          "base_uri": "https://localhost:8080/"
        },
        "id": "VHAYA7-Kw3d1",
        "outputId": "30cfb4af-df63-4ca9-cd60-e6fc5acadf84"
      },
      "source": [
        "y_train.shape,y_val.shape"
      ],
      "execution_count": null,
      "outputs": [
        {
          "output_type": "execute_result",
          "data": {
            "text/plain": [
              "((238368,), (59592,))"
            ]
          },
          "metadata": {},
          "execution_count": 50
        }
      ]
    },
    {
      "cell_type": "code",
      "metadata": {
        "id": "39ZZ298dxFKv"
      },
      "source": [
        "class Alphabets(Dataset):\n",
        "\n",
        "  def __init__(self,X,y,transform=None):\n",
        "    self.X = X\n",
        "    self.y = y\n",
        "    self.transform = transform\n",
        "  \n",
        "  def __len__(self):\n",
        "    return len(self.X)\n",
        "  \n",
        "  def __getitem__(self,index):\n",
        "    # np.array(Image.fromarray((img * 255).astype(np.uint8)).resize((input_size, input_size)).convert('RGB'))\n",
        "\n",
        "    image = Image.fromarray(((self.X[index]).astype(np.uint8)).reshape(28,28))\n",
        "    label = self.y[index]\n",
        "\n",
        "    if self.transform != None:\n",
        "      image = self.transform(image)\n",
        "    \n",
        "    return image,label"
      ],
      "execution_count": null,
      "outputs": []
    },
    {
      "cell_type": "code",
      "metadata": {
        "id": "2JqXjhHgym-Z"
      },
      "source": [
        "transform = transforms.Compose([\n",
        "         transforms.ToTensor(),                      \n",
        "])"
      ],
      "execution_count": null,
      "outputs": []
    },
    {
      "cell_type": "code",
      "metadata": {
        "colab": {
          "base_uri": "https://localhost:8080/"
        },
        "id": "CM9Qruk43JiC",
        "outputId": "5aecbcec-785c-4b9d-9e1e-c37d7a20e937"
      },
      "source": [
        "X_train.shape,X_test.shape,X_val.shape"
      ],
      "execution_count": null,
      "outputs": [
        {
          "output_type": "execute_result",
          "data": {
            "text/plain": [
              "((238368, 784), (74490, 784), (59592, 784))"
            ]
          },
          "metadata": {},
          "execution_count": 148
        }
      ]
    },
    {
      "cell_type": "code",
      "metadata": {
        "colab": {
          "base_uri": "https://localhost:8080/"
        },
        "id": "qOP_HSuO3SGP",
        "outputId": "e994eaee-581f-4fcc-a4f5-43bbd7f31d84"
      },
      "source": [
        "y_train.shape,y_test.shape,y_val.shape"
      ],
      "execution_count": null,
      "outputs": [
        {
          "output_type": "execute_result",
          "data": {
            "text/plain": [
              "((238368,), (74490,), (59592,))"
            ]
          },
          "metadata": {},
          "execution_count": 149
        }
      ]
    },
    {
      "cell_type": "code",
      "metadata": {
        "id": "ndk95nEL1HkA"
      },
      "source": [
        "train_dataset = Alphabets(X_train,y_train,transform)\n",
        "test_dataset = Alphabets(X_test,y_test,transform)\n",
        "val_dataset = Alphabets(X_val,y_val,transform)"
      ],
      "execution_count": null,
      "outputs": []
    },
    {
      "cell_type": "code",
      "metadata": {
        "colab": {
          "base_uri": "https://localhost:8080/"
        },
        "id": "GypLinU_2Hq-",
        "outputId": "58397ef5-53ed-48d2-9b4f-3c55c41d30b1"
      },
      "source": [
        "len(train_dataset),len(test_dataset),len(val_dataset)"
      ],
      "execution_count": null,
      "outputs": [
        {
          "output_type": "execute_result",
          "data": {
            "text/plain": [
              "(238368, 74490, 59592)"
            ]
          },
          "metadata": {},
          "execution_count": 151
        }
      ]
    },
    {
      "cell_type": "code",
      "metadata": {
        "id": "Bg4S7_rR2Rso"
      },
      "source": [
        "train_dataset_loader = DataLoader(train_dataset,batch_size=100,shuffle=True)\n",
        "test_dataset_loader = DataLoader(test_dataset,batch_size=100,shuffle=True)\n",
        "val_dataset_loader = DataLoader(val_dataset,batch_size=100,shuffle=True)"
      ],
      "execution_count": null,
      "outputs": []
    },
    {
      "cell_type": "code",
      "metadata": {
        "colab": {
          "base_uri": "https://localhost:8080/",
          "height": 426
        },
        "id": "T43wgHbt2hv-",
        "outputId": "b2948085-a24e-4cd1-9fb9-f6d0b507c5df"
      },
      "source": [
        "df = iter(train_dataset_loader)\n",
        "df = next(df)\n",
        "\n",
        "print(type(df))\n",
        "print(len(df))\n",
        "\n",
        "print(len(df[0]))\n",
        "print(len(df[1]))\n",
        "\n",
        "print(df[0].shape)\n",
        "print(df[0][0].shape)\n",
        "\n",
        "print(df[1].shape)\n",
        "print(df[1][0].shape)\n",
        "\n",
        "\n",
        "plt.imshow(df[0][0].reshape(28,28),cmap=\"gray\")\n",
        "print(\"label :: \",df[1][0].item())"
      ],
      "execution_count": null,
      "outputs": [
        {
          "output_type": "stream",
          "name": "stdout",
          "text": [
            "<class 'list'>\n",
            "2\n",
            "100\n",
            "100\n",
            "torch.Size([100, 1, 28, 28])\n",
            "torch.Size([1, 28, 28])\n",
            "torch.Size([100])\n",
            "torch.Size([])\n",
            "label ::  12\n"
          ]
        },
        {
          "output_type": "display_data",
          "data": {
            "image/png": "[encoded data removed]",
            "text/plain": [
              "<Figure size 432x288 with 1 Axes>"
            ]
          },
          "metadata": {
            "needs_background": "light"
          }
        }
      ]
    },
    {
      "cell_type": "code",
      "metadata": {
        "id": "9Q6tFPV_7PBy"
      },
      "source": [
        "config = [\n",
        "     # input_channels:int,no.of filters:int,filter_size:int,stride:int,padding:int\n",
        "     (1,16,3,1,1),\n",
        "     # MP - max pooling:string,filter_size:int,stride:int,padding:int\n",
        "     (\"MP\",2,2,0),\n",
        "     (16,32,3,1,1),\n",
        "     (\"MP\",2,2,0),\n",
        "     (32,64,3,1,1),\n",
        "     (\"MP\",2,2,0),\n",
        "     (64,128,3,1,1),\n",
        "     (\"MP\",2,2,0),\n",
        "]"
      ],
      "execution_count": null,
      "outputs": []
    },
    {
      "cell_type": "code",
      "metadata": {
        "id": "CNRtk0aC7Ps0"
      },
      "source": [
        "def conv_output_size(img_size,padding,filter_size,stride,n_filters):\n",
        "   size_ = (int((img_size + (2 * padding) - filter_size) / stride)) + 1\n",
        "   return size_,size_,n_filters"
      ],
      "execution_count": null,
      "outputs": []
    },
    {
      "cell_type": "code",
      "metadata": {
        "id": "93YddgQO7RWb"
      },
      "source": [
        "def dense_layer_size(configuration,img_size):\n",
        "\n",
        "  _,output_channels = 0,0\n",
        "  layer_count = 0\n",
        "\n",
        "  for config in configuration:\n",
        "    \n",
        "    layer_count += 1\n",
        "\n",
        "    if config[0] == \"MP\":\n",
        "      img_size,_,output_channels = conv_output_size(img_size,config[3],config[1],config[2],output_channels)\n",
        "      print(\"Max Pooling Layer {} output dims :: \".format(layer_count),img_size,_,output_channels)\n",
        "\n",
        "    else: \n",
        "      img_size,_,output_channels = conv_output_size(img_size,config[4],config[2],config[3],config[1])\n",
        "      print(\"Conv Layer {} output dims :: \".format(layer_count),img_size,_,output_channels)\n",
        "  \n",
        "  return img_size,_,output_channels"
      ],
      "execution_count": null,
      "outputs": []
    },
    {
      "cell_type": "code",
      "metadata": {
        "colab": {
          "base_uri": "https://localhost:8080/"
        },
        "id": "mz32-Ajw7XC1",
        "outputId": "a2b19920-5c6f-4adc-9eb9-0e4be584e56a"
      },
      "source": [
        "width,heigth,channels = dense_layer_size(config,28)"
      ],
      "execution_count": null,
      "outputs": [
        {
          "output_type": "stream",
          "name": "stdout",
          "text": [
            "Conv Layer 1 output dims ::  28 28 16\n",
            "Max Pooling Layer 2 output dims ::  14 14 16\n",
            "Conv Layer 3 output dims ::  14 14 32\n",
            "Max Pooling Layer 4 output dims ::  7 7 32\n",
            "Conv Layer 5 output dims ::  7 7 64\n",
            "Max Pooling Layer 6 output dims ::  3 3 64\n",
            "Conv Layer 7 output dims ::  3 3 128\n",
            "Max Pooling Layer 8 output dims ::  1 1 128\n"
          ]
        }
      ]
    },
    {
      "cell_type": "code",
      "metadata": {
        "id": "Zc4naQJD25B8"
      },
      "source": [
        "class NeuralNetwork(nn.Module):\n",
        "\n",
        "  def __init__(self):\n",
        "    super(NeuralNetwork,self).__init__()\n",
        "\n",
        "    self.layer1 = nn.Sequential(\n",
        "      nn.Conv2d(1,16,3,1,1),\n",
        "      nn.BatchNorm2d(16),\n",
        "      nn.ReLU(),\n",
        "      nn.MaxPool2d(2,2)\n",
        "    )\n",
        "\n",
        "    self.layer2 = nn.Sequential(\n",
        "      nn.Conv2d(16,32,3,1,1),\n",
        "      nn.BatchNorm2d(32),\n",
        "      nn.ReLU(),\n",
        "      nn.MaxPool2d(2,2)\n",
        "    )\n",
        "\n",
        "    self.layer3 = nn.Sequential(\n",
        "      nn.Conv2d(32,64,3,1,1),\n",
        "      nn.BatchNorm2d(64),\n",
        "      nn.ReLU(),\n",
        "      nn.MaxPool2d(2,2)\n",
        "    )\n",
        "\n",
        "    self.layer4 = nn.Sequential(\n",
        "      nn.Conv2d(64,128,3,1,1),\n",
        "      nn.BatchNorm2d(128),\n",
        "      nn.ReLU(),\n",
        "      nn.MaxPool2d(2,2)\n",
        "    )\n",
        "\n",
        "    self.FC = nn.Sequential(\n",
        "      nn.Linear(128,26)\n",
        "    )\n",
        "\n",
        "\n",
        "  def forward(self,x):\n",
        "    x = self.layer1(x)\n",
        "    x = self.layer2(x)\n",
        "    x = self.layer3(x)\n",
        "    x = self.layer4(x)\n",
        "    x = torch.flatten(x,1)\n",
        "    x = self.FC(x)\n",
        "\n",
        "    return x\n",
        "\n"
      ],
      "execution_count": 196,
      "outputs": []
    },
    {
      "cell_type": "code",
      "metadata": {
        "colab": {
          "base_uri": "https://localhost:8080/"
        },
        "id": "Q8OSE1Sq_2u2",
        "outputId": "ba940488-6dad-45a4-a6b0-5816d91267f9"
      },
      "source": [
        "net = NeuralNetwork()\n",
        "net.train()"
      ],
      "execution_count": 197,
      "outputs": [
        {
          "output_type": "execute_result",
          "data": {
            "text/plain": [
              "NeuralNetwork(\n",
              "  (layer1): Sequential(\n",
              "    (0): Conv2d(1, 16, kernel_size=(3, 3), stride=(1, 1), padding=(1, 1))\n",
              "    (1): BatchNorm2d(16, eps=1e-05, momentum=0.1, affine=True, track_running_stats=True)\n",
              "    (2): ReLU()\n",
              "    (3): MaxPool2d(kernel_size=2, stride=2, padding=0, dilation=1, ceil_mode=False)\n",
              "  )\n",
              "  (layer2): Sequential(\n",
              "    (0): Conv2d(16, 32, kernel_size=(3, 3), stride=(1, 1), padding=(1, 1))\n",
              "    (1): BatchNorm2d(32, eps=1e-05, momentum=0.1, affine=True, track_running_stats=True)\n",
              "    (2): ReLU()\n",
              "    (3): MaxPool2d(kernel_size=2, stride=2, padding=0, dilation=1, ceil_mode=False)\n",
              "  )\n",
              "  (layer3): Sequential(\n",
              "    (0): Conv2d(32, 64, kernel_size=(3, 3), stride=(1, 1), padding=(1, 1))\n",
              "    (1): BatchNorm2d(64, eps=1e-05, momentum=0.1, affine=True, track_running_stats=True)\n",
              "    (2): ReLU()\n",
              "    (3): MaxPool2d(kernel_size=2, stride=2, padding=0, dilation=1, ceil_mode=False)\n",
              "  )\n",
              "  (layer4): Sequential(\n",
              "    (0): Conv2d(64, 128, kernel_size=(3, 3), stride=(1, 1), padding=(1, 1))\n",
              "    (1): BatchNorm2d(128, eps=1e-05, momentum=0.1, affine=True, track_running_stats=True)\n",
              "    (2): ReLU()\n",
              "    (3): MaxPool2d(kernel_size=2, stride=2, padding=0, dilation=1, ceil_mode=False)\n",
              "  )\n",
              "  (FC): Sequential(\n",
              "    (0): Linear(in_features=128, out_features=26, bias=True)\n",
              "  )\n",
              ")"
            ]
          },
          "metadata": {},
          "execution_count": 197
        }
      ]
    },
    {
      "cell_type": "code",
      "metadata": {
        "id": "CeQ638FqAB3b"
      },
      "source": [
        "lr = 0.01\n",
        "optim = torch.optim.Adam(net.parameters(),lr)\n",
        "loss_fn = nn.CrossEntropyLoss()"
      ],
      "execution_count": 198,
      "outputs": []
    },
    {
      "cell_type": "code",
      "metadata": {
        "colab": {
          "base_uri": "https://localhost:8080/"
        },
        "id": "sKTdnj0aAcHk",
        "outputId": "0024aaba-c055-4ab0-da48-d07cfd71306e"
      },
      "source": [
        "epochs = 10\n",
        "train_len = len(train_dataset_loader)\n",
        "val_len = len(val_dataset_loader)\n",
        "\n",
        "training_accuracy = []\n",
        "training_loss = []\n",
        "\n",
        "validation_accuracy = []\n",
        "validation_loss = []\n",
        "\n",
        "for epoch in range(epochs):\n",
        "\n",
        "  epoch_acc = 0\n",
        "  epoch_loss = 0\n",
        "\n",
        "  for batch_id,(image,label) in enumerate(train_dataset_loader):\n",
        "\n",
        "    output = net(image)\n",
        "\n",
        "    loss = loss_fn(output,label)\n",
        "\n",
        "    optim.zero_grad()\n",
        "    loss.backward()\n",
        "    optim.step()\n",
        "\n",
        "    acc = (output.argmax(dim=1) == label).float().mean()\n",
        "    epoch_acc += (acc.item() / len(train_dataset_loader)) * 100\n",
        "    epoch_loss += (loss.item() / len(train_dataset_loader)) * 100\n",
        "\n",
        "    # print(f\"Epoch :: [{epoch+1}/{epochs}] Train Accuracy :: {epoch_acc:.4f} Train Loss :: {epoch_loss:.4f}\") \n",
        "    # break\n",
        "\n",
        "    if (batch_id + 1) % 100 == 0:\n",
        "        print(f\"Epoch :: [{epoch+1}/{epochs}] Step :: [{batch_id + 1}/{train_len}] Train Accuracy :: {epoch_acc:.4f} Train Loss :: {epoch_loss:.4f}\") \n",
        "  \n",
        "  training_accuracy.append(epoch_acc)\n",
        "  training_loss.append(epoch_loss)\n",
        "\n",
        "  with torch.no_grad():\n",
        "\n",
        "    epoch_val_accuracy = 0\n",
        "    epoch_val_loss = 0\n",
        "    \n",
        "    for batch_id,(image, label) in enumerate(val_dataset_loader):\n",
        "  \n",
        "      val_output = net(image)\n",
        "      val_loss = loss_fn(val_output,label)\n",
        "      \n",
        "      val_acc = ((val_output.argmax(dim=1) == label).float().mean())\n",
        "      epoch_val_accuracy += (val_acc.item() / len(val_dataset_loader)) * 100 \n",
        "      epoch_val_loss += (val_loss.item() / len(val_dataset_loader)) * 100\n",
        "\n",
        "      # print(f\"Epoch :: [{epoch+1}/{epochs}] Val Accuracy :: {epoch_acc:.4f} Val Loss :: {epoch_loss:.4f}\")\n",
        "      # break\n",
        "\n",
        "      if (batch_id + 1) % 100 == 0:\n",
        "        print(f\"Epoch :: [{epoch+1}/{epochs}] Step :: [{batch_id + 1}/{val_len}] Val Accuracy :: {epoch_acc:.4f} Val Loss :: {epoch_loss:.4f}\")\n",
        "\n",
        "    validation_accuracy.append(epoch_val_accuracy)\n",
        "    validation_loss.append(epoch_val_loss)\n",
        "    \n",
        "  # break\n"
      ],
      "execution_count": 210,
      "outputs": [
        {
          "output_type": "stream",
          "name": "stdout",
          "text": [
            "Epoch :: [1/10] Step :: [100/2384] Train Accuracy :: 4.1128 Train Loss :: 0.2862\n",
            "Epoch :: [1/10] Step :: [200/2384] Train Accuracy :: 8.2278 Train Loss :: 0.5777\n",
            "Epoch :: [1/10] Step :: [300/2384] Train Accuracy :: 12.3482 Train Loss :: 0.8244\n",
            "Epoch :: [1/10] Step :: [400/2384] Train Accuracy :: 16.4639 Train Loss :: 1.1320\n",
            "Epoch :: [1/10] Step :: [500/2384] Train Accuracy :: 20.5810 Train Loss :: 1.4009\n",
            "Epoch :: [1/10] Step :: [600/2384] Train Accuracy :: 24.7001 Train Loss :: 1.6743\n",
            "Epoch :: [1/10] Step :: [700/2384] Train Accuracy :: 28.8192 Train Loss :: 1.9632\n",
            "Epoch :: [1/10] Step :: [800/2384] Train Accuracy :: 32.9442 Train Loss :: 2.2190\n",
            "Epoch :: [1/10] Step :: [900/2384] Train Accuracy :: 37.0596 Train Loss :: 2.5079\n",
            "Epoch :: [1/10] Step :: [1000/2384] Train Accuracy :: 41.1816 Train Loss :: 2.7771\n",
            "Epoch :: [1/10] Step :: [1100/2384] Train Accuracy :: 45.3024 Train Loss :: 3.0338\n",
            "Epoch :: [1/10] Step :: [1200/2384] Train Accuracy :: 49.4169 Train Loss :: 3.2994\n",
            "Epoch :: [1/10] Step :: [1300/2384] Train Accuracy :: 53.5457 Train Loss :: 3.5302\n",
            "Epoch :: [1/10] Step :: [1400/2384] Train Accuracy :: 57.6732 Train Loss :: 3.7820\n",
            "Epoch :: [1/10] Step :: [1500/2384] Train Accuracy :: 61.8033 Train Loss :: 3.9994\n",
            "Epoch :: [1/10] Step :: [1600/2384] Train Accuracy :: 65.9295 Train Loss :: 4.2421\n",
            "Epoch :: [1/10] Step :: [1700/2384] Train Accuracy :: 70.0537 Train Loss :: 4.4924\n",
            "Epoch :: [1/10] Step :: [1800/2384] Train Accuracy :: 74.1779 Train Loss :: 4.7542\n",
            "Epoch :: [1/10] Step :: [1900/2384] Train Accuracy :: 78.3096 Train Loss :: 4.9637\n",
            "Epoch :: [1/10] Step :: [2000/2384] Train Accuracy :: 82.4379 Train Loss :: 5.2042\n",
            "Epoch :: [1/10] Step :: [2100/2384] Train Accuracy :: 86.5671 Train Loss :: 5.4496\n",
            "Epoch :: [1/10] Step :: [2200/2384] Train Accuracy :: 90.6867 Train Loss :: 5.7093\n",
            "Epoch :: [1/10] Step :: [2300/2384] Train Accuracy :: 94.8192 Train Loss :: 5.9239\n",
            "Epoch :: [1/10] Step :: [100/596] Val Accuracy :: 98.2978 Val Loss :: 6.0978\n",
            "Epoch :: [1/10] Step :: [200/596] Val Accuracy :: 98.2978 Val Loss :: 6.0978\n",
            "Epoch :: [1/10] Step :: [300/596] Val Accuracy :: 98.2978 Val Loss :: 6.0978\n",
            "Epoch :: [1/10] Step :: [400/596] Val Accuracy :: 98.2978 Val Loss :: 6.0978\n",
            "Epoch :: [1/10] Step :: [500/596] Val Accuracy :: 98.2978 Val Loss :: 6.0978\n",
            "Epoch :: [2/10] Step :: [100/2384] Train Accuracy :: 4.1430 Train Loss :: 0.1799\n",
            "Epoch :: [2/10] Step :: [200/2384] Train Accuracy :: 8.2852 Train Loss :: 0.3653\n",
            "Epoch :: [2/10] Step :: [300/2384] Train Accuracy :: 12.4207 Train Loss :: 0.5983\n",
            "Epoch :: [2/10] Step :: [400/2384] Train Accuracy :: 16.5583 Train Loss :: 0.7852\n",
            "Epoch :: [2/10] Step :: [500/2384] Train Accuracy :: 20.6900 Train Loss :: 1.0142\n",
            "Epoch :: [2/10] Step :: [600/2384] Train Accuracy :: 24.8272 Train Loss :: 1.2055\n",
            "Epoch :: [2/10] Step :: [700/2384] Train Accuracy :: 28.9572 Train Loss :: 1.4195\n",
            "Epoch :: [2/10] Step :: [800/2384] Train Accuracy :: 33.0944 Train Loss :: 1.5944\n",
            "Epoch :: [2/10] Step :: [900/2384] Train Accuracy :: 37.2370 Train Loss :: 1.7726\n",
            "Epoch :: [2/10] Step :: [1000/2384] Train Accuracy :: 41.3763 Train Loss :: 1.9692\n",
            "Epoch :: [2/10] Step :: [1100/2384] Train Accuracy :: 45.5130 Train Loss :: 2.1649\n",
            "Epoch :: [2/10] Step :: [1200/2384] Train Accuracy :: 49.6489 Train Loss :: 2.3646\n",
            "Epoch :: [2/10] Step :: [1300/2384] Train Accuracy :: 53.7882 Train Loss :: 2.5570\n",
            "Epoch :: [2/10] Step :: [1400/2384] Train Accuracy :: 57.9249 Train Loss :: 2.7655\n",
            "Epoch :: [2/10] Step :: [1500/2384] Train Accuracy :: 62.0675 Train Loss :: 2.9271\n",
            "Epoch :: [2/10] Step :: [1600/2384] Train Accuracy :: 66.2064 Train Loss :: 3.1014\n",
            "Epoch :: [2/10] Step :: [1700/2384] Train Accuracy :: 70.3465 Train Loss :: 3.2891\n",
            "Epoch :: [2/10] Step :: [1800/2384] Train Accuracy :: 74.4912 Train Loss :: 3.4465\n",
            "Epoch :: [2/10] Step :: [1900/2384] Train Accuracy :: 78.6237 Train Loss :: 3.6647\n",
            "Epoch :: [2/10] Step :: [2000/2384] Train Accuracy :: 82.7664 Train Loss :: 3.8637\n",
            "Epoch :: [2/10] Step :: [2100/2384] Train Accuracy :: 86.9077 Train Loss :: 4.0553\n",
            "Epoch :: [2/10] Step :: [2200/2384] Train Accuracy :: 91.0373 Train Loss :: 4.2848\n",
            "Epoch :: [2/10] Step :: [2300/2384] Train Accuracy :: 95.1657 Train Loss :: 4.5103\n",
            "Epoch :: [2/10] Step :: [100/596] Val Accuracy :: 98.6462 Val Loss :: 4.6545\n",
            "Epoch :: [2/10] Step :: [200/596] Val Accuracy :: 98.6462 Val Loss :: 4.6545\n",
            "Epoch :: [2/10] Step :: [300/596] Val Accuracy :: 98.6462 Val Loss :: 4.6545\n",
            "Epoch :: [2/10] Step :: [400/596] Val Accuracy :: 98.6462 Val Loss :: 4.6545\n",
            "Epoch :: [2/10] Step :: [500/596] Val Accuracy :: 98.6462 Val Loss :: 4.6545\n",
            "Epoch :: [3/10] Step :: [100/2384] Train Accuracy :: 4.1556 Train Loss :: 0.1559\n",
            "Epoch :: [3/10] Step :: [200/2384] Train Accuracy :: 8.2978 Train Loss :: 0.3194\n",
            "Epoch :: [3/10] Step :: [300/2384] Train Accuracy :: 12.4476 Train Loss :: 0.4733\n",
            "Epoch :: [3/10] Step :: [400/2384] Train Accuracy :: 16.5961 Train Loss :: 0.6085\n",
            "Epoch :: [3/10] Step :: [500/2384] Train Accuracy :: 20.7408 Train Loss :: 0.7839\n",
            "Epoch :: [3/10] Step :: [600/2384] Train Accuracy :: 24.8884 Train Loss :: 0.9379\n",
            "Epoch :: [3/10] Step :: [700/2384] Train Accuracy :: 29.0365 Train Loss :: 1.1008\n",
            "Epoch :: [3/10] Step :: [800/2384] Train Accuracy :: 33.1833 Train Loss :: 1.2614\n",
            "Epoch :: [3/10] Step :: [900/2384] Train Accuracy :: 37.3305 Train Loss :: 1.4292\n",
            "Epoch :: [3/10] Step :: [1000/2384] Train Accuracy :: 41.4815 Train Loss :: 1.5773\n",
            "Epoch :: [3/10] Step :: [1100/2384] Train Accuracy :: 45.6263 Train Loss :: 1.7443\n",
            "Epoch :: [3/10] Step :: [1200/2384] Train Accuracy :: 49.7752 Train Loss :: 1.8934\n",
            "Epoch :: [3/10] Step :: [1300/2384] Train Accuracy :: 53.9245 Train Loss :: 2.0385\n",
            "Epoch :: [3/10] Step :: [1400/2384] Train Accuracy :: 58.0680 Train Loss :: 2.2232\n",
            "Epoch :: [3/10] Step :: [1500/2384] Train Accuracy :: 62.2060 Train Loss :: 2.4185\n",
            "Epoch :: [3/10] Step :: [1600/2384] Train Accuracy :: 66.3544 Train Loss :: 2.5863\n",
            "Epoch :: [3/10] Step :: [1700/2384] Train Accuracy :: 70.5038 Train Loss :: 2.7291\n",
            "Epoch :: [3/10] Step :: [1800/2384] Train Accuracy :: 74.6485 Train Loss :: 2.9216\n",
            "Epoch :: [3/10] Step :: [1900/2384] Train Accuracy :: 78.7911 Train Loss :: 3.1065\n",
            "Epoch :: [3/10] Step :: [2000/2384] Train Accuracy :: 82.9367 Train Loss :: 3.2740\n",
            "Epoch :: [3/10] Step :: [2100/2384] Train Accuracy :: 87.0852 Train Loss :: 3.4140\n",
            "Epoch :: [3/10] Step :: [2200/2384] Train Accuracy :: 91.2286 Train Loss :: 3.5828\n",
            "Epoch :: [3/10] Step :: [2300/2384] Train Accuracy :: 95.3704 Train Loss :: 3.7666\n",
            "Epoch :: [3/10] Step :: [100/596] Val Accuracy :: 98.8520 Val Loss :: 3.9082\n",
            "Epoch :: [3/10] Step :: [200/596] Val Accuracy :: 98.8520 Val Loss :: 3.9082\n",
            "Epoch :: [3/10] Step :: [300/596] Val Accuracy :: 98.8520 Val Loss :: 3.9082\n",
            "Epoch :: [3/10] Step :: [400/596] Val Accuracy :: 98.8520 Val Loss :: 3.9082\n",
            "Epoch :: [3/10] Step :: [500/596] Val Accuracy :: 98.8520 Val Loss :: 3.9082\n",
            "Epoch :: [4/10] Step :: [100/2384] Train Accuracy :: 4.1619 Train Loss :: 0.0994\n",
            "Epoch :: [4/10] Step :: [200/2384] Train Accuracy :: 8.3129 Train Loss :: 0.2275\n",
            "Epoch :: [4/10] Step :: [300/2384] Train Accuracy :: 12.4643 Train Loss :: 0.3615\n",
            "Epoch :: [4/10] Step :: [400/2384] Train Accuracy :: 16.6162 Train Loss :: 0.5070\n",
            "Epoch :: [4/10] Step :: [500/2384] Train Accuracy :: 20.7676 Train Loss :: 0.6385\n",
            "Epoch :: [4/10] Step :: [600/2384] Train Accuracy :: 24.9157 Train Loss :: 0.7882\n",
            "Epoch :: [4/10] Step :: [700/2384] Train Accuracy :: 29.0747 Train Loss :: 0.9202\n",
            "Epoch :: [4/10] Step :: [800/2384] Train Accuracy :: 33.2290 Train Loss :: 1.0562\n",
            "Epoch :: [4/10] Step :: [900/2384] Train Accuracy :: 37.3922 Train Loss :: 1.1587\n",
            "Epoch :: [4/10] Step :: [1000/2384] Train Accuracy :: 41.5474 Train Loss :: 1.2933\n",
            "Epoch :: [4/10] Step :: [1100/2384] Train Accuracy :: 45.6955 Train Loss :: 1.4477\n",
            "Epoch :: [4/10] Step :: [1200/2384] Train Accuracy :: 49.8486 Train Loss :: 1.5948\n",
            "Epoch :: [4/10] Step :: [1300/2384] Train Accuracy :: 54.0038 Train Loss :: 1.7417\n",
            "Epoch :: [4/10] Step :: [1400/2384] Train Accuracy :: 58.1502 Train Loss :: 1.8815\n",
            "Epoch :: [4/10] Step :: [1500/2384] Train Accuracy :: 62.2978 Train Loss :: 2.0440\n",
            "Epoch :: [4/10] Step :: [1600/2384] Train Accuracy :: 66.4446 Train Loss :: 2.1963\n",
            "Epoch :: [4/10] Step :: [1700/2384] Train Accuracy :: 70.5940 Train Loss :: 2.3559\n",
            "Epoch :: [4/10] Step :: [1800/2384] Train Accuracy :: 74.7425 Train Loss :: 2.5023\n",
            "Epoch :: [4/10] Step :: [1900/2384] Train Accuracy :: 78.8893 Train Loss :: 2.6666\n",
            "Epoch :: [4/10] Step :: [2000/2384] Train Accuracy :: 83.0495 Train Loss :: 2.7845\n",
            "Epoch :: [4/10] Step :: [2100/2384] Train Accuracy :: 87.2060 Train Loss :: 2.9242\n",
            "Epoch :: [4/10] Step :: [2200/2384] Train Accuracy :: 91.3645 Train Loss :: 3.0523\n",
            "Epoch :: [4/10] Step :: [2300/2384] Train Accuracy :: 95.5201 Train Loss :: 3.1796\n",
            "Epoch :: [4/10] Step :: [100/596] Val Accuracy :: 99.0122 Val Loss :: 3.2765\n",
            "Epoch :: [4/10] Step :: [200/596] Val Accuracy :: 99.0122 Val Loss :: 3.2765\n",
            "Epoch :: [4/10] Step :: [300/596] Val Accuracy :: 99.0122 Val Loss :: 3.2765\n",
            "Epoch :: [4/10] Step :: [400/596] Val Accuracy :: 99.0122 Val Loss :: 3.2765\n",
            "Epoch :: [4/10] Step :: [500/596] Val Accuracy :: 99.0122 Val Loss :: 3.2765\n",
            "Epoch :: [5/10] Step :: [100/2384] Train Accuracy :: 4.1657 Train Loss :: 0.0968\n",
            "Epoch :: [5/10] Step :: [200/2384] Train Accuracy :: 8.3251 Train Loss :: 0.2131\n",
            "Epoch :: [5/10] Step :: [300/2384] Train Accuracy :: 12.4866 Train Loss :: 0.3249\n",
            "Epoch :: [5/10] Step :: [400/2384] Train Accuracy :: 16.6477 Train Loss :: 0.4197\n",
            "Epoch :: [5/10] Step :: [500/2384] Train Accuracy :: 20.8003 Train Loss :: 0.5516\n",
            "Epoch :: [5/10] Step :: [600/2384] Train Accuracy :: 24.9690 Train Loss :: 0.6370\n",
            "Epoch :: [5/10] Step :: [700/2384] Train Accuracy :: 29.1321 Train Loss :: 0.7288\n",
            "Epoch :: [5/10] Step :: [800/2384] Train Accuracy :: 33.2953 Train Loss :: 0.8395\n",
            "Epoch :: [5/10] Step :: [900/2384] Train Accuracy :: 37.4492 Train Loss :: 0.9676\n",
            "Epoch :: [5/10] Step :: [1000/2384] Train Accuracy :: 41.6070 Train Loss :: 1.0861\n",
            "Epoch :: [5/10] Step :: [1100/2384] Train Accuracy :: 45.7651 Train Loss :: 1.1996\n",
            "Epoch :: [5/10] Step :: [1200/2384] Train Accuracy :: 49.9207 Train Loss :: 1.3320\n",
            "Epoch :: [5/10] Step :: [1300/2384] Train Accuracy :: 54.0675 Train Loss :: 1.4842\n",
            "Epoch :: [5/10] Step :: [1400/2384] Train Accuracy :: 58.2273 Train Loss :: 1.6007\n",
            "Epoch :: [5/10] Step :: [1500/2384] Train Accuracy :: 62.3863 Train Loss :: 1.7220\n",
            "Epoch :: [5/10] Step :: [1600/2384] Train Accuracy :: 66.5424 Train Loss :: 1.8588\n",
            "Epoch :: [5/10] Step :: [1700/2384] Train Accuracy :: 70.6976 Train Loss :: 1.9752\n",
            "Epoch :: [5/10] Step :: [1800/2384] Train Accuracy :: 74.8544 Train Loss :: 2.1120\n",
            "Epoch :: [5/10] Step :: [1900/2384] Train Accuracy :: 79.0059 Train Loss :: 2.2516\n",
            "Epoch :: [5/10] Step :: [2000/2384] Train Accuracy :: 83.1669 Train Loss :: 2.3811\n",
            "Epoch :: [5/10] Step :: [2100/2384] Train Accuracy :: 87.3238 Train Loss :: 2.5055\n",
            "Epoch :: [5/10] Step :: [2200/2384] Train Accuracy :: 91.4849 Train Loss :: 2.6375\n",
            "Epoch :: [5/10] Step :: [2300/2384] Train Accuracy :: 95.6460 Train Loss :: 2.7430\n",
            "Epoch :: [5/10] Step :: [100/596] Val Accuracy :: 99.1462 Val Loss :: 2.8225\n",
            "Epoch :: [5/10] Step :: [200/596] Val Accuracy :: 99.1462 Val Loss :: 2.8225\n",
            "Epoch :: [5/10] Step :: [300/596] Val Accuracy :: 99.1462 Val Loss :: 2.8225\n",
            "Epoch :: [5/10] Step :: [400/596] Val Accuracy :: 99.1462 Val Loss :: 2.8225\n",
            "Epoch :: [5/10] Step :: [500/596] Val Accuracy :: 99.1462 Val Loss :: 2.8225\n",
            "Epoch :: [6/10] Step :: [100/2384] Train Accuracy :: 4.1711 Train Loss :: 0.0765\n",
            "Epoch :: [6/10] Step :: [200/2384] Train Accuracy :: 8.3402 Train Loss :: 0.1508\n",
            "Epoch :: [6/10] Step :: [300/2384] Train Accuracy :: 12.5080 Train Loss :: 0.2313\n",
            "Epoch :: [6/10] Step :: [400/2384] Train Accuracy :: 16.6741 Train Loss :: 0.3163\n",
            "Epoch :: [6/10] Step :: [500/2384] Train Accuracy :: 20.8364 Train Loss :: 0.4412\n",
            "Epoch :: [6/10] Step :: [600/2384] Train Accuracy :: 25.0000 Train Loss :: 0.5323\n",
            "Epoch :: [6/10] Step :: [700/2384] Train Accuracy :: 29.1653 Train Loss :: 0.6416\n",
            "Epoch :: [6/10] Step :: [800/2384] Train Accuracy :: 33.3331 Train Loss :: 0.7413\n",
            "Epoch :: [6/10] Step :: [900/2384] Train Accuracy :: 37.4962 Train Loss :: 0.8313\n",
            "Epoch :: [6/10] Step :: [1000/2384] Train Accuracy :: 41.6607 Train Loss :: 0.9216\n",
            "Epoch :: [6/10] Step :: [1100/2384] Train Accuracy :: 45.8289 Train Loss :: 1.0159\n",
            "Epoch :: [6/10] Step :: [1200/2384] Train Accuracy :: 49.9836 Train Loss :: 1.1328\n",
            "Epoch :: [6/10] Step :: [1300/2384] Train Accuracy :: 54.1481 Train Loss :: 1.2320\n",
            "Epoch :: [6/10] Step :: [1400/2384] Train Accuracy :: 58.3087 Train Loss :: 1.3294\n",
            "Epoch :: [6/10] Step :: [1500/2384] Train Accuracy :: 62.4732 Train Loss :: 1.4351\n",
            "Epoch :: [6/10] Step :: [1600/2384] Train Accuracy :: 66.6317 Train Loss :: 1.5635\n",
            "Epoch :: [6/10] Step :: [1700/2384] Train Accuracy :: 70.7844 Train Loss :: 1.6831\n",
            "Epoch :: [6/10] Step :: [1800/2384] Train Accuracy :: 74.9362 Train Loss :: 1.8102\n",
            "Epoch :: [6/10] Step :: [1900/2384] Train Accuracy :: 79.0931 Train Loss :: 1.9163\n",
            "Epoch :: [6/10] Step :: [2000/2384] Train Accuracy :: 83.2458 Train Loss :: 2.0582\n",
            "Epoch :: [6/10] Step :: [2100/2384] Train Accuracy :: 87.4010 Train Loss :: 2.1851\n",
            "Epoch :: [6/10] Step :: [2200/2384] Train Accuracy :: 91.5696 Train Loss :: 2.2888\n",
            "Epoch :: [6/10] Step :: [2300/2384] Train Accuracy :: 95.7391 Train Loss :: 2.3781\n",
            "Epoch :: [6/10] Step :: [100/596] Val Accuracy :: 99.2376 Val Loss :: 2.4638\n",
            "Epoch :: [6/10] Step :: [200/596] Val Accuracy :: 99.2376 Val Loss :: 2.4638\n",
            "Epoch :: [6/10] Step :: [300/596] Val Accuracy :: 99.2376 Val Loss :: 2.4638\n",
            "Epoch :: [6/10] Step :: [400/596] Val Accuracy :: 99.2376 Val Loss :: 2.4638\n",
            "Epoch :: [6/10] Step :: [500/596] Val Accuracy :: 99.2376 Val Loss :: 2.4638\n",
            "Epoch :: [7/10] Step :: [100/2384] Train Accuracy :: 4.1716 Train Loss :: 0.0750\n",
            "Epoch :: [7/10] Step :: [200/2384] Train Accuracy :: 8.3435 Train Loss :: 0.1477\n",
            "Epoch :: [7/10] Step :: [300/2384] Train Accuracy :: 12.5197 Train Loss :: 0.2085\n",
            "Epoch :: [7/10] Step :: [400/2384] Train Accuracy :: 16.6946 Train Loss :: 0.2788\n",
            "Epoch :: [7/10] Step :: [500/2384] Train Accuracy :: 20.8679 Train Loss :: 0.3492\n",
            "Epoch :: [7/10] Step :: [600/2384] Train Accuracy :: 25.0331 Train Loss :: 0.4405\n",
            "Epoch :: [7/10] Step :: [700/2384] Train Accuracy :: 29.1976 Train Loss :: 0.5321\n",
            "Epoch :: [7/10] Step :: [800/2384] Train Accuracy :: 33.3683 Train Loss :: 0.6107\n",
            "Epoch :: [7/10] Step :: [900/2384] Train Accuracy :: 37.5310 Train Loss :: 0.7182\n",
            "Epoch :: [7/10] Step :: [1000/2384] Train Accuracy :: 41.6976 Train Loss :: 0.8082\n",
            "Epoch :: [7/10] Step :: [1100/2384] Train Accuracy :: 45.8607 Train Loss :: 0.9090\n",
            "Epoch :: [7/10] Step :: [1200/2384] Train Accuracy :: 50.0193 Train Loss :: 1.0272\n",
            "Epoch :: [7/10] Step :: [1300/2384] Train Accuracy :: 54.1850 Train Loss :: 1.1199\n",
            "Epoch :: [7/10] Step :: [1400/2384] Train Accuracy :: 58.3511 Train Loss :: 1.2212\n",
            "Epoch :: [7/10] Step :: [1500/2384] Train Accuracy :: 62.5096 Train Loss :: 1.3595\n",
            "Epoch :: [7/10] Step :: [1600/2384] Train Accuracy :: 66.6745 Train Loss :: 1.4572\n",
            "Epoch :: [7/10] Step :: [1700/2384] Train Accuracy :: 70.8402 Train Loss :: 1.5443\n",
            "Epoch :: [7/10] Step :: [1800/2384] Train Accuracy :: 75.0109 Train Loss :: 1.6325\n",
            "Epoch :: [7/10] Step :: [1900/2384] Train Accuracy :: 79.1732 Train Loss :: 1.7317\n",
            "Epoch :: [7/10] Step :: [2000/2384] Train Accuracy :: 83.3381 Train Loss :: 1.8216\n",
            "Epoch :: [7/10] Step :: [2100/2384] Train Accuracy :: 87.5038 Train Loss :: 1.9276\n",
            "Epoch :: [7/10] Step :: [2200/2384] Train Accuracy :: 91.6711 Train Loss :: 2.0063\n",
            "Epoch :: [7/10] Step :: [2300/2384] Train Accuracy :: 95.8322 Train Loss :: 2.1137\n",
            "Epoch :: [7/10] Step :: [100/596] Val Accuracy :: 99.3289 Val Loss :: 2.1937\n",
            "Epoch :: [7/10] Step :: [200/596] Val Accuracy :: 99.3289 Val Loss :: 2.1937\n",
            "Epoch :: [7/10] Step :: [300/596] Val Accuracy :: 99.3289 Val Loss :: 2.1937\n",
            "Epoch :: [7/10] Step :: [400/596] Val Accuracy :: 99.3289 Val Loss :: 2.1937\n",
            "Epoch :: [7/10] Step :: [500/596] Val Accuracy :: 99.3289 Val Loss :: 2.1937\n",
            "Epoch :: [8/10] Step :: [100/2384] Train Accuracy :: 4.1774 Train Loss :: 0.0502\n",
            "Epoch :: [8/10] Step :: [200/2384] Train Accuracy :: 8.3511 Train Loss :: 0.1259\n",
            "Epoch :: [8/10] Step :: [300/2384] Train Accuracy :: 12.5227 Train Loss :: 0.1930\n",
            "Epoch :: [8/10] Step :: [400/2384] Train Accuracy :: 16.6892 Train Loss :: 0.2768\n",
            "Epoch :: [8/10] Step :: [500/2384] Train Accuracy :: 20.8633 Train Loss :: 0.3439\n",
            "Epoch :: [8/10] Step :: [600/2384] Train Accuracy :: 25.0369 Train Loss :: 0.4176\n",
            "Epoch :: [8/10] Step :: [700/2384] Train Accuracy :: 29.2118 Train Loss :: 0.4988\n",
            "Epoch :: [8/10] Step :: [800/2384] Train Accuracy :: 33.3855 Train Loss :: 0.5666\n",
            "Epoch :: [8/10] Step :: [900/2384] Train Accuracy :: 37.5529 Train Loss :: 0.6466\n",
            "Epoch :: [8/10] Step :: [1000/2384] Train Accuracy :: 41.7135 Train Loss :: 0.7508\n",
            "Epoch :: [8/10] Step :: [1100/2384] Train Accuracy :: 45.8817 Train Loss :: 0.8303\n",
            "Epoch :: [8/10] Step :: [1200/2384] Train Accuracy :: 50.0508 Train Loss :: 0.9209\n",
            "Epoch :: [8/10] Step :: [1300/2384] Train Accuracy :: 54.2106 Train Loss :: 1.0251\n",
            "Epoch :: [8/10] Step :: [1400/2384] Train Accuracy :: 58.3809 Train Loss :: 1.1015\n",
            "Epoch :: [8/10] Step :: [1500/2384] Train Accuracy :: 62.5566 Train Loss :: 1.1698\n",
            "Epoch :: [8/10] Step :: [1600/2384] Train Accuracy :: 66.7215 Train Loss :: 1.2566\n",
            "Epoch :: [8/10] Step :: [1700/2384] Train Accuracy :: 70.8909 Train Loss :: 1.3388\n",
            "Epoch :: [8/10] Step :: [1800/2384] Train Accuracy :: 75.0529 Train Loss :: 1.4318\n",
            "Epoch :: [8/10] Step :: [1900/2384] Train Accuracy :: 79.2232 Train Loss :: 1.5063\n",
            "Epoch :: [8/10] Step :: [2000/2384] Train Accuracy :: 83.3909 Train Loss :: 1.5897\n",
            "Epoch :: [8/10] Step :: [2100/2384] Train Accuracy :: 87.5596 Train Loss :: 1.6845\n",
            "Epoch :: [8/10] Step :: [2200/2384] Train Accuracy :: 91.7294 Train Loss :: 1.7831\n",
            "Epoch :: [8/10] Step :: [2300/2384] Train Accuracy :: 95.8993 Train Loss :: 1.8710\n",
            "Epoch :: [8/10] Step :: [100/596] Val Accuracy :: 99.3996 Val Loss :: 1.9355\n",
            "Epoch :: [8/10] Step :: [200/596] Val Accuracy :: 99.3996 Val Loss :: 1.9355\n",
            "Epoch :: [8/10] Step :: [300/596] Val Accuracy :: 99.3996 Val Loss :: 1.9355\n",
            "Epoch :: [8/10] Step :: [400/596] Val Accuracy :: 99.3996 Val Loss :: 1.9355\n",
            "Epoch :: [8/10] Step :: [500/596] Val Accuracy :: 99.3996 Val Loss :: 1.9355\n",
            "Epoch :: [9/10] Step :: [100/2384] Train Accuracy :: 4.1749 Train Loss :: 0.0524\n",
            "Epoch :: [9/10] Step :: [200/2384] Train Accuracy :: 8.3486 Train Loss :: 0.1155\n",
            "Epoch :: [9/10] Step :: [300/2384] Train Accuracy :: 12.5231 Train Loss :: 0.1804\n",
            "Epoch :: [9/10] Step :: [400/2384] Train Accuracy :: 16.7022 Train Loss :: 0.2301\n",
            "Epoch :: [9/10] Step :: [500/2384] Train Accuracy :: 20.8746 Train Loss :: 0.3043\n",
            "Epoch :: [9/10] Step :: [600/2384] Train Accuracy :: 25.0449 Train Loss :: 0.3805\n",
            "Epoch :: [9/10] Step :: [700/2384] Train Accuracy :: 29.2148 Train Loss :: 0.4458\n",
            "Epoch :: [9/10] Step :: [800/2384] Train Accuracy :: 33.3851 Train Loss :: 0.5236\n",
            "Epoch :: [9/10] Step :: [900/2384] Train Accuracy :: 37.5596 Train Loss :: 0.5893\n",
            "Epoch :: [9/10] Step :: [1000/2384] Train Accuracy :: 41.7290 Train Loss :: 0.6673\n",
            "Epoch :: [9/10] Step :: [1100/2384] Train Accuracy :: 45.8930 Train Loss :: 0.7709\n",
            "Epoch :: [9/10] Step :: [1200/2384] Train Accuracy :: 50.0621 Train Loss :: 0.8636\n",
            "Epoch :: [9/10] Step :: [1300/2384] Train Accuracy :: 54.2370 Train Loss :: 0.9279\n",
            "Epoch :: [9/10] Step :: [1400/2384] Train Accuracy :: 58.4115 Train Loss :: 0.9964\n",
            "Epoch :: [9/10] Step :: [1500/2384] Train Accuracy :: 62.5831 Train Loss :: 1.0693\n",
            "Epoch :: [9/10] Step :: [1600/2384] Train Accuracy :: 66.7576 Train Loss :: 1.1313\n",
            "Epoch :: [9/10] Step :: [1700/2384] Train Accuracy :: 70.9287 Train Loss :: 1.2054\n",
            "Epoch :: [9/10] Step :: [1800/2384] Train Accuracy :: 75.0969 Train Loss :: 1.2873\n",
            "Epoch :: [9/10] Step :: [1900/2384] Train Accuracy :: 79.2605 Train Loss :: 1.3793\n",
            "Epoch :: [9/10] Step :: [2000/2384] Train Accuracy :: 83.4287 Train Loss :: 1.4709\n",
            "Epoch :: [9/10] Step :: [2100/2384] Train Accuracy :: 87.5948 Train Loss :: 1.5585\n",
            "Epoch :: [9/10] Step :: [2200/2384] Train Accuracy :: 91.7664 Train Loss :: 1.6363\n",
            "Epoch :: [9/10] Step :: [2300/2384] Train Accuracy :: 95.9249 Train Loss :: 1.7485\n",
            "Epoch :: [9/10] Step :: [100/596] Val Accuracy :: 99.4251 Val Loss :: 1.8195\n",
            "Epoch :: [9/10] Step :: [200/596] Val Accuracy :: 99.4251 Val Loss :: 1.8195\n",
            "Epoch :: [9/10] Step :: [300/596] Val Accuracy :: 99.4251 Val Loss :: 1.8195\n",
            "Epoch :: [9/10] Step :: [400/596] Val Accuracy :: 99.4251 Val Loss :: 1.8195\n",
            "Epoch :: [9/10] Step :: [500/596] Val Accuracy :: 99.4251 Val Loss :: 1.8195\n",
            "Epoch :: [10/10] Step :: [100/2384] Train Accuracy :: 4.1724 Train Loss :: 0.0611\n",
            "Epoch :: [10/10] Step :: [200/2384] Train Accuracy :: 8.3473 Train Loss :: 0.1211\n",
            "Epoch :: [10/10] Step :: [300/2384] Train Accuracy :: 12.5231 Train Loss :: 0.1758\n",
            "Epoch :: [10/10] Step :: [400/2384] Train Accuracy :: 16.6955 Train Loss :: 0.2507\n",
            "Epoch :: [10/10] Step :: [500/2384] Train Accuracy :: 20.8679 Train Loss :: 0.3117\n",
            "Epoch :: [10/10] Step :: [600/2384] Train Accuracy :: 25.0378 Train Loss :: 0.3872\n",
            "Epoch :: [10/10] Step :: [700/2384] Train Accuracy :: 29.2085 Train Loss :: 0.4596\n",
            "Epoch :: [10/10] Step :: [800/2384] Train Accuracy :: 33.3893 Train Loss :: 0.4999\n",
            "Epoch :: [10/10] Step :: [900/2384] Train Accuracy :: 37.5638 Train Loss :: 0.5669\n",
            "Epoch :: [10/10] Step :: [1000/2384] Train Accuracy :: 41.7387 Train Loss :: 0.6289\n",
            "Epoch :: [10/10] Step :: [1100/2384] Train Accuracy :: 45.9148 Train Loss :: 0.6945\n",
            "Epoch :: [10/10] Step :: [1200/2384] Train Accuracy :: 50.0927 Train Loss :: 0.7448\n",
            "Epoch :: [10/10] Step :: [1300/2384] Train Accuracy :: 54.2634 Train Loss :: 0.8215\n",
            "Epoch :: [10/10] Step :: [1400/2384] Train Accuracy :: 58.4371 Train Loss :: 0.8986\n",
            "Epoch :: [10/10] Step :: [1500/2384] Train Accuracy :: 62.6107 Train Loss :: 0.9644\n",
            "Epoch :: [10/10] Step :: [1600/2384] Train Accuracy :: 66.7844 Train Loss :: 1.0298\n",
            "Epoch :: [10/10] Step :: [1700/2384] Train Accuracy :: 70.9539 Train Loss :: 1.1060\n",
            "Epoch :: [10/10] Step :: [1800/2384] Train Accuracy :: 75.1309 Train Loss :: 1.1661\n",
            "Epoch :: [10/10] Step :: [1900/2384] Train Accuracy :: 79.3100 Train Loss :: 1.2221\n",
            "Epoch :: [10/10] Step :: [2000/2384] Train Accuracy :: 83.4828 Train Loss :: 1.2980\n",
            "Epoch :: [10/10] Step :: [2100/2384] Train Accuracy :: 87.6556 Train Loss :: 1.3700\n",
            "Epoch :: [10/10] Step :: [2200/2384] Train Accuracy :: 91.8289 Train Loss :: 1.4258\n",
            "Epoch :: [10/10] Step :: [2300/2384] Train Accuracy :: 95.9958 Train Loss :: 1.5108\n",
            "Epoch :: [10/10] Step :: [100/596] Val Accuracy :: 99.4994 Val Loss :: 1.5777\n",
            "Epoch :: [10/10] Step :: [200/596] Val Accuracy :: 99.4994 Val Loss :: 1.5777\n",
            "Epoch :: [10/10] Step :: [300/596] Val Accuracy :: 99.4994 Val Loss :: 1.5777\n",
            "Epoch :: [10/10] Step :: [400/596] Val Accuracy :: 99.4994 Val Loss :: 1.5777\n",
            "Epoch :: [10/10] Step :: [500/596] Val Accuracy :: 99.4994 Val Loss :: 1.5777\n"
          ]
        }
      ]
    },
    {
      "cell_type": "code",
      "metadata": {
        "id": "prWkrWoOMEQp"
      },
      "source": [
        "torch.save(net.state_dict(), \"english.pt\")"
      ],
      "execution_count": 211,
      "outputs": []
    },
    {
      "cell_type": "code",
      "metadata": {
        "colab": {
          "base_uri": "https://localhost:8080/"
        },
        "id": "0JY2A63XnLjp",
        "outputId": "a1216702-57f1-4e06-beca-df35cf419c64"
      },
      "source": [
        "net.eval()"
      ],
      "execution_count": 212,
      "outputs": [
        {
          "output_type": "execute_result",
          "data": {
            "text/plain": [
              "NeuralNetwork(\n",
              "  (layer1): Sequential(\n",
              "    (0): Conv2d(1, 16, kernel_size=(3, 3), stride=(1, 1), padding=(1, 1))\n",
              "    (1): BatchNorm2d(16, eps=1e-05, momentum=0.1, affine=True, track_running_stats=True)\n",
              "    (2): ReLU()\n",
              "    (3): MaxPool2d(kernel_size=2, stride=2, padding=0, dilation=1, ceil_mode=False)\n",
              "  )\n",
              "  (layer2): Sequential(\n",
              "    (0): Conv2d(16, 32, kernel_size=(3, 3), stride=(1, 1), padding=(1, 1))\n",
              "    (1): BatchNorm2d(32, eps=1e-05, momentum=0.1, affine=True, track_running_stats=True)\n",
              "    (2): ReLU()\n",
              "    (3): MaxPool2d(kernel_size=2, stride=2, padding=0, dilation=1, ceil_mode=False)\n",
              "  )\n",
              "  (layer3): Sequential(\n",
              "    (0): Conv2d(32, 64, kernel_size=(3, 3), stride=(1, 1), padding=(1, 1))\n",
              "    (1): BatchNorm2d(64, eps=1e-05, momentum=0.1, affine=True, track_running_stats=True)\n",
              "    (2): ReLU()\n",
              "    (3): MaxPool2d(kernel_size=2, stride=2, padding=0, dilation=1, ceil_mode=False)\n",
              "  )\n",
              "  (layer4): Sequential(\n",
              "    (0): Conv2d(64, 128, kernel_size=(3, 3), stride=(1, 1), padding=(1, 1))\n",
              "    (1): BatchNorm2d(128, eps=1e-05, momentum=0.1, affine=True, track_running_stats=True)\n",
              "    (2): ReLU()\n",
              "    (3): MaxPool2d(kernel_size=2, stride=2, padding=0, dilation=1, ceil_mode=False)\n",
              "  )\n",
              "  (FC): Sequential(\n",
              "    (0): Linear(in_features=128, out_features=26, bias=True)\n",
              "  )\n",
              ")"
            ]
          },
          "metadata": {},
          "execution_count": 212
        }
      ]
    },
    {
      "cell_type": "code",
      "metadata": {
        "colab": {
          "base_uri": "https://localhost:8080/"
        },
        "id": "ReGrc3Eqmx_J",
        "outputId": "258454f5-1b40-4ba6-d1e7-4062b822e46b"
      },
      "source": [
        "with torch.no_grad():\n",
        "\n",
        "    epoch_test_acc = 0\n",
        "    epoch_test_loss = 0\n",
        "    \n",
        "    for batch_id,(image, label) in enumerate(test_dataset_loader):\n",
        "  \n",
        "      test_output = net(image)\n",
        "      test_loss = loss_fn(test_output,label)\n",
        "      \n",
        "      val_acc = ((test_output.argmax(dim=1) == label).float().mean())\n",
        "      epoch_test_acc += (val_acc.item() / len(test_dataset_loader)) * 100 \n",
        "      epoch_test_loss += (test_loss.item() / len(test_dataset_loader)) * 100\n",
        "     \n",
        "    print(f\"Accuracy :: {epoch_test_acc:.4f}  Loss :: {epoch_test_loss:.4f}\")\n"
      ],
      "execution_count": 213,
      "outputs": [
        {
          "output_type": "stream",
          "name": "stdout",
          "text": [
            "Accuracy :: 99.1168  Loss :: 4.6909\n"
          ]
        }
      ]
    }
  ]
}