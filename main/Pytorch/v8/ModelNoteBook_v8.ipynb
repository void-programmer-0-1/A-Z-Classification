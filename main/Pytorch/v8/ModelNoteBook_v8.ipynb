{
  "nbformat": 4,
  "nbformat_minor": 2,
  "metadata": {
    "colab": {
      "name": "ModelNoteBook_v8.ipynb",
      "provenance": [],
      "collapsed_sections": []
    },
    "kernelspec": {
      "name": "python3",
      "display_name": "Python 3"
    },
    "language_info": {
      "name": "python"
    }
  },
  "cells": [
    {
      "cell_type": "code",
      "execution_count": 256,
      "source": [
        "import matplotlib.pyplot as plt\n",
        "import numpy as np\n",
        "import pandas as pd\n",
        "from zipfile import ZipFile\n",
        "from sklearn.model_selection import train_test_split\n",
        "import matplotlib.pyplot as plt\n",
        "\n",
        "import torch\n",
        "import torch.nn as nn\n",
        "import torchvision.transforms as transforms\n",
        "from PIL import Image\n",
        "from torch.utils.data import Dataset,DataLoader\n",
        "import torch.nn.functional as F\n",
        "\n",
        "%load_ext tensorboard\n",
        "import torch.utils.tensorboard as tb\n",
        "from torch.utils.tensorboard import SummaryWriter"
      ],
      "outputs": [
        {
          "output_type": "stream",
          "name": "stdout",
          "text": [
            "The tensorboard extension is already loaded. To reload it, use:\n",
            "  %reload_ext tensorboard\n"
          ]
        }
      ],
      "metadata": {
        "id": "KSHZSKPramcf",
        "colab": {
          "base_uri": "https://localhost:8080/"
        },
        "outputId": "4cb2960c-9d20-4e66-e745-24b2970c111d"
      }
    },
    {
      "cell_type": "code",
      "execution_count": 3,
      "source": [
        "from google.colab import drive\n",
        "drive.mount('/content/drive')"
      ],
      "outputs": [
        {
          "output_type": "stream",
          "name": "stdout",
          "text": [
            "Mounted at /content/drive\n"
          ]
        }
      ],
      "metadata": {
        "colab": {
          "base_uri": "https://localhost:8080/"
        },
        "id": "opa2HgmLap7e",
        "outputId": "994a0d44-1937-4820-e063-552e81c9b806"
      }
    },
    {
      "cell_type": "code",
      "execution_count": 6,
      "source": [
        "zip_path = \"/content/drive/MyDrive/A-Z Dataset/A_Z Handwritten Data.csv.zip\""
      ],
      "outputs": [],
      "metadata": {
        "id": "51awci_YaqSn"
      }
    },
    {
      "cell_type": "code",
      "execution_count": 7,
      "source": [
        "with ZipFile(zip_path) as zipfile:\n",
        "    zipfile.extractall()"
      ],
      "outputs": [],
      "metadata": {
        "id": "WkYTvUPXbDra"
      }
    },
    {
      "cell_type": "code",
      "execution_count": 8,
      "source": [
        "csv_path = \"/content/A_Z Handwritten Data.csv\""
      ],
      "outputs": [],
      "metadata": {
        "id": "aEnBCCm4bSLU"
      }
    },
    {
      "cell_type": "code",
      "execution_count": 9,
      "source": [
        "df = pd.read_csv(csv_path)"
      ],
      "outputs": [],
      "metadata": {
        "id": "RL0cd0Ypb-no"
      }
    },
    {
      "cell_type": "code",
      "execution_count": 13,
      "source": [
        "X = df.drop('0',axis = 1).to_numpy() # axis=1 is to say to drop along the columns\n",
        "y = df['0'].to_numpy()"
      ],
      "outputs": [],
      "metadata": {
        "id": "PKoWlVatuVsQ"
      }
    },
    {
      "cell_type": "code",
      "execution_count": null,
      "source": [
        "X_train,X_test,y_train,y_test = train_test_split(X,y,test_size=0.2)"
      ],
      "outputs": [],
      "metadata": {
        "id": "RBDOwaRflThI"
      }
    },
    {
      "cell_type": "code",
      "execution_count": 31,
      "source": [
        "# now take some for validation\n",
        "X_train, X_val, y_train, y_val = train_test_split(X_train,y_train,test_size=0.2)"
      ],
      "outputs": [],
      "metadata": {
        "id": "EvNtofMywDQr"
      }
    },
    {
      "cell_type": "code",
      "execution_count": 34,
      "source": [
        "class Alphabets(Dataset):\n",
        "\n",
        "  def __init__(self,X,y,transform=None):\n",
        "    self.X = X\n",
        "    self.y = y\n",
        "    self.transform = transform\n",
        "  \n",
        "  def __len__(self):\n",
        "    return len(self.X)\n",
        "  \n",
        "  def __getitem__(self,index):\n",
        "    \n",
        "    image = Image.fromarray(((self.X[index]).astype(np.uint8)).reshape(28,28))\n",
        "    label = self.y[index]\n",
        "\n",
        "    if self.transform != None:\n",
        "      image = self.transform(image)\n",
        "    \n",
        "    return image,label"
      ],
      "outputs": [],
      "metadata": {
        "id": "39ZZ298dxFKv"
      }
    },
    {
      "cell_type": "code",
      "execution_count": 236,
      "source": [
        "transform = transforms.Compose([\n",
        "         transforms.ToTensor(),\n",
        "         transforms.RandomAffine(\n",
        "                    degrees=(-30,30), # turning the image within the specified degrees\n",
        "                    translate=(0.2, 0.2), # moves the image horizontally and vertically \n",
        "                    scale=(0.7, 0.7) # this scales (randomly zooms in and zooms out or makes small or big the image) the image \n",
        "                  ),                   \n",
        "])\n",
        "\n",
        "test_transform = transforms.Compose([\n",
        "    transforms.ToTensor()\n",
        "])\n"
      ],
      "outputs": [],
      "metadata": {
        "id": "2JqXjhHgym-Z"
      }
    },
    {
      "cell_type": "code",
      "execution_count": 237,
      "source": [
        "train_dataset = Alphabets(X_train,y_train,transform)\n",
        "test_dataset = Alphabets(X_test,y_test,test_transform)\n",
        "val_dataset = Alphabets(X_val,y_val,transform)"
      ],
      "outputs": [],
      "metadata": {
        "id": "ndk95nEL1HkA"
      }
    },
    {
      "cell_type": "code",
      "execution_count": 238,
      "source": [
        "len(train_dataset),len(test_dataset),len(val_dataset)"
      ],
      "outputs": [
        {
          "output_type": "execute_result",
          "data": {
            "text/plain": [
              "(238368, 74490, 59592)"
            ]
          },
          "metadata": {},
          "execution_count": 238
        }
      ],
      "metadata": {
        "colab": {
          "base_uri": "https://localhost:8080/"
        },
        "id": "GypLinU_2Hq-",
        "outputId": "df3a927d-c2dc-4561-f94e-b6a83d7a383a"
      }
    },
    {
      "cell_type": "code",
      "execution_count": 239,
      "source": [
        "train_dataset_loader = DataLoader(train_dataset,batch_size=100,shuffle=True)\n",
        "test_dataset_loader = DataLoader(test_dataset,batch_size=100,shuffle=True)\n",
        "val_dataset_loader = DataLoader(val_dataset,batch_size=100,shuffle=True)"
      ],
      "outputs": [],
      "metadata": {
        "id": "Bg4S7_rR2Rso"
      }
    },
    {
      "cell_type": "code",
      "execution_count": 240,
      "source": [
        "import torchvision\n",
        "\n",
        "inputs_batch, labels_batch = next(iter(train_dataset_loader))\n",
        "  \n",
        "grid = torchvision.utils.make_grid(inputs_batch,nrow=40, pad_value=1)\n",
        "torchvision.utils.save_image(grid, 'inputs_batch_preview.png')"
      ],
      "outputs": [],
      "metadata": {
        "id": "pMWyE7sYN8Rv"
      }
    },
    {
      "cell_type": "code",
      "execution_count": 241,
      "source": [
        "config = [\n",
        "  \n",
        "    (1,16,3,1,1),\n",
        "    (\"MP\",2,2,0),\n",
        "    (16,32,3,1,1),\n",
        "    (\"MP\",2,2,0),\n",
        "    (32,64,3,1,1),\n",
        "    (\"MP\",2,2,0),\n",
        "    (64,128,3,1,1),\n",
        "    (\"MP\",2,2,0),\n",
        "    \n",
        "]"
      ],
      "outputs": [],
      "metadata": {
        "id": "9Q6tFPV_7PBy"
      }
    },
    {
      "cell_type": "code",
      "execution_count": 242,
      "source": [
        "def conv_output_size(img_size,padding,filter_size,stride,n_filters):\n",
        "   size_ = (int((img_size + (2 * padding) - filter_size) / stride)) + 1\n",
        "   return size_,size_,n_filters"
      ],
      "outputs": [],
      "metadata": {
        "id": "CNRtk0aC7Ps0"
      }
    },
    {
      "cell_type": "code",
      "execution_count": 243,
      "source": [
        "def dense_layer_size(configuration,img_size):\n",
        "\n",
        "  _,output_channels = 0,0\n",
        "  layer_count = 0\n",
        "\n",
        "  for config in configuration:\n",
        "    \n",
        "    layer_count += 1\n",
        "\n",
        "    if config[0] == \"MP\":\n",
        "      img_size,_,output_channels = conv_output_size(img_size,config[3],config[1],config[2],output_channels)\n",
        "      print(\"Max Pooling Layer {} output dims :: \".format(layer_count),img_size,_,output_channels)\n",
        "\n",
        "    else: \n",
        "      img_size,_,output_channels = conv_output_size(img_size,config[4],config[2],config[3],config[1])\n",
        "      print(\"Conv Layer {} output dims :: \".format(layer_count),img_size,_,output_channels)\n",
        "  \n",
        "  return img_size,_,output_channels"
      ],
      "outputs": [],
      "metadata": {
        "id": "93YddgQO7RWb"
      }
    },
    {
      "cell_type": "code",
      "execution_count": 244,
      "source": [
        "width,heigth,channels = dense_layer_size(config,28)"
      ],
      "outputs": [
        {
          "output_type": "stream",
          "name": "stdout",
          "text": [
            "Conv Layer 1 output dims ::  28 28 16\n",
            "Max Pooling Layer 2 output dims ::  14 14 16\n",
            "Conv Layer 3 output dims ::  14 14 32\n",
            "Max Pooling Layer 4 output dims ::  7 7 32\n",
            "Conv Layer 5 output dims ::  7 7 64\n",
            "Max Pooling Layer 6 output dims ::  3 3 64\n",
            "Conv Layer 7 output dims ::  3 3 128\n",
            "Max Pooling Layer 8 output dims ::  1 1 128\n"
          ]
        }
      ],
      "metadata": {
        "colab": {
          "base_uri": "https://localhost:8080/"
        },
        "id": "mz32-Ajw7XC1",
        "outputId": "c1720ce1-24ca-44db-8f92-096064312022"
      }
    },
    {
      "cell_type": "code",
      "execution_count": 245,
      "source": [
        "width,heigth,channels"
      ],
      "outputs": [
        {
          "output_type": "execute_result",
          "data": {
            "text/plain": [
              "(1, 1, 128)"
            ]
          },
          "metadata": {},
          "execution_count": 245
        }
      ],
      "metadata": {
        "colab": {
          "base_uri": "https://localhost:8080/"
        },
        "id": "F87AsNvl7Sh-",
        "outputId": "10ced3d6-ddc2-4787-b112-9c79fefee1df"
      }
    },
    {
      "cell_type": "code",
      "execution_count": 246,
      "source": [
        "class NeuralNetwork(nn.Module):\n",
        "\n",
        "  def __init__(self):\n",
        "    super(NeuralNetwork,self).__init__()\n",
        "\n",
        "    self.conv1 = nn.Conv2d(1,16,3,1,1)\n",
        "    self.conv2 = nn.Conv2d(16,32,3,1,1)\n",
        "    self.conv3 = nn.Conv2d(32,64,3,1,1)\n",
        "    self.conv4 = nn.Conv2d(64,128,3,1,1)\n",
        "    \n",
        "    self.dropout = nn.Dropout2d(0.2)\n",
        "  \n",
        "    self.FC = nn.Linear(128,26)\n",
        "\n",
        "  def forward(self,x):\n",
        "    \n",
        "    x = self.conv1(x)\n",
        "    x = F.max_pool2d(x,2)\n",
        "    x = F.relu(x)\n",
        "    x = self.dropout(x)\n",
        "\n",
        "    x = self.conv2(x)\n",
        "    x = F.max_pool2d(x,2)\n",
        "    x = F.relu(x)\n",
        "    x = self.dropout(x)\n",
        "\n",
        "    x = self.conv3(x)\n",
        "    x = F.max_pool2d(x,2)\n",
        "    x = F.relu(x)\n",
        "    x = self.dropout(x)\n",
        "\n",
        "    x = self.conv4(x)\n",
        "    x = F.max_pool2d(x,2)\n",
        "    x = F.relu(x)\n",
        "    x = self.dropout(x)\n",
        "\n",
        "    x = torch.flatten(x,1)\n",
        "    x = self.FC(x)\n",
        "\n",
        "    return x \n",
        "\n"
      ],
      "outputs": [],
      "metadata": {
        "id": "OpZPWZJN-wJt"
      }
    },
    {
      "cell_type": "code",
      "execution_count": 247,
      "source": [
        "net = NeuralNetwork()\n",
        "net.train()"
      ],
      "outputs": [
        {
          "output_type": "execute_result",
          "data": {
            "text/plain": [
              "NeuralNetwork(\n",
              "  (conv1): Conv2d(1, 16, kernel_size=(3, 3), stride=(1, 1), padding=(1, 1))\n",
              "  (conv2): Conv2d(16, 32, kernel_size=(3, 3), stride=(1, 1), padding=(1, 1))\n",
              "  (conv3): Conv2d(32, 64, kernel_size=(3, 3), stride=(1, 1), padding=(1, 1))\n",
              "  (conv4): Conv2d(64, 128, kernel_size=(3, 3), stride=(1, 1), padding=(1, 1))\n",
              "  (dropout): Dropout2d(p=0.2, inplace=False)\n",
              "  (FC): Linear(in_features=128, out_features=26, bias=True)\n",
              ")"
            ]
          },
          "metadata": {},
          "execution_count": 247
        }
      ],
      "metadata": {
        "colab": {
          "base_uri": "https://localhost:8080/"
        },
        "id": "Q8OSE1Sq_2u2",
        "outputId": "94336da4-e909-42c8-cdd3-0e430177d64f"
      }
    },
    {
      "cell_type": "code",
      "execution_count": 250,
      "source": [
        "lr = 0.001\n",
        "optim = torch.optim.Adam(net.parameters(),lr)\n",
        "loss_fn = nn.CrossEntropyLoss()"
      ],
      "outputs": [],
      "metadata": {
        "id": "CeQ638FqAB3b"
      }
    },
    {
      "cell_type": "code",
      "execution_count": 251,
      "source": [
        "epochs = 20\n",
        "train_len = len(train_dataset_loader)\n",
        "val_len = len(val_dataset_loader)\n",
        "\n",
        "training_accuracy = []\n",
        "training_loss = []\n",
        "\n",
        "validation_accuracy = []\n",
        "validation_loss = []\n",
        "\n",
        "for epoch in range(epochs):\n",
        "\n",
        "  epoch_acc = 0\n",
        "  epoch_loss = 0\n",
        "\n",
        "  for batch_id,(image,label) in enumerate(train_dataset_loader):\n",
        "\n",
        "    output = net(image)\n",
        "\n",
        "    loss = loss_fn(output,label)\n",
        "\n",
        "    optim.zero_grad()\n",
        "    loss.backward()\n",
        "    optim.step()\n",
        "\n",
        "    acc = (output.argmax(dim=1) == label).float().mean()\n",
        "    epoch_acc += (acc.item() / len(train_dataset_loader)) * 100\n",
        "    epoch_loss += (loss.item() / len(train_dataset_loader)) * 100\n",
        "\n",
        "   \n",
        "  print(f\"Epoch :: [{epoch+1}/{epochs}] Step :: [{batch_id + 1}/{train_len}] Train Accuracy :: {epoch_acc:.4f} Train Loss :: {epoch_loss:.4f}\") \n",
        "\n",
        "\n",
        "  training_accuracy.append(epoch_acc)\n",
        "  training_loss.append(epoch_loss)\n",
        "\n",
        "  with torch.no_grad():\n",
        "\n",
        "    epoch_val_accuracy = 0\n",
        "    epoch_val_loss = 0\n",
        "    \n",
        "    for batch_id,(image, label) in enumerate(val_dataset_loader):\n",
        "  \n",
        "      val_output = net(image)\n",
        "      val_loss = loss_fn(val_output,label)\n",
        "      \n",
        "      val_acc = ((val_output.argmax(dim=1) == label).float().mean())\n",
        "      epoch_val_accuracy += (val_acc.item() / len(val_dataset_loader)) * 100 \n",
        "      epoch_val_loss += (val_loss.item() / len(val_dataset_loader)) * 100\n",
        "\n",
        "      \n",
        "    print(f\"Epoch :: [{epoch+1}/{epochs}] Step :: [{batch_id + 1}/{val_len}] Val Accuracy :: {epoch_val_accuracy:.4f} Val Loss :: {epoch_val_loss:.4f}\")\n",
        "\n",
        "    validation_accuracy.append(epoch_val_accuracy)\n",
        "    validation_loss.append(epoch_val_loss)\n",
        "    \n"
      ],
      "outputs": [
        {
          "output_type": "stream",
          "name": "stdout",
          "text": [
            "Epoch :: [1/20] Step :: [2384/2384] Train Accuracy :: 70.7499 Train Loss :: 97.3478\n",
            "Epoch :: [1/20] Step :: [596/596] Val Accuracy :: 84.1247 Val Loss :: 52.9792\n",
            "Epoch :: [2/20] Step :: [2384/2384] Train Accuracy :: 86.4578 Train Loss :: 44.8232\n",
            "Epoch :: [2/20] Step :: [596/596] Val Accuracy :: 87.7165 Val Loss :: 40.7788\n",
            "Epoch :: [3/20] Step :: [2384/2384] Train Accuracy :: 88.6918 Train Loss :: 37.7846\n",
            "Epoch :: [3/20] Step :: [596/596] Val Accuracy :: 89.4732 Val Loss :: 35.3671\n",
            "Epoch :: [4/20] Step :: [2384/2384] Train Accuracy :: 89.8120 Train Loss :: 34.1813\n",
            "Epoch :: [4/20] Step :: [596/596] Val Accuracy :: 90.1576 Val Loss :: 33.1168\n",
            "Epoch :: [5/20] Step :: [2384/2384] Train Accuracy :: 90.4946 Train Loss :: 32.0195\n",
            "Epoch :: [5/20] Step :: [596/596] Val Accuracy :: 90.4503 Val Loss :: 32.3403\n",
            "Epoch :: [6/20] Step :: [2384/2384] Train Accuracy :: 90.9292 Train Loss :: 30.8103\n",
            "Epoch :: [6/20] Step :: [596/596] Val Accuracy :: 91.0643 Val Loss :: 29.9851\n",
            "Epoch :: [7/20] Step :: [2384/2384] Train Accuracy :: 91.2300 Train Loss :: 29.7671\n",
            "Epoch :: [7/20] Step :: [596/596] Val Accuracy :: 91.2087 Val Loss :: 29.9517\n",
            "Epoch :: [8/20] Step :: [2384/2384] Train Accuracy :: 91.6456 Train Loss :: 28.4747\n",
            "Epoch :: [8/20] Step :: [596/596] Val Accuracy :: 91.6533 Val Loss :: 28.4173\n",
            "Epoch :: [9/20] Step :: [2384/2384] Train Accuracy :: 91.7517 Train Loss :: 28.0452\n",
            "Epoch :: [9/20] Step :: [596/596] Val Accuracy :: 91.7043 Val Loss :: 27.9812\n",
            "Epoch :: [10/20] Step :: [2384/2384] Train Accuracy :: 91.9327 Train Loss :: 27.4291\n",
            "Epoch :: [10/20] Step :: [596/596] Val Accuracy :: 91.9187 Val Loss :: 27.4460\n",
            "Epoch :: [11/20] Step :: [2384/2384] Train Accuracy :: 92.0955 Train Loss :: 26.9281\n",
            "Epoch :: [11/20] Step :: [596/596] Val Accuracy :: 92.2908 Val Loss :: 26.6350\n",
            "Epoch :: [12/20] Step :: [2384/2384] Train Accuracy :: 92.1933 Train Loss :: 26.6257\n",
            "Epoch :: [12/20] Step :: [596/596] Val Accuracy :: 92.0205 Val Loss :: 26.7159\n",
            "Epoch :: [13/20] Step :: [2384/2384] Train Accuracy :: 92.2958 Train Loss :: 26.1511\n",
            "Epoch :: [13/20] Step :: [596/596] Val Accuracy :: 92.2102 Val Loss :: 26.8769\n",
            "Epoch :: [14/20] Step :: [2384/2384] Train Accuracy :: 92.4358 Train Loss :: 25.7366\n",
            "Epoch :: [14/20] Step :: [596/596] Val Accuracy :: 92.3702 Val Loss :: 26.0375\n",
            "Epoch :: [15/20] Step :: [2384/2384] Train Accuracy :: 92.5313 Train Loss :: 25.3225\n",
            "Epoch :: [15/20] Step :: [596/596] Val Accuracy :: 92.5608 Val Loss :: 25.3666\n",
            "Epoch :: [16/20] Step :: [2384/2384] Train Accuracy :: 92.6947 Train Loss :: 24.8252\n",
            "Epoch :: [16/20] Step :: [596/596] Val Accuracy :: 92.7224 Val Loss :: 25.0727\n",
            "Epoch :: [17/20] Step :: [2384/2384] Train Accuracy :: 92.6437 Train Loss :: 24.7775\n",
            "Epoch :: [17/20] Step :: [596/596] Val Accuracy :: 92.7368 Val Loss :: 25.0560\n",
            "Epoch :: [18/20] Step :: [2384/2384] Train Accuracy :: 92.7495 Train Loss :: 24.5381\n",
            "Epoch :: [18/20] Step :: [596/596] Val Accuracy :: 92.7574 Val Loss :: 24.5643\n",
            "Epoch :: [19/20] Step :: [2384/2384] Train Accuracy :: 92.7563 Train Loss :: 24.6495\n",
            "Epoch :: [19/20] Step :: [596/596] Val Accuracy :: 92.7628 Val Loss :: 24.6213\n",
            "Epoch :: [20/20] Step :: [2384/2384] Train Accuracy :: 92.8275 Train Loss :: 24.3336\n",
            "Epoch :: [20/20] Step :: [596/596] Val Accuracy :: 92.9450 Val Loss :: 24.1787\n"
          ]
        }
      ],
      "metadata": {
        "colab": {
          "base_uri": "https://localhost:8080/"
        },
        "id": "sKTdnj0aAcHk",
        "outputId": "77437d3c-6413-4199-bac2-07925b93e69b"
      }
    },
    {
      "cell_type": "code",
      "execution_count": 253,
      "source": [
        "net.eval()"
      ],
      "outputs": [
        {
          "output_type": "execute_result",
          "data": {
            "text/plain": [
              "NeuralNetwork(\n",
              "  (conv1): Conv2d(1, 16, kernel_size=(3, 3), stride=(1, 1), padding=(1, 1))\n",
              "  (conv2): Conv2d(16, 32, kernel_size=(3, 3), stride=(1, 1), padding=(1, 1))\n",
              "  (conv3): Conv2d(32, 64, kernel_size=(3, 3), stride=(1, 1), padding=(1, 1))\n",
              "  (conv4): Conv2d(64, 128, kernel_size=(3, 3), stride=(1, 1), padding=(1, 1))\n",
              "  (dropout): Dropout2d(p=0.2, inplace=False)\n",
              "  (FC): Linear(in_features=128, out_features=26, bias=True)\n",
              ")"
            ]
          },
          "metadata": {},
          "execution_count": 253
        }
      ],
      "metadata": {
        "colab": {
          "base_uri": "https://localhost:8080/"
        },
        "id": "0JY2A63XnLjp",
        "outputId": "40a01d87-873a-4388-b0aa-f54cc77e142f"
      }
    },
    {
      "cell_type": "code",
      "execution_count": 254,
      "source": [
        "with torch.no_grad():\n",
        "\n",
        "    epoch_test_acc = 0\n",
        "    epoch_test_loss = 0\n",
        "    \n",
        "    for batch_id,(image, label) in enumerate(test_dataset_loader):\n",
        "  \n",
        "      test_output = net(image)\n",
        "      test_loss = loss_fn(test_output,label)\n",
        "      \n",
        "      val_acc = ((test_output.argmax(dim=1) == label).float().mean())\n",
        "      epoch_test_acc += (val_acc.item() / len(test_dataset_loader)) * 100 \n",
        "      epoch_test_loss += (test_loss.item() / len(test_dataset_loader)) * 100\n",
        "     \n",
        "    print(f\"Accuracy :: {epoch_test_acc:.4f}  Loss :: {epoch_test_loss:.4f}\")\n"
      ],
      "outputs": [
        {
          "output_type": "stream",
          "name": "stdout",
          "text": [
            "Accuracy :: 94.1223  Loss :: 19.6277\n"
          ]
        }
      ],
      "metadata": {
        "colab": {
          "base_uri": "https://localhost:8080/"
        },
        "id": "ReGrc3Eqmx_J",
        "outputId": "59a04d06-256c-401a-fd9f-abae343b8ffd"
      }
    },
    {
      "cell_type": "code",
      "execution_count": 255,
      "source": [
        "torch.save(net.state_dict(),\"englishv8.pt\")"
      ],
      "outputs": [],
      "metadata": {
        "id": "W1mvm9xCSxZA"
      }
    },
    {
      "cell_type": "code",
      "execution_count": 259,
      "source": [
        "epochs_ = list(range(1,21))\n",
        "\n",
        "plt.plot(epochs_,training_accuracy,\"r\",\"training accuracy\")\n",
        "plt.plot(epochs_,validation_accuracy,\"b\",\"validation accuracy\")"
      ],
      "outputs": [
        {
          "output_type": "execute_result",
          "data": {
            "text/plain": [
              "[<matplotlib.lines.Line2D at 0x7fc704415cd0>,\n",
              " <matplotlib.lines.Line2D at 0x7fc704415f50>]"
            ]
          },
          "metadata": {},
          "execution_count": 259
        },
        {
          "output_type": "display_data",
          "data": {
            "image/png": "[encoded data removed]",
            "text/plain": [
              "<Figure size 432x288 with 1 Axes>"
            ]
          },
          "metadata": {
            "needs_background": "light"
          }
        }
      ],
      "metadata": {
        "colab": {
          "base_uri": "https://localhost:8080/",
          "height": 301
        },
        "id": "mkdfD4aIuzVw",
        "outputId": "1e3e09df-7bc1-4b1d-f027-294d322978e8"
      }
    },
    {
      "cell_type": "code",
      "execution_count": 260,
      "source": [
        "epochs_ = list(range(1,21))\n",
        "\n",
        "plt.plot(epochs_,training_loss,\"r\",\"training loss\")\n",
        "plt.plot(epochs_,validation_loss,\"b\",\"validation loss\")"
      ],
      "outputs": [
        {
          "output_type": "execute_result",
          "data": {
            "text/plain": [
              "[<matplotlib.lines.Line2D at 0x7fc7066e9e90>,\n",
              " <matplotlib.lines.Line2D at 0x7fc7066e9c50>]"
            ]
          },
          "metadata": {},
          "execution_count": 260
        },
        {
          "output_type": "display_data",
          "data": {
            "image/png": "[encoded data removed]",
            "text/plain": [
              "<Figure size 432x288 with 1 Axes>"
            ]
          },
          "metadata": {
            "needs_background": "light"
          }
        }
      ],
      "metadata": {
        "colab": {
          "base_uri": "https://localhost:8080/",
          "height": 301
        },
        "id": "8R1kurfEHN-m",
        "outputId": "32c55144-f938-4ed9-946f-9ece41124fee"
      }
    }
  ]
}