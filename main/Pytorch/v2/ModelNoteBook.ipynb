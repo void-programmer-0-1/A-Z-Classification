{
  "nbformat": 4,
  "nbformat_minor": 0,
  "metadata": {
    "colab": {
      "name": "ModelNoteBook.ipynb",
      "provenance": [],
      "collapsed_sections": []
    },
    "kernelspec": {
      "name": "python3",
      "display_name": "Python 3"
    },
    "language_info": {
      "name": "python"
    }
  },
  "cells": [
    {
      "cell_type": "code",
      "metadata": {
        "id": "KSHZSKPramcf"
      },
      "source": [
        "import matplotlib.pyplot as plt\n",
        "import numpy as np\n",
        "import pandas as pd\n",
        "from zipfile import ZipFile\n",
        "from sklearn.model_selection import train_test_split\n",
        "\n",
        "import torch\n",
        "import torch.nn as nn\n",
        "import torchvision.transforms as transforms\n",
        "from PIL import Image\n",
        "from torch.utils.data import Dataset,DataLoader"
      ],
      "execution_count": 1,
      "outputs": []
    },
    {
      "cell_type": "code",
      "metadata": {
        "colab": {
          "base_uri": "https://localhost:8080/"
        },
        "id": "opa2HgmLap7e",
        "outputId": "f0d9d521-893d-4f2e-ece5-e740513ef191"
      },
      "source": [
        "from google.colab import drive\n",
        "drive.mount('/content/drive')"
      ],
      "execution_count": 2,
      "outputs": [
        {
          "output_type": "stream",
          "name": "stdout",
          "text": [
            "Mounted at /content/drive\n"
          ]
        }
      ]
    },
    {
      "cell_type": "code",
      "metadata": {
        "id": "51awci_YaqSn"
      },
      "source": [
        "zip_path = \"/content/drive/MyDrive/A-Z Dataset/A_Z Handwritten Data.csv.zip\""
      ],
      "execution_count": 3,
      "outputs": []
    },
    {
      "cell_type": "code",
      "metadata": {
        "id": "WkYTvUPXbDra"
      },
      "source": [
        "with ZipFile(zip_path) as zipfile:\n",
        "    zipfile.extractall()"
      ],
      "execution_count": 4,
      "outputs": []
    },
    {
      "cell_type": "code",
      "metadata": {
        "id": "aEnBCCm4bSLU"
      },
      "source": [
        "csv_path = \"/content/A_Z Handwritten Data.csv\""
      ],
      "execution_count": 5,
      "outputs": []
    },
    {
      "cell_type": "code",
      "metadata": {
        "id": "RL0cd0Ypb-no"
      },
      "source": [
        "df = pd.read_csv(csv_path)"
      ],
      "execution_count": 6,
      "outputs": []
    },
    {
      "cell_type": "code",
      "metadata": {
        "colab": {
          "base_uri": "https://localhost:8080/"
        },
        "id": "RwA50Ml7cP-N",
        "outputId": "0ce4d9f1-b658-4af1-cc48-20dd397772c1"
      },
      "source": [
        "df.shape"
      ],
      "execution_count": 8,
      "outputs": [
        {
          "output_type": "execute_result",
          "data": {
            "text/plain": [
              "(372450, 785)"
            ]
          },
          "metadata": {},
          "execution_count": 8
        }
      ]
    },
    {
      "cell_type": "code",
      "metadata": {
        "colab": {
          "base_uri": "https://localhost:8080/"
        },
        "id": "j_8Yh78ucVV3",
        "outputId": "9232169f-7e78-46f9-9bb5-0a874fa118c7"
      },
      "source": [
        "df.columns"
      ],
      "execution_count": 9,
      "outputs": [
        {
          "output_type": "execute_result",
          "data": {
            "text/plain": [
              "Index(['0', '0.1', '0.2', '0.3', '0.4', '0.5', '0.6', '0.7', '0.8', '0.9',\n",
              "       ...\n",
              "       '0.639', '0.640', '0.641', '0.642', '0.643', '0.644', '0.645', '0.646',\n",
              "       '0.647', '0.648'],\n",
              "      dtype='object', length=785)"
            ]
          },
          "metadata": {},
          "execution_count": 9
        }
      ]
    },
    {
      "cell_type": "code",
      "metadata": {
        "colab": {
          "base_uri": "https://localhost:8080/"
        },
        "id": "kxp8JyYNcaf4",
        "outputId": "3b2133c5-4812-4605-e6ce-a34dc763f12f"
      },
      "source": [
        "df.info()"
      ],
      "execution_count": 10,
      "outputs": [
        {
          "output_type": "stream",
          "name": "stdout",
          "text": [
            "<class 'pandas.core.frame.DataFrame'>\n",
            "RangeIndex: 372450 entries, 0 to 372449\n",
            "Columns: 785 entries, 0 to 0.648\n",
            "dtypes: int64(785)\n",
            "memory usage: 2.2 GB\n"
          ]
        }
      ]
    },
    {
      "cell_type": "code",
      "metadata": {
        "id": "PKoWlVatuVsQ"
      },
      "source": [
        "X = df.drop('0',axis = 1).to_numpy() # axis=1 is to say to drop along the columns\n",
        "y = df['0'].to_numpy()"
      ],
      "execution_count": 11,
      "outputs": []
    },
    {
      "cell_type": "code",
      "metadata": {
        "colab": {
          "base_uri": "https://localhost:8080/"
        },
        "id": "TNgZtsAjucoN",
        "outputId": "eb2e79d6-8c2f-41bf-f661-17a62d78e137"
      },
      "source": [
        "X.shape"
      ],
      "execution_count": 12,
      "outputs": [
        {
          "output_type": "execute_result",
          "data": {
            "text/plain": [
              "(372450, 784)"
            ]
          },
          "metadata": {},
          "execution_count": 12
        }
      ]
    },
    {
      "cell_type": "code",
      "metadata": {
        "colab": {
          "base_uri": "https://localhost:8080/"
        },
        "id": "vCSoN6wlug_N",
        "outputId": "0c9dc44f-022c-4ac8-8cf2-d1f85235c28e"
      },
      "source": [
        "y.shape"
      ],
      "execution_count": 13,
      "outputs": [
        {
          "output_type": "execute_result",
          "data": {
            "text/plain": [
              "(372450,)"
            ]
          },
          "metadata": {},
          "execution_count": 13
        }
      ]
    },
    {
      "cell_type": "code",
      "metadata": {
        "colab": {
          "base_uri": "https://localhost:8080/",
          "height": 283
        },
        "id": "22qkDIZ-ulQf",
        "outputId": "ca52d72b-b6b6-432f-86de-e72d2437b5d4"
      },
      "source": [
        "index = np.random.randint(0,372450)\n",
        "plt.imshow(X[index].reshape(28,28),cmap=\"gray\")"
      ],
      "execution_count": 14,
      "outputs": [
        {
          "output_type": "execute_result",
          "data": {
            "text/plain": [
              "<matplotlib.image.AxesImage at 0x7fe821873790>"
            ]
          },
          "metadata": {},
          "execution_count": 14
        },
        {
          "output_type": "display_data",
          "data": {
            "image/png": "[encoded data removed]",
            "text/plain": [
              "<Figure size 432x288 with 1 Axes>"
            ]
          },
          "metadata": {
            "needs_background": "light"
          }
        }
      ]
    },
    {
      "cell_type": "code",
      "metadata": {
        "colab": {
          "base_uri": "https://localhost:8080/"
        },
        "id": "9SdteANKvkeV",
        "outputId": "ea1efe0f-780f-4400-ea77-338e0c3a5b2a"
      },
      "source": [
        "372450 * 0.2 # size of the testing data"
      ],
      "execution_count": 15,
      "outputs": [
        {
          "output_type": "execute_result",
          "data": {
            "text/plain": [
              "74490.0"
            ]
          },
          "metadata": {},
          "execution_count": 15
        }
      ]
    },
    {
      "cell_type": "code",
      "metadata": {
        "colab": {
          "base_uri": "https://localhost:8080/"
        },
        "id": "jZ8PmSkOvrWl",
        "outputId": "40039746-61ec-43d8-f617-049f0bb6e97d"
      },
      "source": [
        "372450 - 74490 # size of the training data"
      ],
      "execution_count": 16,
      "outputs": [
        {
          "output_type": "execute_result",
          "data": {
            "text/plain": [
              "297960"
            ]
          },
          "metadata": {},
          "execution_count": 16
        }
      ]
    },
    {
      "cell_type": "code",
      "metadata": {
        "id": "0JEwrmBuu4Yb"
      },
      "source": [
        "X_train,X_test,y_train,y_test = train_test_split(X,y,test_size=0.2)"
      ],
      "execution_count": 17,
      "outputs": []
    },
    {
      "cell_type": "code",
      "metadata": {
        "id": "qNyiWdld2BhD"
      },
      "source": [
        "del df"
      ],
      "execution_count": 19,
      "outputs": []
    },
    {
      "cell_type": "code",
      "metadata": {
        "colab": {
          "base_uri": "https://localhost:8080/"
        },
        "id": "boZQI_4Pvxet",
        "outputId": "be1f2953-064e-48c1-b31d-53c8e3d20c67"
      },
      "source": [
        "X_train.shape,y_train.shape"
      ],
      "execution_count": 20,
      "outputs": [
        {
          "output_type": "execute_result",
          "data": {
            "text/plain": [
              "((297960, 784), (297960,))"
            ]
          },
          "metadata": {},
          "execution_count": 20
        }
      ]
    },
    {
      "cell_type": "code",
      "metadata": {
        "colab": {
          "base_uri": "https://localhost:8080/"
        },
        "id": "E6HckwA0v-Pi",
        "outputId": "a32d3202-a5f9-4104-ccc6-d55ce078ee0b"
      },
      "source": [
        "X_test.shape,y_test.shape"
      ],
      "execution_count": 21,
      "outputs": [
        {
          "output_type": "execute_result",
          "data": {
            "text/plain": [
              "((74490, 784), (74490,))"
            ]
          },
          "metadata": {},
          "execution_count": 21
        }
      ]
    },
    {
      "cell_type": "code",
      "metadata": {
        "colab": {
          "base_uri": "https://localhost:8080/"
        },
        "id": "wkb_RiuQwc8O",
        "outputId": "7d307ef1-b07e-4f79-8770-fedc96b551c9"
      },
      "source": [
        "297960 * 0.2 # val dataset size"
      ],
      "execution_count": 22,
      "outputs": [
        {
          "output_type": "execute_result",
          "data": {
            "text/plain": [
              "59592.0"
            ]
          },
          "metadata": {},
          "execution_count": 22
        }
      ]
    },
    {
      "cell_type": "code",
      "metadata": {
        "colab": {
          "base_uri": "https://localhost:8080/"
        },
        "id": "R9EAIXgYwjEK",
        "outputId": "49835422-4cb8-44c4-80d7-032e470fd180"
      },
      "source": [
        "297960 - 59592 # training dataset size"
      ],
      "execution_count": 23,
      "outputs": [
        {
          "output_type": "execute_result",
          "data": {
            "text/plain": [
              "238368"
            ]
          },
          "metadata": {},
          "execution_count": 23
        }
      ]
    },
    {
      "cell_type": "code",
      "metadata": {
        "id": "EvNtofMywDQr"
      },
      "source": [
        "# now take some for validation\n",
        "X_train, X_val, y_train, y_val = train_test_split(X_train,y_train,test_size=0.2)"
      ],
      "execution_count": 24,
      "outputs": []
    },
    {
      "cell_type": "code",
      "metadata": {
        "colab": {
          "base_uri": "https://localhost:8080/"
        },
        "id": "wBzy27LEwbBJ",
        "outputId": "9d231613-fa63-4fe8-e897-255dcfcfd0a0"
      },
      "source": [
        "X_train.shape,X_val.shape"
      ],
      "execution_count": 25,
      "outputs": [
        {
          "output_type": "execute_result",
          "data": {
            "text/plain": [
              "((238368, 784), (59592, 784))"
            ]
          },
          "metadata": {},
          "execution_count": 25
        }
      ]
    },
    {
      "cell_type": "code",
      "metadata": {
        "colab": {
          "base_uri": "https://localhost:8080/"
        },
        "id": "VHAYA7-Kw3d1",
        "outputId": "2ea85472-7a07-4023-eef1-b3e18b84717b"
      },
      "source": [
        "y_train.shape,y_val.shape"
      ],
      "execution_count": 26,
      "outputs": [
        {
          "output_type": "execute_result",
          "data": {
            "text/plain": [
              "((238368,), (59592,))"
            ]
          },
          "metadata": {},
          "execution_count": 26
        }
      ]
    },
    {
      "cell_type": "code",
      "metadata": {
        "id": "39ZZ298dxFKv"
      },
      "source": [
        "class Alphabets(Dataset):\n",
        "\n",
        "  def __init__(self,X,y,transform=None):\n",
        "    self.X = X\n",
        "    self.y = y\n",
        "    self.transform = transform\n",
        "  \n",
        "  def __len__(self):\n",
        "    return len(self.X)\n",
        "  \n",
        "  def __getitem__(self,index):\n",
        "    # np.array(Image.fromarray((img * 255).astype(np.uint8)).resize((input_size, input_size)).convert('RGB'))\n",
        "\n",
        "    image = Image.fromarray(((self.X[index]).astype(np.uint8)).reshape(28,28))\n",
        "    label = self.y[index]\n",
        "\n",
        "    if self.transform != None:\n",
        "      image = self.transform(image)\n",
        "    \n",
        "    return image,label"
      ],
      "execution_count": 27,
      "outputs": []
    },
    {
      "cell_type": "code",
      "metadata": {
        "id": "2JqXjhHgym-Z"
      },
      "source": [
        "transform = transforms.Compose([\n",
        "         transforms.ToTensor(),\n",
        "         transforms.RandomAffine(\n",
        "                  degrees=30, translate=(0.5, 0.5), scale=(0.25, 1),\n",
        "                  shear=(-30, 30, -30, 30)),                      \n",
        "])"
      ],
      "execution_count": 28,
      "outputs": []
    },
    {
      "cell_type": "code",
      "metadata": {
        "colab": {
          "base_uri": "https://localhost:8080/"
        },
        "id": "CM9Qruk43JiC",
        "outputId": "8123e72a-4df0-4fbc-fb70-677d76af27c8"
      },
      "source": [
        "X_train.shape,X_test.shape,X_val.shape"
      ],
      "execution_count": 29,
      "outputs": [
        {
          "output_type": "execute_result",
          "data": {
            "text/plain": [
              "((238368, 784), (74490, 784), (59592, 784))"
            ]
          },
          "metadata": {},
          "execution_count": 29
        }
      ]
    },
    {
      "cell_type": "code",
      "metadata": {
        "colab": {
          "base_uri": "https://localhost:8080/"
        },
        "id": "qOP_HSuO3SGP",
        "outputId": "c221ca14-3503-4ece-e1f2-e58c1916065b"
      },
      "source": [
        "y_train.shape,y_test.shape,y_val.shape"
      ],
      "execution_count": 30,
      "outputs": [
        {
          "output_type": "execute_result",
          "data": {
            "text/plain": [
              "((238368,), (74490,), (59592,))"
            ]
          },
          "metadata": {},
          "execution_count": 30
        }
      ]
    },
    {
      "cell_type": "code",
      "metadata": {
        "id": "ndk95nEL1HkA"
      },
      "source": [
        "train_dataset = Alphabets(X_train,y_train,transform)\n",
        "test_dataset = Alphabets(X_test,y_test,transform)\n",
        "val_dataset = Alphabets(X_val,y_val,transform)"
      ],
      "execution_count": 31,
      "outputs": []
    },
    {
      "cell_type": "code",
      "metadata": {
        "colab": {
          "base_uri": "https://localhost:8080/"
        },
        "id": "GypLinU_2Hq-",
        "outputId": "36c26adb-e07b-41f6-ea1d-c98567fd94b6"
      },
      "source": [
        "len(train_dataset),len(test_dataset),len(val_dataset)"
      ],
      "execution_count": 32,
      "outputs": [
        {
          "output_type": "execute_result",
          "data": {
            "text/plain": [
              "(238368, 74490, 59592)"
            ]
          },
          "metadata": {},
          "execution_count": 32
        }
      ]
    },
    {
      "cell_type": "code",
      "metadata": {
        "id": "Bg4S7_rR2Rso"
      },
      "source": [
        "train_dataset_loader = DataLoader(train_dataset,batch_size=100,shuffle=True)\n",
        "test_dataset_loader = DataLoader(test_dataset,batch_size=100,shuffle=True)\n",
        "val_dataset_loader = DataLoader(val_dataset,batch_size=100,shuffle=True)"
      ],
      "execution_count": 60,
      "outputs": []
    },
    {
      "cell_type": "code",
      "metadata": {
        "id": "niK89zou75_I"
      },
      "source": [
        "import torchvision\n",
        "\n",
        "inputs_batch, labels_batch = next(iter(train_dataset_loader))\n",
        "grid = torchvision.utils.make_grid(inputs_batch, nrow=40, pad_value=1)\n",
        "torchvision.utils.save_image(grid, 'inputs_batch_preview.png')\n"
      ],
      "execution_count": 61,
      "outputs": []
    },
    {
      "cell_type": "code",
      "metadata": {
        "colab": {
          "base_uri": "https://localhost:8080/",
          "height": 426
        },
        "id": "T43wgHbt2hv-",
        "outputId": "0b1265ba-7633-456d-8de7-1121157212e9"
      },
      "source": [
        "df = iter(train_dataset_loader)\n",
        "df = next(df)\n",
        "\n",
        "print(type(df))\n",
        "print(len(df))\n",
        "\n",
        "print(len(df[0]))\n",
        "print(len(df[1]))\n",
        "\n",
        "print(df[0].shape)\n",
        "print(df[0][0].shape)\n",
        "\n",
        "print(df[1].shape)\n",
        "print(df[1][0].shape)\n",
        "\n",
        "\n",
        "plt.imshow(df[0][0].reshape(28,28),cmap=\"gray\")\n",
        "print(\"label :: \",df[1][0].item())"
      ],
      "execution_count": 62,
      "outputs": [
        {
          "output_type": "stream",
          "name": "stdout",
          "text": [
            "<class 'list'>\n",
            "2\n",
            "100\n",
            "100\n",
            "torch.Size([100, 1, 28, 28])\n",
            "torch.Size([1, 28, 28])\n",
            "torch.Size([100])\n",
            "torch.Size([])\n",
            "label ::  18\n"
          ]
        },
        {
          "output_type": "display_data",
          "data": {
            "image/png": "[encoded data removed]",
            "text/plain": [
              "<Figure size 432x288 with 1 Axes>"
            ]
          },
          "metadata": {
            "needs_background": "light"
          }
        }
      ]
    },
    {
      "cell_type": "code",
      "metadata": {
        "id": "9Q6tFPV_7PBy"
      },
      "source": [
        "config = [\n",
        "     # input_channels:int,no.of filters:int,filter_size:int,stride:int,padding:int\n",
        "     (1,16,3,1,1),\n",
        "     # MP - max pooling:string,filter_size:int,stride:int,padding:int\n",
        "     (\"MP\",2,2,0),\n",
        "     (16,32,3,1,1),\n",
        "     (\"MP\",2,2,0),\n",
        "     (32,64,3,1,1),\n",
        "     (\"MP\",2,2,0),\n",
        "     (64,128,3,1,1),\n",
        "     (\"MP\",2,2,0),\n",
        "]"
      ],
      "execution_count": 63,
      "outputs": []
    },
    {
      "cell_type": "code",
      "metadata": {
        "id": "CNRtk0aC7Ps0"
      },
      "source": [
        "def conv_output_size(img_size,padding,filter_size,stride,n_filters):\n",
        "   size_ = (int((img_size + (2 * padding) - filter_size) / stride)) + 1\n",
        "   return size_,size_,n_filters"
      ],
      "execution_count": 64,
      "outputs": []
    },
    {
      "cell_type": "code",
      "metadata": {
        "id": "93YddgQO7RWb"
      },
      "source": [
        "def dense_layer_size(configuration,img_size):\n",
        "\n",
        "  _,output_channels = 0,0\n",
        "  layer_count = 0\n",
        "\n",
        "  for config in configuration:\n",
        "    \n",
        "    layer_count += 1\n",
        "\n",
        "    if config[0] == \"MP\":\n",
        "      img_size,_,output_channels = conv_output_size(img_size,config[3],config[1],config[2],output_channels)\n",
        "      print(\"Max Pooling Layer {} output dims :: \".format(layer_count),img_size,_,output_channels)\n",
        "\n",
        "    else: \n",
        "      img_size,_,output_channels = conv_output_size(img_size,config[4],config[2],config[3],config[1])\n",
        "      print(\"Conv Layer {} output dims :: \".format(layer_count),img_size,_,output_channels)\n",
        "  \n",
        "  return img_size,_,output_channels"
      ],
      "execution_count": 65,
      "outputs": []
    },
    {
      "cell_type": "code",
      "metadata": {
        "colab": {
          "base_uri": "https://localhost:8080/"
        },
        "id": "mz32-Ajw7XC1",
        "outputId": "9cda45da-5e6d-483f-dec6-74bc72823604"
      },
      "source": [
        "width,heigth,channels = dense_layer_size(config,28)"
      ],
      "execution_count": 66,
      "outputs": [
        {
          "output_type": "stream",
          "name": "stdout",
          "text": [
            "Conv Layer 1 output dims ::  28 28 16\n",
            "Max Pooling Layer 2 output dims ::  14 14 16\n",
            "Conv Layer 3 output dims ::  14 14 32\n",
            "Max Pooling Layer 4 output dims ::  7 7 32\n",
            "Conv Layer 5 output dims ::  7 7 64\n",
            "Max Pooling Layer 6 output dims ::  3 3 64\n",
            "Conv Layer 7 output dims ::  3 3 128\n",
            "Max Pooling Layer 8 output dims ::  1 1 128\n"
          ]
        }
      ]
    },
    {
      "cell_type": "code",
      "metadata": {
        "id": "Zc4naQJD25B8"
      },
      "source": [
        "class NeuralNetwork(nn.Module):\n",
        "\n",
        "  def __init__(self):\n",
        "    super(NeuralNetwork,self).__init__()\n",
        "\n",
        "    self.layer1 = nn.Sequential(\n",
        "      nn.Conv2d(1,16,3,1,1),\n",
        "      nn.BatchNorm2d(16),\n",
        "      nn.ReLU(),\n",
        "      nn.MaxPool2d(2,2)\n",
        "    )\n",
        "\n",
        "    self.layer2 = nn.Sequential(\n",
        "      nn.Conv2d(16,32,3,1,1),\n",
        "      nn.BatchNorm2d(32),\n",
        "      nn.ReLU(),\n",
        "      nn.MaxPool2d(2,2)\n",
        "    )\n",
        "\n",
        "    self.layer3 = nn.Sequential(\n",
        "      nn.Conv2d(32,64,3,1,1),\n",
        "      nn.BatchNorm2d(64),\n",
        "      nn.ReLU(),\n",
        "      nn.MaxPool2d(2,2)\n",
        "    )\n",
        "\n",
        "    self.layer4 = nn.Sequential(\n",
        "      nn.Conv2d(64,128,3,1,1),\n",
        "      nn.BatchNorm2d(128),\n",
        "      nn.ReLU(),\n",
        "      nn.MaxPool2d(2,2)\n",
        "    )\n",
        "\n",
        "    self.FC = nn.Sequential(\n",
        "      nn.Linear(128,26)\n",
        "    )\n",
        "\n",
        "\n",
        "  def forward(self,x):\n",
        "    x = self.layer1(x)\n",
        "    x = self.layer2(x)\n",
        "    x = self.layer3(x)\n",
        "    x = self.layer4(x)\n",
        "    x = torch.flatten(x,1)\n",
        "    x = self.FC(x)\n",
        "\n",
        "    return x\n",
        "\n"
      ],
      "execution_count": 67,
      "outputs": []
    },
    {
      "cell_type": "code",
      "metadata": {
        "colab": {
          "base_uri": "https://localhost:8080/"
        },
        "id": "Q8OSE1Sq_2u2",
        "outputId": "6a9f4c86-8043-4819-d4ea-d4f52b4130a8"
      },
      "source": [
        "net = NeuralNetwork()\n",
        "net.train()"
      ],
      "execution_count": 68,
      "outputs": [
        {
          "output_type": "execute_result",
          "data": {
            "text/plain": [
              "NeuralNetwork(\n",
              "  (layer1): Sequential(\n",
              "    (0): Conv2d(1, 16, kernel_size=(3, 3), stride=(1, 1), padding=(1, 1))\n",
              "    (1): BatchNorm2d(16, eps=1e-05, momentum=0.1, affine=True, track_running_stats=True)\n",
              "    (2): ReLU()\n",
              "    (3): MaxPool2d(kernel_size=2, stride=2, padding=0, dilation=1, ceil_mode=False)\n",
              "  )\n",
              "  (layer2): Sequential(\n",
              "    (0): Conv2d(16, 32, kernel_size=(3, 3), stride=(1, 1), padding=(1, 1))\n",
              "    (1): BatchNorm2d(32, eps=1e-05, momentum=0.1, affine=True, track_running_stats=True)\n",
              "    (2): ReLU()\n",
              "    (3): MaxPool2d(kernel_size=2, stride=2, padding=0, dilation=1, ceil_mode=False)\n",
              "  )\n",
              "  (layer3): Sequential(\n",
              "    (0): Conv2d(32, 64, kernel_size=(3, 3), stride=(1, 1), padding=(1, 1))\n",
              "    (1): BatchNorm2d(64, eps=1e-05, momentum=0.1, affine=True, track_running_stats=True)\n",
              "    (2): ReLU()\n",
              "    (3): MaxPool2d(kernel_size=2, stride=2, padding=0, dilation=1, ceil_mode=False)\n",
              "  )\n",
              "  (layer4): Sequential(\n",
              "    (0): Conv2d(64, 128, kernel_size=(3, 3), stride=(1, 1), padding=(1, 1))\n",
              "    (1): BatchNorm2d(128, eps=1e-05, momentum=0.1, affine=True, track_running_stats=True)\n",
              "    (2): ReLU()\n",
              "    (3): MaxPool2d(kernel_size=2, stride=2, padding=0, dilation=1, ceil_mode=False)\n",
              "  )\n",
              "  (FC): Sequential(\n",
              "    (0): Linear(in_features=128, out_features=26, bias=True)\n",
              "  )\n",
              ")"
            ]
          },
          "metadata": {},
          "execution_count": 68
        }
      ]
    },
    {
      "cell_type": "code",
      "metadata": {
        "id": "CeQ638FqAB3b"
      },
      "source": [
        "lr = 0.01\n",
        "optim = torch.optim.Adam(net.parameters(),lr)\n",
        "loss_fn = nn.CrossEntropyLoss()"
      ],
      "execution_count": 69,
      "outputs": []
    },
    {
      "cell_type": "code",
      "metadata": {
        "colab": {
          "base_uri": "https://localhost:8080/"
        },
        "id": "sKTdnj0aAcHk",
        "outputId": "2812d846-d838-4511-9aa7-b81d2c3892e4"
      },
      "source": [
        "epochs = 15\n",
        "\n",
        "train_len = len(train_dataset_loader)\n",
        "val_len = len(val_dataset_loader)\n",
        "\n",
        "training_accuracy = []\n",
        "training_loss = []\n",
        "\n",
        "validation_accuracy = []\n",
        "validation_loss = []\n",
        "\n",
        "for epoch in range(epochs):\n",
        "\n",
        "  epoch_acc = 0\n",
        "  epoch_loss = 0\n",
        "\n",
        "  for batch_id,(image,label) in enumerate(train_dataset_loader):\n",
        "\n",
        "    output = net(image)\n",
        "\n",
        "    loss = loss_fn(output,label)\n",
        "\n",
        "    optim.zero_grad()\n",
        "    loss.backward()\n",
        "    optim.step()\n",
        "\n",
        "    acc = (output.argmax(dim=1) == label).float().mean()\n",
        "    epoch_acc += (acc.item() / len(train_dataset_loader)) \n",
        "    epoch_loss += (loss.item() / len(train_dataset_loader)) \n",
        "  \n",
        "  print(f\"Epoch :: [{epoch+1}/{epochs}] Train Accuracy :: {epoch_acc:.4f} Train Loss :: {epoch_loss:.4f}\") \n",
        "  \n",
        "  training_accuracy.append(epoch_acc)\n",
        "  training_loss.append(epoch_loss)\n",
        "\n",
        "  with torch.no_grad():\n",
        "\n",
        "    epoch_val_accuracy = 0\n",
        "    epoch_val_loss = 0\n",
        "    \n",
        "    for batch_id,(image, label) in enumerate(val_dataset_loader):\n",
        "  \n",
        "      val_output = net(image)\n",
        "      val_loss = loss_fn(val_output,label)\n",
        "      \n",
        "      val_acc = ((val_output.argmax(dim=1) == label).float().mean())\n",
        "      epoch_val_accuracy += (val_acc.item() / len(val_dataset_loader))  \n",
        "      epoch_val_loss += (val_loss.item() / len(val_dataset_loader))\n",
        "\n",
        "    print(f\"Epoch :: [{epoch+1}/{epochs}] Val Accuracy :: {epoch_val_accuracy:.4f} Val Loss :: {epoch_val_loss:.4f}\")\n",
        "\n",
        "    validation_accuracy.append(epoch_val_accuracy)\n",
        "    validation_loss.append(epoch_val_loss)\n",
        "    "
      ],
      "execution_count": 71,
      "outputs": [
        {
          "output_type": "stream",
          "name": "stdout",
          "text": [
            "Epoch :: [1/15] Train Accuracy :: 0.6836 Train Loss :: 1.0355\n",
            "Epoch :: [1/15] Val Accuracy :: 0.6878 Val Loss :: 1.0182\n",
            "Epoch :: [2/15] Train Accuracy :: 0.6937 Train Loss :: 1.0020\n",
            "Epoch :: [2/15] Val Accuracy :: 0.6916 Val Loss :: 1.0096\n",
            "Epoch :: [3/15] Train Accuracy :: 0.6996 Train Loss :: 0.9784\n",
            "Epoch :: [3/15] Val Accuracy :: 0.6993 Val Loss :: 0.9860\n",
            "Epoch :: [4/15] Train Accuracy :: 0.7049 Train Loss :: 0.9607\n",
            "Epoch :: [4/15] Val Accuracy :: 0.7060 Val Loss :: 0.9548\n",
            "Epoch :: [5/15] Train Accuracy :: 0.7098 Train Loss :: 0.9453\n",
            "Epoch :: [5/15] Val Accuracy :: 0.7088 Val Loss :: 0.9488\n",
            "Epoch :: [6/15] Train Accuracy :: 0.7135 Train Loss :: 0.9280\n",
            "Epoch :: [6/15] Val Accuracy :: 0.7154 Val Loss :: 0.9273\n",
            "Epoch :: [7/15] Train Accuracy :: 0.7162 Train Loss :: 0.9235\n",
            "Epoch :: [7/15] Val Accuracy :: 0.7127 Val Loss :: 0.9333\n",
            "Epoch :: [8/15] Train Accuracy :: 0.7188 Train Loss :: 0.9145\n",
            "Epoch :: [8/15] Val Accuracy :: 0.7120 Val Loss :: 0.9361\n",
            "Epoch :: [9/15] Train Accuracy :: 0.7208 Train Loss :: 0.9069\n",
            "Epoch :: [9/15] Val Accuracy :: 0.7219 Val Loss :: 0.9085\n",
            "Epoch :: [10/15] Train Accuracy :: 0.7236 Train Loss :: 0.8982\n",
            "Epoch :: [10/15] Val Accuracy :: 0.7244 Val Loss :: 0.8923\n",
            "Epoch :: [11/15] Train Accuracy :: 0.7239 Train Loss :: 0.8942\n",
            "Epoch :: [11/15] Val Accuracy :: 0.7228 Val Loss :: 0.9022\n",
            "Epoch :: [12/15] Train Accuracy :: 0.7268 Train Loss :: 0.8878\n",
            "Epoch :: [12/15] Val Accuracy :: 0.7247 Val Loss :: 0.8913\n",
            "Epoch :: [13/15] Train Accuracy :: 0.7287 Train Loss :: 0.8822\n",
            "Epoch :: [13/15] Val Accuracy :: 0.7279 Val Loss :: 0.8779\n",
            "Epoch :: [14/15] Train Accuracy :: 0.7309 Train Loss :: 0.8781\n",
            "Epoch :: [14/15] Val Accuracy :: 0.7286 Val Loss :: 0.8800\n",
            "Epoch :: [15/15] Train Accuracy :: 0.7312 Train Loss :: 0.8723\n",
            "Epoch :: [15/15] Val Accuracy :: 0.7349 Val Loss :: 0.8729\n"
          ]
        }
      ]
    },
    {
      "cell_type": "code",
      "metadata": {
        "id": "ZzIgtd0tBPAe"
      },
      "source": [
        ""
      ],
      "execution_count": null,
      "outputs": []
    },
    {
      "cell_type": "code",
      "metadata": {
        "id": "prWkrWoOMEQp"
      },
      "source": [
        "torch.save(net.state_dict(), \"englishv2.pt\")"
      ],
      "execution_count": 72,
      "outputs": []
    },
    {
      "cell_type": "code",
      "metadata": {
        "colab": {
          "base_uri": "https://localhost:8080/"
        },
        "id": "0JY2A63XnLjp",
        "outputId": "b3440f21-afd7-44e2-8927-9a7c04701944"
      },
      "source": [
        "net.eval()"
      ],
      "execution_count": 73,
      "outputs": [
        {
          "output_type": "execute_result",
          "data": {
            "text/plain": [
              "NeuralNetwork(\n",
              "  (layer1): Sequential(\n",
              "    (0): Conv2d(1, 16, kernel_size=(3, 3), stride=(1, 1), padding=(1, 1))\n",
              "    (1): BatchNorm2d(16, eps=1e-05, momentum=0.1, affine=True, track_running_stats=True)\n",
              "    (2): ReLU()\n",
              "    (3): MaxPool2d(kernel_size=2, stride=2, padding=0, dilation=1, ceil_mode=False)\n",
              "  )\n",
              "  (layer2): Sequential(\n",
              "    (0): Conv2d(16, 32, kernel_size=(3, 3), stride=(1, 1), padding=(1, 1))\n",
              "    (1): BatchNorm2d(32, eps=1e-05, momentum=0.1, affine=True, track_running_stats=True)\n",
              "    (2): ReLU()\n",
              "    (3): MaxPool2d(kernel_size=2, stride=2, padding=0, dilation=1, ceil_mode=False)\n",
              "  )\n",
              "  (layer3): Sequential(\n",
              "    (0): Conv2d(32, 64, kernel_size=(3, 3), stride=(1, 1), padding=(1, 1))\n",
              "    (1): BatchNorm2d(64, eps=1e-05, momentum=0.1, affine=True, track_running_stats=True)\n",
              "    (2): ReLU()\n",
              "    (3): MaxPool2d(kernel_size=2, stride=2, padding=0, dilation=1, ceil_mode=False)\n",
              "  )\n",
              "  (layer4): Sequential(\n",
              "    (0): Conv2d(64, 128, kernel_size=(3, 3), stride=(1, 1), padding=(1, 1))\n",
              "    (1): BatchNorm2d(128, eps=1e-05, momentum=0.1, affine=True, track_running_stats=True)\n",
              "    (2): ReLU()\n",
              "    (3): MaxPool2d(kernel_size=2, stride=2, padding=0, dilation=1, ceil_mode=False)\n",
              "  )\n",
              "  (FC): Sequential(\n",
              "    (0): Linear(in_features=128, out_features=26, bias=True)\n",
              "  )\n",
              ")"
            ]
          },
          "metadata": {},
          "execution_count": 73
        }
      ]
    },
    {
      "cell_type": "code",
      "metadata": {
        "colab": {
          "base_uri": "https://localhost:8080/"
        },
        "id": "ReGrc3Eqmx_J",
        "outputId": "5c2139de-365c-463b-a502-fe784121b683"
      },
      "source": [
        "with torch.no_grad():\n",
        "\n",
        "    epoch_test_acc = 0\n",
        "    epoch_test_loss = 0\n",
        "    \n",
        "    for batch_id,(image, label) in enumerate(test_dataset_loader):\n",
        "  \n",
        "      test_output = net(image)\n",
        "      test_loss = loss_fn(test_output,label)\n",
        "      \n",
        "      val_acc = ((test_output.argmax(dim=1) == label).float().mean())\n",
        "      epoch_test_acc += (val_acc.item() / len(test_dataset_loader)) * 100 \n",
        "      epoch_test_loss += (test_loss.item() / len(test_dataset_loader)) * 100\n",
        "     \n",
        "    print(f\"Accuracy :: {epoch_test_acc:.4f}  Loss :: {epoch_test_loss:.4f}\")\n"
      ],
      "execution_count": 74,
      "outputs": [
        {
          "output_type": "stream",
          "name": "stdout",
          "text": [
            "Accuracy :: 73.5576  Loss :: 85.4476\n"
          ]
        }
      ]
    },
    {
      "cell_type": "code",
      "metadata": {
        "id": "aYctJqCMaz5i"
      },
      "source": [
        ""
      ],
      "execution_count": null,
      "outputs": []
    }
  ]
}