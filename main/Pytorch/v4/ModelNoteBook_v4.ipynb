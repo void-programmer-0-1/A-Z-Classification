{
  "nbformat": 4,
  "nbformat_minor": 0,
  "metadata": {
    "colab": {
      "name": "ModelNoteBook_v4.ipynb",
      "provenance": [],
      "collapsed_sections": []
    },
    "kernelspec": {
      "name": "python3",
      "display_name": "Python 3"
    },
    "language_info": {
      "name": "python"
    }
  },
  "cells": [
    {
      "cell_type": "code",
      "metadata": {
        "id": "KSHZSKPramcf"
      },
      "source": [
        "import matplotlib.pyplot as plt\n",
        "import numpy as np\n",
        "import pandas as pd\n",
        "from zipfile import ZipFile\n",
        "from sklearn.model_selection import train_test_split\n",
        "\n",
        "import torch\n",
        "import torch.nn as nn\n",
        "import torchvision.transforms as transforms\n",
        "from PIL import Image\n",
        "from torch.utils.data import Dataset,DataLoader"
      ],
      "execution_count": 1,
      "outputs": []
    },
    {
      "cell_type": "code",
      "metadata": {
        "colab": {
          "base_uri": "https://localhost:8080/"
        },
        "id": "opa2HgmLap7e",
        "outputId": "97f416f7-693b-4cd4-fc17-172e6f046d64"
      },
      "source": [
        "from google.colab import drive\n",
        "drive.mount('/content/drive')"
      ],
      "execution_count": 2,
      "outputs": [
        {
          "output_type": "stream",
          "name": "stdout",
          "text": [
            "Drive already mounted at /content/drive; to attempt to forcibly remount, call drive.mount(\"/content/drive\", force_remount=True).\n"
          ]
        }
      ]
    },
    {
      "cell_type": "code",
      "metadata": {
        "id": "51awci_YaqSn"
      },
      "source": [
        "zip_path = \"/content/drive/MyDrive/A-Z Dataset/A_Z Handwritten Data.csv.zip\""
      ],
      "execution_count": 3,
      "outputs": []
    },
    {
      "cell_type": "code",
      "metadata": {
        "id": "WkYTvUPXbDra"
      },
      "source": [
        "with ZipFile(zip_path) as zipfile:\n",
        "    zipfile.extractall()"
      ],
      "execution_count": 4,
      "outputs": []
    },
    {
      "cell_type": "code",
      "metadata": {
        "id": "aEnBCCm4bSLU"
      },
      "source": [
        "csv_path = \"/content/A_Z Handwritten Data.csv\""
      ],
      "execution_count": 5,
      "outputs": []
    },
    {
      "cell_type": "code",
      "metadata": {
        "id": "RL0cd0Ypb-no"
      },
      "source": [
        "df = pd.read_csv(csv_path)"
      ],
      "execution_count": 6,
      "outputs": []
    },
    {
      "cell_type": "code",
      "metadata": {
        "colab": {
          "base_uri": "https://localhost:8080/"
        },
        "id": "RwA50Ml7cP-N",
        "outputId": "523dc008-604e-422f-8518-ad718787d962"
      },
      "source": [
        "df.shape"
      ],
      "execution_count": 7,
      "outputs": [
        {
          "output_type": "execute_result",
          "data": {
            "text/plain": [
              "(372450, 785)"
            ]
          },
          "metadata": {},
          "execution_count": 7
        }
      ]
    },
    {
      "cell_type": "code",
      "metadata": {
        "colab": {
          "base_uri": "https://localhost:8080/"
        },
        "id": "j_8Yh78ucVV3",
        "outputId": "80ff1ae1-4c30-49c1-f2a2-0e46dbcced49"
      },
      "source": [
        "df.columns"
      ],
      "execution_count": 8,
      "outputs": [
        {
          "output_type": "execute_result",
          "data": {
            "text/plain": [
              "Index(['0', '0.1', '0.2', '0.3', '0.4', '0.5', '0.6', '0.7', '0.8', '0.9',\n",
              "       ...\n",
              "       '0.639', '0.640', '0.641', '0.642', '0.643', '0.644', '0.645', '0.646',\n",
              "       '0.647', '0.648'],\n",
              "      dtype='object', length=785)"
            ]
          },
          "metadata": {},
          "execution_count": 8
        }
      ]
    },
    {
      "cell_type": "code",
      "metadata": {
        "colab": {
          "base_uri": "https://localhost:8080/"
        },
        "id": "kxp8JyYNcaf4",
        "outputId": "834de246-6e4d-4b41-eb05-fd35d5e7d8b1"
      },
      "source": [
        "df.info()"
      ],
      "execution_count": 9,
      "outputs": [
        {
          "output_type": "stream",
          "name": "stdout",
          "text": [
            "<class 'pandas.core.frame.DataFrame'>\n",
            "RangeIndex: 372450 entries, 0 to 372449\n",
            "Columns: 785 entries, 0 to 0.648\n",
            "dtypes: int64(785)\n",
            "memory usage: 2.2 GB\n"
          ]
        }
      ]
    },
    {
      "cell_type": "code",
      "metadata": {
        "id": "PKoWlVatuVsQ"
      },
      "source": [
        "X = df.drop('0',axis = 1).to_numpy() # axis=1 is to say to drop along the columns\n",
        "y = df['0'].to_numpy()"
      ],
      "execution_count": 10,
      "outputs": []
    },
    {
      "cell_type": "code",
      "metadata": {
        "colab": {
          "base_uri": "https://localhost:8080/"
        },
        "id": "TNgZtsAjucoN",
        "outputId": "767ad1d8-10c6-4d4c-ac72-c0fcb26bc08e"
      },
      "source": [
        "X.shape"
      ],
      "execution_count": 11,
      "outputs": [
        {
          "output_type": "execute_result",
          "data": {
            "text/plain": [
              "(372450, 784)"
            ]
          },
          "metadata": {},
          "execution_count": 11
        }
      ]
    },
    {
      "cell_type": "code",
      "metadata": {
        "colab": {
          "base_uri": "https://localhost:8080/"
        },
        "id": "vCSoN6wlug_N",
        "outputId": "d1c586c7-a509-430e-f028-9d4654b98b54"
      },
      "source": [
        "y.shape"
      ],
      "execution_count": 12,
      "outputs": [
        {
          "output_type": "execute_result",
          "data": {
            "text/plain": [
              "(372450,)"
            ]
          },
          "metadata": {},
          "execution_count": 12
        }
      ]
    },
    {
      "cell_type": "code",
      "metadata": {
        "colab": {
          "base_uri": "https://localhost:8080/",
          "height": 283
        },
        "id": "22qkDIZ-ulQf",
        "outputId": "80c3285e-fbd0-44ec-8d8c-a59102eed9cb"
      },
      "source": [
        "index = np.random.randint(0,372450)\n",
        "plt.imshow(X[index].reshape(28,28),cmap=\"gray\")"
      ],
      "execution_count": 13,
      "outputs": [
        {
          "output_type": "execute_result",
          "data": {
            "text/plain": [
              "<matplotlib.image.AxesImage at 0x7f833f384550>"
            ]
          },
          "metadata": {},
          "execution_count": 13
        },
        {
          "output_type": "display_data",
          "data": {
            "image/png": "[encoded data removed]",
            "text/plain": [
              "<Figure size 432x288 with 1 Axes>"
            ]
          },
          "metadata": {
            "needs_background": "light"
          }
        }
      ]
    },
    {
      "cell_type": "code",
      "metadata": {
        "colab": {
          "base_uri": "https://localhost:8080/"
        },
        "id": "9SdteANKvkeV",
        "outputId": "d31f0edd-a880-4bc4-c093-cd0bda97d7b4"
      },
      "source": [
        "372450 * 0.2 # size of the testing data"
      ],
      "execution_count": 14,
      "outputs": [
        {
          "output_type": "execute_result",
          "data": {
            "text/plain": [
              "74490.0"
            ]
          },
          "metadata": {},
          "execution_count": 14
        }
      ]
    },
    {
      "cell_type": "code",
      "metadata": {
        "colab": {
          "base_uri": "https://localhost:8080/"
        },
        "id": "jZ8PmSkOvrWl",
        "outputId": "89cdb7f2-34b4-4194-e3f5-58e5c957ec8a"
      },
      "source": [
        "372450 - 74490 # size of the training data"
      ],
      "execution_count": 15,
      "outputs": [
        {
          "output_type": "execute_result",
          "data": {
            "text/plain": [
              "297960"
            ]
          },
          "metadata": {},
          "execution_count": 15
        }
      ]
    },
    {
      "cell_type": "code",
      "metadata": {
        "id": "0JEwrmBuu4Yb"
      },
      "source": [
        "X_train,X_test,y_train,y_test = train_test_split(X,y,test_size=0.2)"
      ],
      "execution_count": 16,
      "outputs": []
    },
    {
      "cell_type": "code",
      "metadata": {
        "id": "qNyiWdld2BhD"
      },
      "source": [
        "del df"
      ],
      "execution_count": 17,
      "outputs": []
    },
    {
      "cell_type": "code",
      "metadata": {
        "colab": {
          "base_uri": "https://localhost:8080/"
        },
        "id": "boZQI_4Pvxet",
        "outputId": "6ffcc06b-9061-4c00-c050-5cb8fcea0cd5"
      },
      "source": [
        "X_train.shape,y_train.shape"
      ],
      "execution_count": 18,
      "outputs": [
        {
          "output_type": "execute_result",
          "data": {
            "text/plain": [
              "((297960, 784), (297960,))"
            ]
          },
          "metadata": {},
          "execution_count": 18
        }
      ]
    },
    {
      "cell_type": "code",
      "metadata": {
        "colab": {
          "base_uri": "https://localhost:8080/"
        },
        "id": "E6HckwA0v-Pi",
        "outputId": "4f187a62-fd27-4b54-e0a8-2b574b792469"
      },
      "source": [
        "X_test.shape,y_test.shape"
      ],
      "execution_count": 19,
      "outputs": [
        {
          "output_type": "execute_result",
          "data": {
            "text/plain": [
              "((74490, 784), (74490,))"
            ]
          },
          "metadata": {},
          "execution_count": 19
        }
      ]
    },
    {
      "cell_type": "code",
      "metadata": {
        "colab": {
          "base_uri": "https://localhost:8080/"
        },
        "id": "wkb_RiuQwc8O",
        "outputId": "03385294-5b8c-495f-ec16-cb2dfbcf084a"
      },
      "source": [
        "297960 * 0.2 # val dataset size"
      ],
      "execution_count": 20,
      "outputs": [
        {
          "output_type": "execute_result",
          "data": {
            "text/plain": [
              "59592.0"
            ]
          },
          "metadata": {},
          "execution_count": 20
        }
      ]
    },
    {
      "cell_type": "code",
      "metadata": {
        "colab": {
          "base_uri": "https://localhost:8080/"
        },
        "id": "R9EAIXgYwjEK",
        "outputId": "1de5a139-758f-427c-c005-10ea447bf0f7"
      },
      "source": [
        "297960 - 59592 # training dataset size"
      ],
      "execution_count": 21,
      "outputs": [
        {
          "output_type": "execute_result",
          "data": {
            "text/plain": [
              "238368"
            ]
          },
          "metadata": {},
          "execution_count": 21
        }
      ]
    },
    {
      "cell_type": "code",
      "metadata": {
        "id": "EvNtofMywDQr"
      },
      "source": [
        "# now take some for validation\n",
        "X_train, X_val, y_train, y_val = train_test_split(X_train,y_train,test_size=0.2)"
      ],
      "execution_count": 22,
      "outputs": []
    },
    {
      "cell_type": "code",
      "metadata": {
        "colab": {
          "base_uri": "https://localhost:8080/"
        },
        "id": "wBzy27LEwbBJ",
        "outputId": "83ab2c38-6dbe-4f84-d342-df183a09ddc3"
      },
      "source": [
        "X_train.shape,X_val.shape"
      ],
      "execution_count": 23,
      "outputs": [
        {
          "output_type": "execute_result",
          "data": {
            "text/plain": [
              "((238368, 784), (59592, 784))"
            ]
          },
          "metadata": {},
          "execution_count": 23
        }
      ]
    },
    {
      "cell_type": "code",
      "metadata": {
        "colab": {
          "base_uri": "https://localhost:8080/"
        },
        "id": "VHAYA7-Kw3d1",
        "outputId": "330c9ea4-d7b2-4b83-8bf9-88562e4f1fd6"
      },
      "source": [
        "y_train.shape,y_val.shape"
      ],
      "execution_count": 24,
      "outputs": [
        {
          "output_type": "execute_result",
          "data": {
            "text/plain": [
              "((238368,), (59592,))"
            ]
          },
          "metadata": {},
          "execution_count": 24
        }
      ]
    },
    {
      "cell_type": "code",
      "metadata": {
        "id": "39ZZ298dxFKv"
      },
      "source": [
        "class Alphabets(Dataset):\n",
        "\n",
        "  def __init__(self,X,y,transform=None):\n",
        "    self.X = X\n",
        "    self.y = y\n",
        "    self.transform = transform\n",
        "  \n",
        "  def __len__(self):\n",
        "    return len(self.X)\n",
        "  \n",
        "  def __getitem__(self,index):\n",
        "    # np.array(Image.fromarray((img * 255).astype(np.uint8)).resize((input_size, input_size)).convert('RGB'))\n",
        "\n",
        "    image = Image.fromarray(((self.X[index]).astype(np.uint8)).reshape(28,28))\n",
        "    label = self.y[index]\n",
        "\n",
        "    if self.transform != None:\n",
        "      image = self.transform(image)\n",
        "    \n",
        "    return image,label\n"
      ],
      "execution_count": 25,
      "outputs": []
    },
    {
      "cell_type": "code",
      "metadata": {
        "id": "2JqXjhHgym-Z"
      },
      "source": [
        "transform = transforms.Compose([\n",
        "         transforms.ToTensor(),\n",
        "         transforms.RandomAffine(degrees=(-50,50),\n",
        "                                 translate=(0.1, 0.2))                      \n",
        "])"
      ],
      "execution_count": 26,
      "outputs": []
    },
    {
      "cell_type": "code",
      "metadata": {
        "colab": {
          "base_uri": "https://localhost:8080/"
        },
        "id": "CM9Qruk43JiC",
        "outputId": "cb64bb8a-d54c-4611-8e2d-f0c48b929a83"
      },
      "source": [
        "X_train.shape,X_test.shape,X_val.shape"
      ],
      "execution_count": 27,
      "outputs": [
        {
          "output_type": "execute_result",
          "data": {
            "text/plain": [
              "((238368, 784), (74490, 784), (59592, 784))"
            ]
          },
          "metadata": {},
          "execution_count": 27
        }
      ]
    },
    {
      "cell_type": "code",
      "metadata": {
        "colab": {
          "base_uri": "https://localhost:8080/"
        },
        "id": "qOP_HSuO3SGP",
        "outputId": "e9f6293a-2104-4f85-cff3-247791e0adb2"
      },
      "source": [
        "y_train.shape,y_test.shape,y_val.shape"
      ],
      "execution_count": 28,
      "outputs": [
        {
          "output_type": "execute_result",
          "data": {
            "text/plain": [
              "((238368,), (74490,), (59592,))"
            ]
          },
          "metadata": {},
          "execution_count": 28
        }
      ]
    },
    {
      "cell_type": "code",
      "metadata": {
        "id": "ndk95nEL1HkA"
      },
      "source": [
        "train_dataset = Alphabets(X_train,y_train,transform)\n",
        "test_dataset = Alphabets(X_test,y_test,transform)\n",
        "val_dataset = Alphabets(X_val,y_val,transform)"
      ],
      "execution_count": 29,
      "outputs": []
    },
    {
      "cell_type": "code",
      "metadata": {
        "colab": {
          "base_uri": "https://localhost:8080/"
        },
        "id": "GypLinU_2Hq-",
        "outputId": "b5922e7a-c56a-46cf-b71b-bf24af81fe83"
      },
      "source": [
        "len(train_dataset),len(test_dataset),len(val_dataset)"
      ],
      "execution_count": 30,
      "outputs": [
        {
          "output_type": "execute_result",
          "data": {
            "text/plain": [
              "(238368, 74490, 59592)"
            ]
          },
          "metadata": {},
          "execution_count": 30
        }
      ]
    },
    {
      "cell_type": "code",
      "metadata": {
        "id": "Bg4S7_rR2Rso"
      },
      "source": [
        "train_dataset_loader = DataLoader(train_dataset,batch_size=100,shuffle=True)\n",
        "test_dataset_loader = DataLoader(test_dataset,batch_size=100,shuffle=True)\n",
        "val_dataset_loader = DataLoader(val_dataset,batch_size=100,shuffle=True)"
      ],
      "execution_count": 31,
      "outputs": []
    },
    {
      "cell_type": "code",
      "metadata": {
        "id": "niK89zou75_I"
      },
      "source": [
        "import torchvision\n",
        "\n",
        "inputs_batch, labels_batch = next(iter(train_dataset_loader))\n",
        "grid = torchvision.utils.make_grid(inputs_batch, nrow=40, pad_value=1)\n",
        "torchvision.utils.save_image(grid, 'inputs_batch_preview.png')\n"
      ],
      "execution_count": 32,
      "outputs": []
    },
    {
      "cell_type": "code",
      "metadata": {
        "colab": {
          "base_uri": "https://localhost:8080/",
          "height": 426
        },
        "id": "T43wgHbt2hv-",
        "outputId": "d2fda466-27ea-4cba-ca6a-49272fdbc166"
      },
      "source": [
        "df = iter(train_dataset_loader)\n",
        "df = next(df)\n",
        "\n",
        "print(type(df))\n",
        "print(len(df))\n",
        "\n",
        "print(len(df[0]))\n",
        "print(len(df[1]))\n",
        "\n",
        "print(df[0].shape)\n",
        "print(df[0][0].shape)\n",
        "\n",
        "print(df[1].shape)\n",
        "print(df[1][0].shape)\n",
        "\n",
        "\n",
        "plt.imshow(df[0][0].reshape(28,28),cmap=\"gray\")\n",
        "print(\"label :: \",df[1][0].item())"
      ],
      "execution_count": 33,
      "outputs": [
        {
          "output_type": "stream",
          "name": "stdout",
          "text": [
            "<class 'list'>\n",
            "2\n",
            "100\n",
            "100\n",
            "torch.Size([100, 1, 28, 28])\n",
            "torch.Size([1, 28, 28])\n",
            "torch.Size([100])\n",
            "torch.Size([])\n",
            "label ::  18\n"
          ]
        },
        {
          "output_type": "display_data",
          "data": {
            "image/png": "[encoded data removed]",
            "text/plain": [
              "<Figure size 432x288 with 1 Axes>"
            ]
          },
          "metadata": {
            "needs_background": "light"
          }
        }
      ]
    },
    {
      "cell_type": "code",
      "metadata": {
        "id": "9Q6tFPV_7PBy"
      },
      "source": [
        "config = [\n",
        "     # input_channels:int,no.of filters:int,filter_size:int,stride:int,padding:int\n",
        "     (1,16,3,1,1),\n",
        "     # MP - max pooling:string,filter_size:int,stride:int,padding:int\n",
        "     (\"MP\",2,2,0),\n",
        "     (16,32,3,1,1),\n",
        "     (\"MP\",2,2,0),\n",
        "     (32,64,3,1,1),\n",
        "     (\"MP\",2,2,0),\n",
        "     (64,128,3,1,1),\n",
        "     (\"MP\",2,2,0),\n",
        "]"
      ],
      "execution_count": 34,
      "outputs": []
    },
    {
      "cell_type": "code",
      "metadata": {
        "id": "CNRtk0aC7Ps0"
      },
      "source": [
        "def conv_output_size(img_size,padding,filter_size,stride,n_filters):\n",
        "   size_ = (int((img_size + (2 * padding) - filter_size) / stride)) + 1\n",
        "   return size_,size_,n_filters"
      ],
      "execution_count": 35,
      "outputs": []
    },
    {
      "cell_type": "code",
      "metadata": {
        "id": "93YddgQO7RWb"
      },
      "source": [
        "def dense_layer_size(configuration,img_size):\n",
        "\n",
        "  _,output_channels = 0,0\n",
        "  layer_count = 0\n",
        "\n",
        "  for config in configuration:\n",
        "    \n",
        "    layer_count += 1\n",
        "\n",
        "    if config[0] == \"MP\":\n",
        "      img_size,_,output_channels = conv_output_size(img_size,config[3],config[1],config[2],output_channels)\n",
        "      print(\"Max Pooling Layer {} output dims :: \".format(layer_count),img_size,_,output_channels)\n",
        "\n",
        "    else: \n",
        "      img_size,_,output_channels = conv_output_size(img_size,config[4],config[2],config[3],config[1])\n",
        "      print(\"Conv Layer {} output dims :: \".format(layer_count),img_size,_,output_channels)\n",
        "  \n",
        "  return img_size,_,output_channels"
      ],
      "execution_count": 36,
      "outputs": []
    },
    {
      "cell_type": "code",
      "metadata": {
        "colab": {
          "base_uri": "https://localhost:8080/"
        },
        "id": "mz32-Ajw7XC1",
        "outputId": "e38a625b-9bb9-4495-9eb7-2ebf88bcde5e"
      },
      "source": [
        "width,heigth,channels = dense_layer_size(config,28)"
      ],
      "execution_count": 37,
      "outputs": [
        {
          "output_type": "stream",
          "name": "stdout",
          "text": [
            "Conv Layer 1 output dims ::  28 28 16\n",
            "Max Pooling Layer 2 output dims ::  14 14 16\n",
            "Conv Layer 3 output dims ::  14 14 32\n",
            "Max Pooling Layer 4 output dims ::  7 7 32\n",
            "Conv Layer 5 output dims ::  7 7 64\n",
            "Max Pooling Layer 6 output dims ::  3 3 64\n",
            "Conv Layer 7 output dims ::  3 3 128\n",
            "Max Pooling Layer 8 output dims ::  1 1 128\n"
          ]
        }
      ]
    },
    {
      "cell_type": "code",
      "metadata": {
        "id": "Zc4naQJD25B8"
      },
      "source": [
        "class NeuralNetwork(nn.Module):\n",
        "\n",
        "  def __init__(self):\n",
        "    super(NeuralNetwork,self).__init__()\n",
        "\n",
        "    self.layer1 = nn.Sequential(\n",
        "      nn.Conv2d(1,16,3,1,1),\n",
        "      nn.BatchNorm2d(16),\n",
        "      nn.ReLU(),\n",
        "      nn.MaxPool2d(2,2)\n",
        "    )\n",
        "\n",
        "    self.layer2 = nn.Sequential(\n",
        "      nn.Conv2d(16,32,3,1,1),\n",
        "      nn.BatchNorm2d(32),\n",
        "      nn.ReLU(),\n",
        "      nn.MaxPool2d(2,2)\n",
        "    )\n",
        "\n",
        "    self.layer3 = nn.Sequential(\n",
        "      nn.Conv2d(32,64,3,1,1),\n",
        "      nn.BatchNorm2d(64),\n",
        "      nn.ReLU(),\n",
        "      nn.MaxPool2d(2,2)\n",
        "    )\n",
        "\n",
        "    self.layer4 = nn.Sequential(\n",
        "      nn.Conv2d(64,128,3,1,1),\n",
        "      nn.BatchNorm2d(128),\n",
        "      nn.ReLU(),\n",
        "      nn.MaxPool2d(2,2)\n",
        "    )\n",
        "\n",
        "    self.FC = nn.Sequential(\n",
        "      nn.Linear(128,26)\n",
        "    )\n",
        "\n",
        "\n",
        "  def forward(self,x):\n",
        "    x = self.layer1(x)\n",
        "    x = self.layer2(x)\n",
        "    x = self.layer3(x)\n",
        "    x = self.layer4(x)\n",
        "    x = torch.flatten(x,1)\n",
        "    x = self.FC(x)\n",
        "\n",
        "    return x\n",
        "\n"
      ],
      "execution_count": 38,
      "outputs": []
    },
    {
      "cell_type": "code",
      "metadata": {
        "colab": {
          "base_uri": "https://localhost:8080/"
        },
        "id": "Q8OSE1Sq_2u2",
        "outputId": "612c2583-14ae-4596-9f3e-d1487d700527"
      },
      "source": [
        "net = NeuralNetwork()\n",
        "net.train()"
      ],
      "execution_count": 39,
      "outputs": [
        {
          "output_type": "execute_result",
          "data": {
            "text/plain": [
              "NeuralNetwork(\n",
              "  (layer1): Sequential(\n",
              "    (0): Conv2d(1, 16, kernel_size=(3, 3), stride=(1, 1), padding=(1, 1))\n",
              "    (1): BatchNorm2d(16, eps=1e-05, momentum=0.1, affine=True, track_running_stats=True)\n",
              "    (2): ReLU()\n",
              "    (3): MaxPool2d(kernel_size=2, stride=2, padding=0, dilation=1, ceil_mode=False)\n",
              "  )\n",
              "  (layer2): Sequential(\n",
              "    (0): Conv2d(16, 32, kernel_size=(3, 3), stride=(1, 1), padding=(1, 1))\n",
              "    (1): BatchNorm2d(32, eps=1e-05, momentum=0.1, affine=True, track_running_stats=True)\n",
              "    (2): ReLU()\n",
              "    (3): MaxPool2d(kernel_size=2, stride=2, padding=0, dilation=1, ceil_mode=False)\n",
              "  )\n",
              "  (layer3): Sequential(\n",
              "    (0): Conv2d(32, 64, kernel_size=(3, 3), stride=(1, 1), padding=(1, 1))\n",
              "    (1): BatchNorm2d(64, eps=1e-05, momentum=0.1, affine=True, track_running_stats=True)\n",
              "    (2): ReLU()\n",
              "    (3): MaxPool2d(kernel_size=2, stride=2, padding=0, dilation=1, ceil_mode=False)\n",
              "  )\n",
              "  (layer4): Sequential(\n",
              "    (0): Conv2d(64, 128, kernel_size=(3, 3), stride=(1, 1), padding=(1, 1))\n",
              "    (1): BatchNorm2d(128, eps=1e-05, momentum=0.1, affine=True, track_running_stats=True)\n",
              "    (2): ReLU()\n",
              "    (3): MaxPool2d(kernel_size=2, stride=2, padding=0, dilation=1, ceil_mode=False)\n",
              "  )\n",
              "  (FC): Sequential(\n",
              "    (0): Linear(in_features=128, out_features=26, bias=True)\n",
              "  )\n",
              ")"
            ]
          },
          "metadata": {},
          "execution_count": 39
        }
      ]
    },
    {
      "cell_type": "code",
      "metadata": {
        "id": "CeQ638FqAB3b"
      },
      "source": [
        "lr = 0.01\n",
        "optim = torch.optim.Adam(net.parameters(),lr)\n",
        "loss_fn = nn.CrossEntropyLoss()"
      ],
      "execution_count": 40,
      "outputs": []
    },
    {
      "cell_type": "code",
      "metadata": {
        "colab": {
          "base_uri": "https://localhost:8080/"
        },
        "id": "sKTdnj0aAcHk",
        "outputId": "6a58f3f5-6e61-4616-877d-67881e3ffab1"
      },
      "source": [
        "epochs = 15\n",
        "\n",
        "train_len = len(train_dataset_loader)\n",
        "val_len = len(val_dataset_loader)\n",
        "\n",
        "training_accuracy = []\n",
        "training_loss = []\n",
        "\n",
        "validation_accuracy = []\n",
        "validation_loss = []\n",
        "\n",
        "for epoch in range(epochs):\n",
        "\n",
        "  epoch_acc = 0\n",
        "  epoch_loss = 0\n",
        "\n",
        "  for batch_id,(image,label) in enumerate(train_dataset_loader):\n",
        "\n",
        "    output = net(image)\n",
        "\n",
        "    loss = loss_fn(output,label)\n",
        "\n",
        "    optim.zero_grad()\n",
        "    loss.backward()\n",
        "    optim.step()\n",
        "\n",
        "    acc = (output.argmax(dim=1) == label).float().mean()\n",
        "    epoch_acc += (acc.item() / len(train_dataset_loader)) \n",
        "    epoch_loss += (loss.item() / len(train_dataset_loader)) \n",
        "  \n",
        "  print(f\"Epoch :: [{epoch+1}/{epochs}] Train Accuracy :: {epoch_acc:.4f} Train Loss :: {epoch_loss:.4f}\") \n",
        "  \n",
        "  training_accuracy.append(epoch_acc)\n",
        "  training_loss.append(epoch_loss)\n",
        "\n",
        "  with torch.no_grad():\n",
        "\n",
        "    epoch_val_accuracy = 0\n",
        "    epoch_val_loss = 0\n",
        "    \n",
        "    for batch_id,(image, label) in enumerate(val_dataset_loader):\n",
        "  \n",
        "      val_output = net(image)\n",
        "      val_loss = loss_fn(val_output,label)\n",
        "      \n",
        "      val_acc = ((val_output.argmax(dim=1) == label).float().mean())\n",
        "      epoch_val_accuracy += (val_acc.item() / len(val_dataset_loader))  \n",
        "      epoch_val_loss += (val_loss.item() / len(val_dataset_loader))\n",
        "\n",
        "    print(f\"Epoch :: [{epoch+1}/{epochs}] Val Accuracy :: {epoch_val_accuracy:.4f} Val Loss :: {epoch_val_loss:.4f}\")\n",
        "\n",
        "    validation_accuracy.append(epoch_val_accuracy)\n",
        "    validation_loss.append(epoch_val_loss)\n",
        "    "
      ],
      "execution_count": 41,
      "outputs": [
        {
          "output_type": "stream",
          "name": "stderr",
          "text": [
            "/usr/local/lib/python3.7/dist-packages/torch/nn/functional.py:718: UserWarning: Named tensors and all their associated APIs are an experimental feature and subject to change. Please do not use them for anything important until they are released as stable. (Triggered internally at  /pytorch/c10/core/TensorImpl.h:1156.)\n",
            "  return torch.max_pool2d(input, kernel_size, stride, padding, dilation, ceil_mode)\n"
          ]
        },
        {
          "output_type": "stream",
          "name": "stdout",
          "text": [
            "Epoch :: [1/15] Train Accuracy :: 0.9024 Train Loss :: 0.3273\n",
            "Epoch :: [1/15] Val Accuracy :: 0.9426 Val Loss :: 0.1917\n",
            "Epoch :: [2/15] Train Accuracy :: 0.9470 Train Loss :: 0.1766\n",
            "Epoch :: [2/15] Val Accuracy :: 0.9522 Val Loss :: 0.1590\n",
            "Epoch :: [3/15] Train Accuracy :: 0.9545 Train Loss :: 0.1551\n",
            "Epoch :: [3/15] Val Accuracy :: 0.9540 Val Loss :: 0.1534\n",
            "Epoch :: [4/15] Train Accuracy :: 0.9568 Train Loss :: 0.1436\n",
            "Epoch :: [4/15] Val Accuracy :: 0.9609 Val Loss :: 0.1309\n",
            "Epoch :: [5/15] Train Accuracy :: 0.9602 Train Loss :: 0.1341\n",
            "Epoch :: [5/15] Val Accuracy :: 0.9619 Val Loss :: 0.1273\n",
            "Epoch :: [6/15] Train Accuracy :: 0.9614 Train Loss :: 0.1281\n",
            "Epoch :: [6/15] Val Accuracy :: 0.9601 Val Loss :: 0.1378\n",
            "Epoch :: [7/15] Train Accuracy :: 0.9632 Train Loss :: 0.1252\n",
            "Epoch :: [7/15] Val Accuracy :: 0.9633 Val Loss :: 0.1239\n",
            "Epoch :: [8/15] Train Accuracy :: 0.9648 Train Loss :: 0.1186\n",
            "Epoch :: [8/15] Val Accuracy :: 0.9634 Val Loss :: 0.1265\n",
            "Epoch :: [9/15] Train Accuracy :: 0.9656 Train Loss :: 0.1157\n",
            "Epoch :: [9/15] Val Accuracy :: 0.9675 Val Loss :: 0.1098\n",
            "Epoch :: [10/15] Train Accuracy :: 0.9668 Train Loss :: 0.1120\n",
            "Epoch :: [10/15] Val Accuracy :: 0.9655 Val Loss :: 0.1154\n",
            "Epoch :: [11/15] Train Accuracy :: 0.9670 Train Loss :: 0.1117\n",
            "Epoch :: [11/15] Val Accuracy :: 0.9672 Val Loss :: 0.1112\n",
            "Epoch :: [12/15] Train Accuracy :: 0.9678 Train Loss :: 0.1082\n",
            "Epoch :: [12/15] Val Accuracy :: 0.9704 Val Loss :: 0.1012\n",
            "Epoch :: [13/15] Train Accuracy :: 0.9690 Train Loss :: 0.1051\n",
            "Epoch :: [13/15] Val Accuracy :: 0.9695 Val Loss :: 0.1031\n",
            "Epoch :: [14/15] Train Accuracy :: 0.9690 Train Loss :: 0.1044\n",
            "Epoch :: [14/15] Val Accuracy :: 0.9697 Val Loss :: 0.1025\n",
            "Epoch :: [15/15] Train Accuracy :: 0.9698 Train Loss :: 0.1031\n",
            "Epoch :: [15/15] Val Accuracy :: 0.9702 Val Loss :: 0.1022\n"
          ]
        }
      ]
    },
    {
      "cell_type": "code",
      "metadata": {
        "id": "prWkrWoOMEQp"
      },
      "source": [
        "torch.save(net.state_dict(), \"englishv2.pt\")"
      ],
      "execution_count": 42,
      "outputs": []
    },
    {
      "cell_type": "code",
      "metadata": {
        "colab": {
          "base_uri": "https://localhost:8080/"
        },
        "id": "0JY2A63XnLjp",
        "outputId": "10c7492b-605b-4745-8b55-0ecda8321d14"
      },
      "source": [
        "net.eval()"
      ],
      "execution_count": 43,
      "outputs": [
        {
          "output_type": "execute_result",
          "data": {
            "text/plain": [
              "NeuralNetwork(\n",
              "  (layer1): Sequential(\n",
              "    (0): Conv2d(1, 16, kernel_size=(3, 3), stride=(1, 1), padding=(1, 1))\n",
              "    (1): BatchNorm2d(16, eps=1e-05, momentum=0.1, affine=True, track_running_stats=True)\n",
              "    (2): ReLU()\n",
              "    (3): MaxPool2d(kernel_size=2, stride=2, padding=0, dilation=1, ceil_mode=False)\n",
              "  )\n",
              "  (layer2): Sequential(\n",
              "    (0): Conv2d(16, 32, kernel_size=(3, 3), stride=(1, 1), padding=(1, 1))\n",
              "    (1): BatchNorm2d(32, eps=1e-05, momentum=0.1, affine=True, track_running_stats=True)\n",
              "    (2): ReLU()\n",
              "    (3): MaxPool2d(kernel_size=2, stride=2, padding=0, dilation=1, ceil_mode=False)\n",
              "  )\n",
              "  (layer3): Sequential(\n",
              "    (0): Conv2d(32, 64, kernel_size=(3, 3), stride=(1, 1), padding=(1, 1))\n",
              "    (1): BatchNorm2d(64, eps=1e-05, momentum=0.1, affine=True, track_running_stats=True)\n",
              "    (2): ReLU()\n",
              "    (3): MaxPool2d(kernel_size=2, stride=2, padding=0, dilation=1, ceil_mode=False)\n",
              "  )\n",
              "  (layer4): Sequential(\n",
              "    (0): Conv2d(64, 128, kernel_size=(3, 3), stride=(1, 1), padding=(1, 1))\n",
              "    (1): BatchNorm2d(128, eps=1e-05, momentum=0.1, affine=True, track_running_stats=True)\n",
              "    (2): ReLU()\n",
              "    (3): MaxPool2d(kernel_size=2, stride=2, padding=0, dilation=1, ceil_mode=False)\n",
              "  )\n",
              "  (FC): Sequential(\n",
              "    (0): Linear(in_features=128, out_features=26, bias=True)\n",
              "  )\n",
              ")"
            ]
          },
          "metadata": {},
          "execution_count": 43
        }
      ]
    },
    {
      "cell_type": "code",
      "metadata": {
        "colab": {
          "base_uri": "https://localhost:8080/"
        },
        "id": "ReGrc3Eqmx_J",
        "outputId": "ed41f80b-257d-4613-f0a6-9a9de94cdd1b"
      },
      "source": [
        "with torch.no_grad():\n",
        "\n",
        "    epoch_test_acc = 0\n",
        "    epoch_test_loss = 0\n",
        "    \n",
        "    for batch_id,(image, label) in enumerate(test_dataset_loader):\n",
        "  \n",
        "      test_output = net(image)\n",
        "      test_loss = loss_fn(test_output,label)\n",
        "      \n",
        "      val_acc = ((test_output.argmax(dim=1) == label).float().mean())\n",
        "      epoch_test_acc += (val_acc.item() / len(test_dataset_loader)) * 100 \n",
        "      epoch_test_loss += (test_loss.item() / len(test_dataset_loader)) * 100\n",
        "     \n",
        "    print(f\"Accuracy :: {epoch_test_acc:.4f}  Loss :: {epoch_test_loss:.4f}\")\n"
      ],
      "execution_count": 44,
      "outputs": [
        {
          "output_type": "stream",
          "name": "stdout",
          "text": [
            "Accuracy :: 96.9915  Loss :: 9.9454\n"
          ]
        }
      ]
    },
    {
      "cell_type": "code",
      "metadata": {
        "colab": {
          "base_uri": "https://localhost:8080/"
        },
        "id": "aYctJqCMaz5i",
        "outputId": "38159d2f-c5d0-49ef-9b4f-8d7a0dab52cb"
      },
      "source": [
        "net = NeuralNetwork()\n",
        "net.load_state_dict(torch.load(\"/content/englishv2.pt\"))"
      ],
      "execution_count": 45,
      "outputs": [
        {
          "output_type": "execute_result",
          "data": {
            "text/plain": [
              "<All keys matched successfully>"
            ]
          },
          "metadata": {},
          "execution_count": 45
        }
      ]
    },
    {
      "cell_type": "code",
      "metadata": {
        "id": "WFLjaKlf2Xo_"
      },
      "source": [
        "transform = transforms.Compose([\n",
        "         transforms.ToTensor(),\n",
        "         transforms.RandomAffine(degrees=(-50,50),\n",
        "                                 translate=(0.2, 0.2),\n",
        "                                 scale=(0.5, 0.75))                      \n",
        "])\n",
        "\n",
        "transform_test = transforms.Compose([\n",
        "            transforms.ToTensor()\n",
        "])"
      ],
      "execution_count": 74,
      "outputs": []
    },
    {
      "cell_type": "code",
      "metadata": {
        "id": "93FJHweg2cI2"
      },
      "source": [
        "train_dataset = Alphabets(X_train,y_train,transform)\n",
        "test_dataset = Alphabets(X_test,y_test,transform_test)\n",
        "val_dataset = Alphabets(X_val,y_val,transform)"
      ],
      "execution_count": 75,
      "outputs": []
    },
    {
      "cell_type": "code",
      "metadata": {
        "id": "71-YepFS2egX"
      },
      "source": [
        "train_dataset_loader = DataLoader(train_dataset,batch_size=100,shuffle=True)\n",
        "test_dataset_loader = DataLoader(test_dataset,batch_size=100,shuffle=True)\n",
        "val_dataset_loader = DataLoader(val_dataset,batch_size=100,shuffle=True)"
      ],
      "execution_count": 76,
      "outputs": []
    },
    {
      "cell_type": "code",
      "metadata": {
        "colab": {
          "base_uri": "https://localhost:8080/",
          "height": 426
        },
        "id": "8bI9Zb_S2g8O",
        "outputId": "3280854c-4b2b-4125-836e-7ce1e4347694"
      },
      "source": [
        "df = iter(train_dataset_loader)\n",
        "df = next(df)\n",
        "\n",
        "print(type(df))\n",
        "print(len(df))\n",
        "\n",
        "print(len(df[0]))\n",
        "print(len(df[1]))\n",
        "\n",
        "print(df[0].shape)\n",
        "print(df[0][0].shape)\n",
        "\n",
        "print(df[1].shape)\n",
        "print(df[1][0].shape)\n",
        "\n",
        "\n",
        "plt.imshow(df[0][0].reshape(28,28),cmap=\"gray\")\n",
        "print(\"label :: \",df[1][0].item())"
      ],
      "execution_count": 62,
      "outputs": [
        {
          "output_type": "stream",
          "name": "stdout",
          "text": [
            "<class 'list'>\n",
            "2\n",
            "100\n",
            "100\n",
            "torch.Size([100, 1, 28, 28])\n",
            "torch.Size([1, 28, 28])\n",
            "torch.Size([100])\n",
            "torch.Size([])\n",
            "label ::  20\n"
          ]
        },
        {
          "output_type": "display_data",
          "data": {
            "image/png": "[encoded data removed]",
            "text/plain": [
              "<Figure size 432x288 with 1 Axes>"
            ]
          },
          "metadata": {
            "needs_background": "light"
          }
        }
      ]
    },
    {
      "cell_type": "code",
      "metadata": {
        "colab": {
          "base_uri": "https://localhost:8080/"
        },
        "id": "8NfJsG653IKv",
        "outputId": "01dbe3d5-7bd5-4289-ad12-e79bf361606c"
      },
      "source": [
        "net.train()"
      ],
      "execution_count": 65,
      "outputs": [
        {
          "output_type": "execute_result",
          "data": {
            "text/plain": [
              "NeuralNetwork(\n",
              "  (layer1): Sequential(\n",
              "    (0): Conv2d(1, 16, kernel_size=(3, 3), stride=(1, 1), padding=(1, 1))\n",
              "    (1): BatchNorm2d(16, eps=1e-05, momentum=0.1, affine=True, track_running_stats=True)\n",
              "    (2): ReLU()\n",
              "    (3): MaxPool2d(kernel_size=2, stride=2, padding=0, dilation=1, ceil_mode=False)\n",
              "  )\n",
              "  (layer2): Sequential(\n",
              "    (0): Conv2d(16, 32, kernel_size=(3, 3), stride=(1, 1), padding=(1, 1))\n",
              "    (1): BatchNorm2d(32, eps=1e-05, momentum=0.1, affine=True, track_running_stats=True)\n",
              "    (2): ReLU()\n",
              "    (3): MaxPool2d(kernel_size=2, stride=2, padding=0, dilation=1, ceil_mode=False)\n",
              "  )\n",
              "  (layer3): Sequential(\n",
              "    (0): Conv2d(32, 64, kernel_size=(3, 3), stride=(1, 1), padding=(1, 1))\n",
              "    (1): BatchNorm2d(64, eps=1e-05, momentum=0.1, affine=True, track_running_stats=True)\n",
              "    (2): ReLU()\n",
              "    (3): MaxPool2d(kernel_size=2, stride=2, padding=0, dilation=1, ceil_mode=False)\n",
              "  )\n",
              "  (layer4): Sequential(\n",
              "    (0): Conv2d(64, 128, kernel_size=(3, 3), stride=(1, 1), padding=(1, 1))\n",
              "    (1): BatchNorm2d(128, eps=1e-05, momentum=0.1, affine=True, track_running_stats=True)\n",
              "    (2): ReLU()\n",
              "    (3): MaxPool2d(kernel_size=2, stride=2, padding=0, dilation=1, ceil_mode=False)\n",
              "  )\n",
              "  (FC): Sequential(\n",
              "    (0): Linear(in_features=128, out_features=26, bias=True)\n",
              "  )\n",
              ")"
            ]
          },
          "metadata": {},
          "execution_count": 65
        }
      ]
    },
    {
      "cell_type": "code",
      "metadata": {
        "colab": {
          "base_uri": "https://localhost:8080/"
        },
        "id": "uLXLFP432n_u",
        "outputId": "6eaaeb31-27a5-4ab2-e0ea-18342c2e945c"
      },
      "source": [
        "epochs = 15\n",
        "\n",
        "train_len = len(train_dataset_loader)\n",
        "val_len = len(val_dataset_loader)\n",
        "\n",
        "training_accuracy = []\n",
        "training_loss = []\n",
        "\n",
        "validation_accuracy = []\n",
        "validation_loss = []\n",
        "\n",
        "for epoch in range(epochs):\n",
        "\n",
        "  epoch_acc = 0\n",
        "  epoch_loss = 0\n",
        "\n",
        "  for batch_id,(image,label) in enumerate(train_dataset_loader):\n",
        "\n",
        "    output = net(image)\n",
        "\n",
        "    loss = loss_fn(output,label)\n",
        "\n",
        "    optim.zero_grad()\n",
        "    loss.backward()\n",
        "    optim.step()\n",
        "\n",
        "    acc = (output.argmax(dim=1) == label).float().mean()\n",
        "    epoch_acc += (acc.item() / len(train_dataset_loader)) \n",
        "    epoch_loss += (loss.item() / len(train_dataset_loader)) \n",
        "  \n",
        "  print(f\"Epoch :: [{epoch+1}/{epochs}] Train Accuracy :: {epoch_acc:.4f} Train Loss :: {epoch_loss:.4f}\") \n",
        "  \n",
        "  training_accuracy.append(epoch_acc)\n",
        "  training_loss.append(epoch_loss)\n",
        "\n",
        "  with torch.no_grad():\n",
        "\n",
        "    epoch_val_accuracy = 0\n",
        "    epoch_val_loss = 0\n",
        "    \n",
        "    for batch_id,(image, label) in enumerate(val_dataset_loader):\n",
        "  \n",
        "      val_output = net(image)\n",
        "      val_loss = loss_fn(val_output,label)\n",
        "      \n",
        "      val_acc = ((val_output.argmax(dim=1) == label).float().mean())\n",
        "      epoch_val_accuracy += (val_acc.item() / len(val_dataset_loader))  \n",
        "      epoch_val_loss += (val_loss.item() / len(val_dataset_loader))\n",
        "\n",
        "    print(f\"Epoch :: [{epoch+1}/{epochs}] Val Accuracy :: {epoch_val_accuracy:.4f} Val Loss :: {epoch_val_loss:.4f}\")\n",
        "\n",
        "    validation_accuracy.append(epoch_val_accuracy)\n",
        "    validation_loss.append(epoch_val_loss)\n",
        "    "
      ],
      "execution_count": 66,
      "outputs": [
        {
          "output_type": "stream",
          "name": "stdout",
          "text": [
            "Epoch :: [1/15] Train Accuracy :: 0.7068 Train Loss :: 0.9891\n",
            "Epoch :: [1/15] Val Accuracy :: 0.7060 Val Loss :: 1.0032\n",
            "Epoch :: [2/15] Train Accuracy :: 0.7082 Train Loss :: 0.9885\n",
            "Epoch :: [2/15] Val Accuracy :: 0.7061 Val Loss :: 0.9996\n",
            "Epoch :: [3/15] Train Accuracy :: 0.7067 Train Loss :: 0.9906\n",
            "Epoch :: [3/15] Val Accuracy :: 0.7066 Val Loss :: 0.9969\n",
            "Epoch :: [4/15] Train Accuracy :: 0.7060 Train Loss :: 0.9940\n",
            "Epoch :: [4/15] Val Accuracy :: 0.7047 Val Loss :: 0.9960\n",
            "Epoch :: [5/15] Train Accuracy :: 0.7058 Train Loss :: 0.9918\n",
            "Epoch :: [5/15] Val Accuracy :: 0.7028 Val Loss :: 0.9957\n",
            "Epoch :: [6/15] Train Accuracy :: 0.7078 Train Loss :: 0.9896\n",
            "Epoch :: [6/15] Val Accuracy :: 0.7054 Val Loss :: 1.0007\n",
            "Epoch :: [7/15] Train Accuracy :: 0.7073 Train Loss :: 0.9901\n",
            "Epoch :: [7/15] Val Accuracy :: 0.7069 Val Loss :: 1.0001\n",
            "Epoch :: [8/15] Train Accuracy :: 0.7076 Train Loss :: 0.9912\n",
            "Epoch :: [8/15] Val Accuracy :: 0.7063 Val Loss :: 0.9957\n",
            "Epoch :: [9/15] Train Accuracy :: 0.7061 Train Loss :: 0.9886\n",
            "Epoch :: [9/15] Val Accuracy :: 0.7073 Val Loss :: 0.9971\n",
            "Epoch :: [10/15] Train Accuracy :: 0.7070 Train Loss :: 0.9933\n",
            "Epoch :: [10/15] Val Accuracy :: 0.7062 Val Loss :: 0.9954\n",
            "Epoch :: [11/15] Train Accuracy :: 0.7071 Train Loss :: 0.9924\n",
            "Epoch :: [11/15] Val Accuracy :: 0.7081 Val Loss :: 0.9889\n",
            "Epoch :: [12/15] Train Accuracy :: 0.7063 Train Loss :: 0.9875\n",
            "Epoch :: [12/15] Val Accuracy :: 0.7079 Val Loss :: 0.9938\n",
            "Epoch :: [13/15] Train Accuracy :: 0.7081 Train Loss :: 0.9906\n",
            "Epoch :: [13/15] Val Accuracy :: 0.7056 Val Loss :: 1.0034\n",
            "Epoch :: [14/15] Train Accuracy :: 0.7061 Train Loss :: 0.9942\n",
            "Epoch :: [14/15] Val Accuracy :: 0.7032 Val Loss :: 1.0019\n",
            "Epoch :: [15/15] Train Accuracy :: 0.7069 Train Loss :: 0.9912\n",
            "Epoch :: [15/15] Val Accuracy :: 0.7048 Val Loss :: 1.0058\n"
          ]
        }
      ]
    },
    {
      "cell_type": "code",
      "metadata": {
        "id": "B_yMgFTL3EZf"
      },
      "source": [
        "torch.save(net.state_dict(), \"englishv3.pt\")"
      ],
      "execution_count": 67,
      "outputs": []
    },
    {
      "cell_type": "code",
      "metadata": {
        "colab": {
          "base_uri": "https://localhost:8080/"
        },
        "id": "22RsjW5m3eIv",
        "outputId": "8b7c2e1e-799e-4b2b-f5e7-b3880637e5fe"
      },
      "source": [
        "net.eval()"
      ],
      "execution_count": 68,
      "outputs": [
        {
          "output_type": "execute_result",
          "data": {
            "text/plain": [
              "NeuralNetwork(\n",
              "  (layer1): Sequential(\n",
              "    (0): Conv2d(1, 16, kernel_size=(3, 3), stride=(1, 1), padding=(1, 1))\n",
              "    (1): BatchNorm2d(16, eps=1e-05, momentum=0.1, affine=True, track_running_stats=True)\n",
              "    (2): ReLU()\n",
              "    (3): MaxPool2d(kernel_size=2, stride=2, padding=0, dilation=1, ceil_mode=False)\n",
              "  )\n",
              "  (layer2): Sequential(\n",
              "    (0): Conv2d(16, 32, kernel_size=(3, 3), stride=(1, 1), padding=(1, 1))\n",
              "    (1): BatchNorm2d(32, eps=1e-05, momentum=0.1, affine=True, track_running_stats=True)\n",
              "    (2): ReLU()\n",
              "    (3): MaxPool2d(kernel_size=2, stride=2, padding=0, dilation=1, ceil_mode=False)\n",
              "  )\n",
              "  (layer3): Sequential(\n",
              "    (0): Conv2d(32, 64, kernel_size=(3, 3), stride=(1, 1), padding=(1, 1))\n",
              "    (1): BatchNorm2d(64, eps=1e-05, momentum=0.1, affine=True, track_running_stats=True)\n",
              "    (2): ReLU()\n",
              "    (3): MaxPool2d(kernel_size=2, stride=2, padding=0, dilation=1, ceil_mode=False)\n",
              "  )\n",
              "  (layer4): Sequential(\n",
              "    (0): Conv2d(64, 128, kernel_size=(3, 3), stride=(1, 1), padding=(1, 1))\n",
              "    (1): BatchNorm2d(128, eps=1e-05, momentum=0.1, affine=True, track_running_stats=True)\n",
              "    (2): ReLU()\n",
              "    (3): MaxPool2d(kernel_size=2, stride=2, padding=0, dilation=1, ceil_mode=False)\n",
              "  )\n",
              "  (FC): Sequential(\n",
              "    (0): Linear(in_features=128, out_features=26, bias=True)\n",
              "  )\n",
              ")"
            ]
          },
          "metadata": {},
          "execution_count": 68
        }
      ]
    },
    {
      "cell_type": "code",
      "metadata": {
        "colab": {
          "base_uri": "https://localhost:8080/"
        },
        "id": "R2hA85RD3kCf",
        "outputId": "e51c49de-20b0-4626-e886-cfd070b35c26"
      },
      "source": [
        "with torch.no_grad():\n",
        "\n",
        "    epoch_test_acc = 0\n",
        "    epoch_test_loss = 0\n",
        "    \n",
        "    for batch_id,(image, label) in enumerate(test_dataset_loader):\n",
        "  \n",
        "      test_output = net(image)\n",
        "      test_loss = loss_fn(test_output,label)\n",
        "      \n",
        "      val_acc = ((test_output.argmax(dim=1) == label).float().mean())\n",
        "      epoch_test_acc += (val_acc.item() / len(test_dataset_loader)) * 100 \n",
        "      epoch_test_loss += (test_loss.item() / len(test_dataset_loader)) * 100\n",
        "     \n",
        "    print(f\"Accuracy :: {epoch_test_acc:.4f}  Loss :: {epoch_test_loss:.4f}\")\n"
      ],
      "execution_count": 77,
      "outputs": [
        {
          "output_type": "stream",
          "name": "stdout",
          "text": [
            "Accuracy :: 93.2270  Loss :: 30.5731\n"
          ]
        }
      ]
    },
    {
      "cell_type": "code",
      "metadata": {
        "id": "T_5j0TRI3kVv"
      },
      "source": [
        ""
      ],
      "execution_count": null,
      "outputs": []
    }
  ]
}