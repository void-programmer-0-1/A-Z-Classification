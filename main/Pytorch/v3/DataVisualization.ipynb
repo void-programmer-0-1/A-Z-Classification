{
  "nbformat": 4,
  "nbformat_minor": 0,
  "metadata": {
    "colab": {
      "name": "DataVisualization.ipynb",
      "provenance": []
    },
    "kernelspec": {
      "name": "python3",
      "display_name": "Python 3"
    },
    "language_info": {
      "name": "python"
    }
  },
  "cells": [
    {
      "cell_type": "code",
      "metadata": {
        "id": "SG8hqGQmrsJi"
      },
      "source": [
        "from zipfile import ZipFile\n",
        "import pandas as pd\n",
        "import numpy as np\n",
        "from torch.utils.data import Dataset,DataLoader\n",
        "import torchvision.transforms as transforms\n",
        "from PIL import Image\n",
        "\n",
        "from sklearn.model_selection import train_test_split"
      ],
      "execution_count": 21,
      "outputs": []
    },
    {
      "cell_type": "code",
      "metadata": {
        "colab": {
          "base_uri": "https://localhost:8080/"
        },
        "id": "np9jn0zorehM",
        "outputId": "c9c4263b-1eb5-42eb-fca7-a17d819f4369"
      },
      "source": [
        "from google.colab import drive\n",
        "drive.mount('/content/drive')"
      ],
      "execution_count": 1,
      "outputs": [
        {
          "output_type": "stream",
          "name": "stdout",
          "text": [
            "Mounted at /content/drive\n"
          ]
        }
      ]
    },
    {
      "cell_type": "code",
      "metadata": {
        "id": "Phynl0_Urhtb"
      },
      "source": [
        "zip_path = \"/content/drive/MyDrive/A-Z Dataset/A_Z Handwritten Data.csv.zip\""
      ],
      "execution_count": 2,
      "outputs": []
    },
    {
      "cell_type": "code",
      "metadata": {
        "id": "8ZO_AJTyrrkP"
      },
      "source": [
        "with ZipFile(zip_path) as zipfile:\n",
        "    zipfile.extractall()"
      ],
      "execution_count": 4,
      "outputs": []
    },
    {
      "cell_type": "code",
      "metadata": {
        "id": "o9BlKLnbr8WQ"
      },
      "source": [
        "csv_path = \"/content/A_Z Handwritten Data.csv\""
      ],
      "execution_count": 6,
      "outputs": []
    },
    {
      "cell_type": "code",
      "metadata": {
        "id": "0J6ES4PCr1O2"
      },
      "source": [
        "df = pd.read_csv(csv_path)"
      ],
      "execution_count": 7,
      "outputs": []
    },
    {
      "cell_type": "code",
      "metadata": {
        "id": "jRKeyGQfr6St"
      },
      "source": [
        "X = df.drop('0',axis = 1).to_numpy() # axis=1 is to say to drop along the columns\n",
        "y = df['0'].to_numpy()"
      ],
      "execution_count": 8,
      "outputs": []
    },
    {
      "cell_type": "code",
      "metadata": {
        "id": "WkppbGjmsDuM"
      },
      "source": [
        "X_train,X_test,y_train,y_test = train_test_split(X,y,test_size=0.2)"
      ],
      "execution_count": 11,
      "outputs": []
    },
    {
      "cell_type": "code",
      "metadata": {
        "id": "0_I4sL2VsLc0"
      },
      "source": [
        "del df"
      ],
      "execution_count": 12,
      "outputs": []
    },
    {
      "cell_type": "code",
      "metadata": {
        "id": "T4bSVK-asW-C"
      },
      "source": [
        "X_train, X_val, y_train, y_val = train_test_split(X_train,y_train,test_size=0.2)"
      ],
      "execution_count": 13,
      "outputs": []
    },
    {
      "cell_type": "code",
      "metadata": {
        "id": "SQ71wIjrshLx"
      },
      "source": [
        "class Alphabets(Dataset):\n",
        "\n",
        "  def __init__(self,X,y,transform=None):\n",
        "    self.X = X\n",
        "    self.y = y\n",
        "    self.transform = transform\n",
        "  \n",
        "  def __len__(self):\n",
        "    return len(self.X)\n",
        "  \n",
        "  def __getitem__(self,index):\n",
        "\n",
        "    image = Image.fromarray(((self.X[index]).astype(np.uint8)).reshape(28,28))\n",
        "    label = self.y[index]\n",
        "\n",
        "    if self.transform != None:\n",
        "      image = self.transform(image)\n",
        "    \n",
        "    return image,label\n"
      ],
      "execution_count": 16,
      "outputs": []
    },
    {
      "cell_type": "code",
      "metadata": {
        "id": "wHLzRK9Usu3S"
      },
      "source": [
        "transform = transforms.Compose([\n",
        "         transforms.ToTensor(),\n",
        "         transforms.RandomAffine(degrees=(-50,50),\n",
        "                                 translate=(0.2, 0.2),\n",
        "                                 scale=(0.5, 0.75))                      \n",
        "])"
      ],
      "execution_count": 28,
      "outputs": []
    },
    {
      "cell_type": "code",
      "metadata": {
        "id": "eX8pWO6LtV49"
      },
      "source": [
        "train_dataset = Alphabets(X_train,y_train,transform)\n",
        "test_dataset = Alphabets(X_test,y_test,transform)\n",
        "val_dataset = Alphabets(X_val,y_val,transform)"
      ],
      "execution_count": 29,
      "outputs": []
    },
    {
      "cell_type": "code",
      "metadata": {
        "id": "U3QpJ0vgta-N"
      },
      "source": [
        "train_dataset_loader = DataLoader(train_dataset,batch_size=100,shuffle=True)\n",
        "test_dataset_loader = DataLoader(test_dataset,batch_size=100,shuffle=True)\n",
        "val_dataset_loader = DataLoader(val_dataset,batch_size=100,shuffle=True)"
      ],
      "execution_count": 30,
      "outputs": []
    },
    {
      "cell_type": "code",
      "metadata": {
        "id": "uLIv218wtdWN"
      },
      "source": [
        "import torchvision\n",
        "\n",
        "inputs_batch, labels_batch = next(iter(train_dataset_loader))\n",
        "grid = torchvision.utils.make_grid(inputs_batch, nrow=40, pad_value=1)\n",
        "torchvision.utils.save_image(grid, 'inputs_batch_preview.png')"
      ],
      "execution_count": 31,
      "outputs": []
    },
    {
      "cell_type": "code",
      "metadata": {
        "id": "h8vItNvEthDV"
      },
      "source": [
        ""
      ],
      "execution_count": null,
      "outputs": []
    }
  ]
}